{
 "cells": [
  {
   "cell_type": "markdown",
   "metadata": {},
   "source": [
    "### Problem Statement :\n",
    "\n",
    "X Education sells online courses to industry professionals.The company markets its courses on several websites and search engines like Google.\n",
    "Once these people land on the website, they might browse the courses or fill up a form for the course or watch some videos.When \n",
    "these people fill up a form providing their email address or phone number, they are classified to be a lead. Moreover, the \n",
    "company also gets leads through past referrals. \n",
    "\n",
    "Once these leads are acquired, employees from the sales team start making calls, writing emails, etc. Through this process, \n",
    "some of the leads get converted while most do not.The typical lead conversion rate at X education is around 30%. \n",
    "\n",
    "### Business Goal :\n",
    "\n",
    "X Education needs help in selecting the most promising leads, i.e. the leads that are most likely to convert into paying \n",
    "customers. \n",
    "\n",
    "The company needs a model wherein you a lead score is assigned to each of the leads such that the customers with higher lead \n",
    "score have a higher conversion chance and the customers with lower lead score have a lower conversion chance. \n",
    "\n",
    "The CEO, in particular, has given a ballpark of the target lead conversion rate to be around 80%."
   ]
  },
  {
   "cell_type": "markdown",
   "metadata": {},
   "source": [
    "## Step 1: Reading and Understanding the Data\n",
    "\n",
    "Let us first import NumPy and Pandas and read the dataset"
   ]
  },
  {
   "cell_type": "code",
   "execution_count": 1,
   "metadata": {},
   "outputs": [],
   "source": [
    "# Supress Warnings\n",
    "\n",
    "import warnings\n",
    "warnings.filterwarnings('ignore')"
   ]
  },
  {
   "cell_type": "code",
   "execution_count": 2,
   "metadata": {},
   "outputs": [],
   "source": [
    "# Importing all required packages\n",
    "\n",
    "import numpy as np\n",
    "import pandas as pd\n",
    "import matplotlib.pyplot as plt\n",
    "import seaborn as sns\n"
   ]
  },
  {
   "cell_type": "code",
   "execution_count": 3,
   "metadata": {},
   "outputs": [
    {
     "data": {
      "text/html": [
       "<div>\n",
       "<style scoped>\n",
       "    .dataframe tbody tr th:only-of-type {\n",
       "        vertical-align: middle;\n",
       "    }\n",
       "\n",
       "    .dataframe tbody tr th {\n",
       "        vertical-align: top;\n",
       "    }\n",
       "\n",
       "    .dataframe thead th {\n",
       "        text-align: right;\n",
       "    }\n",
       "</style>\n",
       "<table border=\"1\" class=\"dataframe\">\n",
       "  <thead>\n",
       "    <tr style=\"text-align: right;\">\n",
       "      <th></th>\n",
       "      <th>Prospect ID</th>\n",
       "      <th>Lead Number</th>\n",
       "      <th>Lead Origin</th>\n",
       "      <th>Lead Source</th>\n",
       "      <th>Do Not Email</th>\n",
       "      <th>Do Not Call</th>\n",
       "      <th>Converted</th>\n",
       "      <th>TotalVisits</th>\n",
       "      <th>Total Time Spent on Website</th>\n",
       "      <th>Page Views Per Visit</th>\n",
       "      <th>...</th>\n",
       "      <th>Get updates on DM Content</th>\n",
       "      <th>Lead Profile</th>\n",
       "      <th>City</th>\n",
       "      <th>Asymmetrique Activity Index</th>\n",
       "      <th>Asymmetrique Profile Index</th>\n",
       "      <th>Asymmetrique Activity Score</th>\n",
       "      <th>Asymmetrique Profile Score</th>\n",
       "      <th>I agree to pay the amount through cheque</th>\n",
       "      <th>A free copy of Mastering The Interview</th>\n",
       "      <th>Last Notable Activity</th>\n",
       "    </tr>\n",
       "  </thead>\n",
       "  <tbody>\n",
       "    <tr>\n",
       "      <th>0</th>\n",
       "      <td>7927b2df-8bba-4d29-b9a2-b6e0beafe620</td>\n",
       "      <td>660737</td>\n",
       "      <td>API</td>\n",
       "      <td>Olark Chat</td>\n",
       "      <td>No</td>\n",
       "      <td>No</td>\n",
       "      <td>0</td>\n",
       "      <td>0.0</td>\n",
       "      <td>0</td>\n",
       "      <td>0.0</td>\n",
       "      <td>...</td>\n",
       "      <td>No</td>\n",
       "      <td>Select</td>\n",
       "      <td>Select</td>\n",
       "      <td>02.Medium</td>\n",
       "      <td>02.Medium</td>\n",
       "      <td>15.0</td>\n",
       "      <td>15.0</td>\n",
       "      <td>No</td>\n",
       "      <td>No</td>\n",
       "      <td>Modified</td>\n",
       "    </tr>\n",
       "    <tr>\n",
       "      <th>1</th>\n",
       "      <td>2a272436-5132-4136-86fa-dcc88c88f482</td>\n",
       "      <td>660728</td>\n",
       "      <td>API</td>\n",
       "      <td>Organic Search</td>\n",
       "      <td>No</td>\n",
       "      <td>No</td>\n",
       "      <td>0</td>\n",
       "      <td>5.0</td>\n",
       "      <td>674</td>\n",
       "      <td>2.5</td>\n",
       "      <td>...</td>\n",
       "      <td>No</td>\n",
       "      <td>Select</td>\n",
       "      <td>Select</td>\n",
       "      <td>02.Medium</td>\n",
       "      <td>02.Medium</td>\n",
       "      <td>15.0</td>\n",
       "      <td>15.0</td>\n",
       "      <td>No</td>\n",
       "      <td>No</td>\n",
       "      <td>Email Opened</td>\n",
       "    </tr>\n",
       "    <tr>\n",
       "      <th>2</th>\n",
       "      <td>8cc8c611-a219-4f35-ad23-fdfd2656bd8a</td>\n",
       "      <td>660727</td>\n",
       "      <td>Landing Page Submission</td>\n",
       "      <td>Direct Traffic</td>\n",
       "      <td>No</td>\n",
       "      <td>No</td>\n",
       "      <td>1</td>\n",
       "      <td>2.0</td>\n",
       "      <td>1532</td>\n",
       "      <td>2.0</td>\n",
       "      <td>...</td>\n",
       "      <td>No</td>\n",
       "      <td>Potential Lead</td>\n",
       "      <td>Mumbai</td>\n",
       "      <td>02.Medium</td>\n",
       "      <td>01.High</td>\n",
       "      <td>14.0</td>\n",
       "      <td>20.0</td>\n",
       "      <td>No</td>\n",
       "      <td>Yes</td>\n",
       "      <td>Email Opened</td>\n",
       "    </tr>\n",
       "    <tr>\n",
       "      <th>3</th>\n",
       "      <td>0cc2df48-7cf4-4e39-9de9-19797f9b38cc</td>\n",
       "      <td>660719</td>\n",
       "      <td>Landing Page Submission</td>\n",
       "      <td>Direct Traffic</td>\n",
       "      <td>No</td>\n",
       "      <td>No</td>\n",
       "      <td>0</td>\n",
       "      <td>1.0</td>\n",
       "      <td>305</td>\n",
       "      <td>1.0</td>\n",
       "      <td>...</td>\n",
       "      <td>No</td>\n",
       "      <td>Select</td>\n",
       "      <td>Mumbai</td>\n",
       "      <td>02.Medium</td>\n",
       "      <td>01.High</td>\n",
       "      <td>13.0</td>\n",
       "      <td>17.0</td>\n",
       "      <td>No</td>\n",
       "      <td>No</td>\n",
       "      <td>Modified</td>\n",
       "    </tr>\n",
       "    <tr>\n",
       "      <th>4</th>\n",
       "      <td>3256f628-e534-4826-9d63-4a8b88782852</td>\n",
       "      <td>660681</td>\n",
       "      <td>Landing Page Submission</td>\n",
       "      <td>Google</td>\n",
       "      <td>No</td>\n",
       "      <td>No</td>\n",
       "      <td>1</td>\n",
       "      <td>2.0</td>\n",
       "      <td>1428</td>\n",
       "      <td>1.0</td>\n",
       "      <td>...</td>\n",
       "      <td>No</td>\n",
       "      <td>Select</td>\n",
       "      <td>Mumbai</td>\n",
       "      <td>02.Medium</td>\n",
       "      <td>01.High</td>\n",
       "      <td>15.0</td>\n",
       "      <td>18.0</td>\n",
       "      <td>No</td>\n",
       "      <td>No</td>\n",
       "      <td>Modified</td>\n",
       "    </tr>\n",
       "  </tbody>\n",
       "</table>\n",
       "<p>5 rows × 37 columns</p>\n",
       "</div>"
      ],
      "text/plain": [
       "                            Prospect ID  Lead Number              Lead Origin  \\\n",
       "0  7927b2df-8bba-4d29-b9a2-b6e0beafe620       660737                      API   \n",
       "1  2a272436-5132-4136-86fa-dcc88c88f482       660728                      API   \n",
       "2  8cc8c611-a219-4f35-ad23-fdfd2656bd8a       660727  Landing Page Submission   \n",
       "3  0cc2df48-7cf4-4e39-9de9-19797f9b38cc       660719  Landing Page Submission   \n",
       "4  3256f628-e534-4826-9d63-4a8b88782852       660681  Landing Page Submission   \n",
       "\n",
       "      Lead Source Do Not Email Do Not Call  Converted  TotalVisits  \\\n",
       "0      Olark Chat           No          No          0          0.0   \n",
       "1  Organic Search           No          No          0          5.0   \n",
       "2  Direct Traffic           No          No          1          2.0   \n",
       "3  Direct Traffic           No          No          0          1.0   \n",
       "4          Google           No          No          1          2.0   \n",
       "\n",
       "   Total Time Spent on Website  Page Views Per Visit  ...  \\\n",
       "0                            0                   0.0  ...   \n",
       "1                          674                   2.5  ...   \n",
       "2                         1532                   2.0  ...   \n",
       "3                          305                   1.0  ...   \n",
       "4                         1428                   1.0  ...   \n",
       "\n",
       "  Get updates on DM Content    Lead Profile    City  \\\n",
       "0                        No          Select  Select   \n",
       "1                        No          Select  Select   \n",
       "2                        No  Potential Lead  Mumbai   \n",
       "3                        No          Select  Mumbai   \n",
       "4                        No          Select  Mumbai   \n",
       "\n",
       "  Asymmetrique Activity Index Asymmetrique Profile Index  \\\n",
       "0                   02.Medium                  02.Medium   \n",
       "1                   02.Medium                  02.Medium   \n",
       "2                   02.Medium                    01.High   \n",
       "3                   02.Medium                    01.High   \n",
       "4                   02.Medium                    01.High   \n",
       "\n",
       "  Asymmetrique Activity Score Asymmetrique Profile Score  \\\n",
       "0                        15.0                       15.0   \n",
       "1                        15.0                       15.0   \n",
       "2                        14.0                       20.0   \n",
       "3                        13.0                       17.0   \n",
       "4                        15.0                       18.0   \n",
       "\n",
       "  I agree to pay the amount through cheque  \\\n",
       "0                                       No   \n",
       "1                                       No   \n",
       "2                                       No   \n",
       "3                                       No   \n",
       "4                                       No   \n",
       "\n",
       "  A free copy of Mastering The Interview Last Notable Activity  \n",
       "0                                     No              Modified  \n",
       "1                                     No          Email Opened  \n",
       "2                                    Yes          Email Opened  \n",
       "3                                     No              Modified  \n",
       "4                                     No              Modified  \n",
       "\n",
       "[5 rows x 37 columns]"
      ]
     },
     "execution_count": 3,
     "metadata": {},
     "output_type": "execute_result"
    }
   ],
   "source": [
    "# Importing dataset\n",
    "\n",
    "df = pd.read_csv('Leads.csv')\n",
    "df.head()"
   ]
  },
  {
   "cell_type": "code",
   "execution_count": 4,
   "metadata": {},
   "outputs": [
    {
     "name": "stdout",
     "output_type": "stream",
     "text": [
      "<class 'pandas.core.frame.DataFrame'>\n",
      "RangeIndex: 9240 entries, 0 to 9239\n",
      "Data columns (total 37 columns):\n",
      " #   Column                                         Non-Null Count  Dtype  \n",
      "---  ------                                         --------------  -----  \n",
      " 0   Prospect ID                                    9240 non-null   object \n",
      " 1   Lead Number                                    9240 non-null   int64  \n",
      " 2   Lead Origin                                    9240 non-null   object \n",
      " 3   Lead Source                                    9204 non-null   object \n",
      " 4   Do Not Email                                   9240 non-null   object \n",
      " 5   Do Not Call                                    9240 non-null   object \n",
      " 6   Converted                                      9240 non-null   int64  \n",
      " 7   TotalVisits                                    9103 non-null   float64\n",
      " 8   Total Time Spent on Website                    9240 non-null   int64  \n",
      " 9   Page Views Per Visit                           9103 non-null   float64\n",
      " 10  Last Activity                                  9137 non-null   object \n",
      " 11  Country                                        6779 non-null   object \n",
      " 12  Specialization                                 7802 non-null   object \n",
      " 13  How did you hear about X Education             7033 non-null   object \n",
      " 14  What is your current occupation                6550 non-null   object \n",
      " 15  What matters most to you in choosing a course  6531 non-null   object \n",
      " 16  Search                                         9240 non-null   object \n",
      " 17  Magazine                                       9240 non-null   object \n",
      " 18  Newspaper Article                              9240 non-null   object \n",
      " 19  X Education Forums                             9240 non-null   object \n",
      " 20  Newspaper                                      9240 non-null   object \n",
      " 21  Digital Advertisement                          9240 non-null   object \n",
      " 22  Through Recommendations                        9240 non-null   object \n",
      " 23  Receive More Updates About Our Courses         9240 non-null   object \n",
      " 24  Tags                                           5887 non-null   object \n",
      " 25  Lead Quality                                   4473 non-null   object \n",
      " 26  Update me on Supply Chain Content              9240 non-null   object \n",
      " 27  Get updates on DM Content                      9240 non-null   object \n",
      " 28  Lead Profile                                   6531 non-null   object \n",
      " 29  City                                           7820 non-null   object \n",
      " 30  Asymmetrique Activity Index                    5022 non-null   object \n",
      " 31  Asymmetrique Profile Index                     5022 non-null   object \n",
      " 32  Asymmetrique Activity Score                    5022 non-null   float64\n",
      " 33  Asymmetrique Profile Score                     5022 non-null   float64\n",
      " 34  I agree to pay the amount through cheque       9240 non-null   object \n",
      " 35  A free copy of Mastering The Interview         9240 non-null   object \n",
      " 36  Last Notable Activity                          9240 non-null   object \n",
      "dtypes: float64(4), int64(3), object(30)\n",
      "memory usage: 2.6+ MB\n"
     ]
    }
   ],
   "source": [
    "# inspect df dataframe\n",
    "\n",
    "df.info()\n"
   ]
  },
  {
   "cell_type": "code",
   "execution_count": 5,
   "metadata": {},
   "outputs": [
    {
     "data": {
      "text/plain": [
       "(9240, 37)"
      ]
     },
     "execution_count": 5,
     "metadata": {},
     "output_type": "execute_result"
    }
   ],
   "source": [
    "\n",
    "df.shape\n"
   ]
  },
  {
   "cell_type": "code",
   "execution_count": 6,
   "metadata": {},
   "outputs": [
    {
     "data": {
      "text/plain": [
       "Prospect ID                                      False\n",
       "Lead Number                                      False\n",
       "Lead Origin                                      False\n",
       "Lead Source                                       True\n",
       "Do Not Email                                     False\n",
       "Do Not Call                                      False\n",
       "Converted                                        False\n",
       "TotalVisits                                       True\n",
       "Total Time Spent on Website                      False\n",
       "Page Views Per Visit                              True\n",
       "Last Activity                                     True\n",
       "Country                                           True\n",
       "Specialization                                    True\n",
       "How did you hear about X Education                True\n",
       "What is your current occupation                   True\n",
       "What matters most to you in choosing a course     True\n",
       "Search                                           False\n",
       "Magazine                                         False\n",
       "Newspaper Article                                False\n",
       "X Education Forums                               False\n",
       "Newspaper                                        False\n",
       "Digital Advertisement                            False\n",
       "Through Recommendations                          False\n",
       "Receive More Updates About Our Courses           False\n",
       "Tags                                              True\n",
       "Lead Quality                                      True\n",
       "Update me on Supply Chain Content                False\n",
       "Get updates on DM Content                        False\n",
       "Lead Profile                                      True\n",
       "City                                              True\n",
       "Asymmetrique Activity Index                       True\n",
       "Asymmetrique Profile Index                        True\n",
       "Asymmetrique Activity Score                       True\n",
       "Asymmetrique Profile Score                        True\n",
       "I agree to pay the amount through cheque         False\n",
       "A free copy of Mastering The Interview           False\n",
       "Last Notable Activity                            False\n",
       "dtype: bool"
      ]
     },
     "execution_count": 6,
     "metadata": {},
     "output_type": "execute_result"
    }
   ],
   "source": [
    "df.isnull().any()"
   ]
  },
  {
   "cell_type": "code",
   "execution_count": 7,
   "metadata": {},
   "outputs": [
    {
     "data": {
      "text/html": [
       "<div>\n",
       "<style scoped>\n",
       "    .dataframe tbody tr th:only-of-type {\n",
       "        vertical-align: middle;\n",
       "    }\n",
       "\n",
       "    .dataframe tbody tr th {\n",
       "        vertical-align: top;\n",
       "    }\n",
       "\n",
       "    .dataframe thead th {\n",
       "        text-align: right;\n",
       "    }\n",
       "</style>\n",
       "<table border=\"1\" class=\"dataframe\">\n",
       "  <thead>\n",
       "    <tr style=\"text-align: right;\">\n",
       "      <th></th>\n",
       "      <th>Lead Number</th>\n",
       "      <th>Converted</th>\n",
       "      <th>TotalVisits</th>\n",
       "      <th>Total Time Spent on Website</th>\n",
       "      <th>Page Views Per Visit</th>\n",
       "      <th>Asymmetrique Activity Score</th>\n",
       "      <th>Asymmetrique Profile Score</th>\n",
       "    </tr>\n",
       "  </thead>\n",
       "  <tbody>\n",
       "    <tr>\n",
       "      <th>count</th>\n",
       "      <td>9240.000000</td>\n",
       "      <td>9240.000000</td>\n",
       "      <td>9103.000000</td>\n",
       "      <td>9240.000000</td>\n",
       "      <td>9103.000000</td>\n",
       "      <td>5022.000000</td>\n",
       "      <td>5022.000000</td>\n",
       "    </tr>\n",
       "    <tr>\n",
       "      <th>mean</th>\n",
       "      <td>617188.435606</td>\n",
       "      <td>0.385390</td>\n",
       "      <td>3.445238</td>\n",
       "      <td>487.698268</td>\n",
       "      <td>2.362820</td>\n",
       "      <td>14.306252</td>\n",
       "      <td>16.344883</td>\n",
       "    </tr>\n",
       "    <tr>\n",
       "      <th>std</th>\n",
       "      <td>23405.995698</td>\n",
       "      <td>0.486714</td>\n",
       "      <td>4.854853</td>\n",
       "      <td>548.021466</td>\n",
       "      <td>2.161418</td>\n",
       "      <td>1.386694</td>\n",
       "      <td>1.811395</td>\n",
       "    </tr>\n",
       "    <tr>\n",
       "      <th>min</th>\n",
       "      <td>579533.000000</td>\n",
       "      <td>0.000000</td>\n",
       "      <td>0.000000</td>\n",
       "      <td>0.000000</td>\n",
       "      <td>0.000000</td>\n",
       "      <td>7.000000</td>\n",
       "      <td>11.000000</td>\n",
       "    </tr>\n",
       "    <tr>\n",
       "      <th>25%</th>\n",
       "      <td>596484.500000</td>\n",
       "      <td>0.000000</td>\n",
       "      <td>1.000000</td>\n",
       "      <td>12.000000</td>\n",
       "      <td>1.000000</td>\n",
       "      <td>14.000000</td>\n",
       "      <td>15.000000</td>\n",
       "    </tr>\n",
       "    <tr>\n",
       "      <th>50%</th>\n",
       "      <td>615479.000000</td>\n",
       "      <td>0.000000</td>\n",
       "      <td>3.000000</td>\n",
       "      <td>248.000000</td>\n",
       "      <td>2.000000</td>\n",
       "      <td>14.000000</td>\n",
       "      <td>16.000000</td>\n",
       "    </tr>\n",
       "    <tr>\n",
       "      <th>75%</th>\n",
       "      <td>637387.250000</td>\n",
       "      <td>1.000000</td>\n",
       "      <td>5.000000</td>\n",
       "      <td>936.000000</td>\n",
       "      <td>3.000000</td>\n",
       "      <td>15.000000</td>\n",
       "      <td>18.000000</td>\n",
       "    </tr>\n",
       "    <tr>\n",
       "      <th>max</th>\n",
       "      <td>660737.000000</td>\n",
       "      <td>1.000000</td>\n",
       "      <td>251.000000</td>\n",
       "      <td>2272.000000</td>\n",
       "      <td>55.000000</td>\n",
       "      <td>18.000000</td>\n",
       "      <td>20.000000</td>\n",
       "    </tr>\n",
       "  </tbody>\n",
       "</table>\n",
       "</div>"
      ],
      "text/plain": [
       "         Lead Number    Converted  TotalVisits  Total Time Spent on Website  \\\n",
       "count    9240.000000  9240.000000  9103.000000                  9240.000000   \n",
       "mean   617188.435606     0.385390     3.445238                   487.698268   \n",
       "std     23405.995698     0.486714     4.854853                   548.021466   \n",
       "min    579533.000000     0.000000     0.000000                     0.000000   \n",
       "25%    596484.500000     0.000000     1.000000                    12.000000   \n",
       "50%    615479.000000     0.000000     3.000000                   248.000000   \n",
       "75%    637387.250000     1.000000     5.000000                   936.000000   \n",
       "max    660737.000000     1.000000   251.000000                  2272.000000   \n",
       "\n",
       "       Page Views Per Visit  Asymmetrique Activity Score  \\\n",
       "count           9103.000000                  5022.000000   \n",
       "mean               2.362820                    14.306252   \n",
       "std                2.161418                     1.386694   \n",
       "min                0.000000                     7.000000   \n",
       "25%                1.000000                    14.000000   \n",
       "50%                2.000000                    14.000000   \n",
       "75%                3.000000                    15.000000   \n",
       "max               55.000000                    18.000000   \n",
       "\n",
       "       Asymmetrique Profile Score  \n",
       "count                 5022.000000  \n",
       "mean                    16.344883  \n",
       "std                      1.811395  \n",
       "min                     11.000000  \n",
       "25%                     15.000000  \n",
       "50%                     16.000000  \n",
       "75%                     18.000000  \n",
       "max                     20.000000  "
      ]
     },
     "execution_count": 7,
     "metadata": {},
     "output_type": "execute_result"
    }
   ],
   "source": [
    "df.describe()"
   ]
  },
  {
   "cell_type": "markdown",
   "metadata": {},
   "source": [
    "## Step 2: Data Cleaning"
   ]
  },
  {
   "cell_type": "code",
   "execution_count": 8,
   "metadata": {},
   "outputs": [
    {
     "name": "stdout",
     "output_type": "stream",
     "text": [
      "Prospect ID                                       0.00\n",
      "Lead Number                                       0.00\n",
      "Lead Origin                                       0.00\n",
      "Lead Source                                       0.39\n",
      "Do Not Email                                      0.00\n",
      "Do Not Call                                       0.00\n",
      "Converted                                         0.00\n",
      "TotalVisits                                       1.48\n",
      "Total Time Spent on Website                       0.00\n",
      "Page Views Per Visit                              1.48\n",
      "Last Activity                                     1.11\n",
      "Country                                          26.63\n",
      "Specialization                                   15.56\n",
      "How did you hear about X Education               23.89\n",
      "What is your current occupation                  29.11\n",
      "What matters most to you in choosing a course    29.32\n",
      "Search                                            0.00\n",
      "Magazine                                          0.00\n",
      "Newspaper Article                                 0.00\n",
      "X Education Forums                                0.00\n",
      "Newspaper                                         0.00\n",
      "Digital Advertisement                             0.00\n",
      "Through Recommendations                           0.00\n",
      "Receive More Updates About Our Courses            0.00\n",
      "Tags                                             36.29\n",
      "Lead Quality                                     51.59\n",
      "Update me on Supply Chain Content                 0.00\n",
      "Get updates on DM Content                         0.00\n",
      "Lead Profile                                     29.32\n",
      "City                                             15.37\n",
      "Asymmetrique Activity Index                      45.65\n",
      "Asymmetrique Profile Index                       45.65\n",
      "Asymmetrique Activity Score                      45.65\n",
      "Asymmetrique Profile Score                       45.65\n",
      "I agree to pay the amount through cheque          0.00\n",
      "A free copy of Mastering The Interview            0.00\n",
      "Last Notable Activity                             0.00\n",
      "dtype: float64\n"
     ]
    }
   ],
   "source": [
    "# check for percentage of null values in each column\n",
    "\n",
    "nullvalues = round(100*(df.isnull().sum()/len(df.index)), 2)\n",
    "print(nullvalues)"
   ]
  },
  {
   "cell_type": "markdown",
   "metadata": {},
   "source": [
    "There are some columns that have more than 25% null values."
   ]
  },
  {
   "cell_type": "code",
   "execution_count": 9,
   "metadata": {},
   "outputs": [
    {
     "data": {
      "text/html": [
       "<div>\n",
       "<style scoped>\n",
       "    .dataframe tbody tr th:only-of-type {\n",
       "        vertical-align: middle;\n",
       "    }\n",
       "\n",
       "    .dataframe tbody tr th {\n",
       "        vertical-align: top;\n",
       "    }\n",
       "\n",
       "    .dataframe thead th {\n",
       "        text-align: right;\n",
       "    }\n",
       "</style>\n",
       "<table border=\"1\" class=\"dataframe\">\n",
       "  <thead>\n",
       "    <tr style=\"text-align: right;\">\n",
       "      <th></th>\n",
       "      <th>Prospect ID</th>\n",
       "      <th>Lead Number</th>\n",
       "      <th>Lead Origin</th>\n",
       "      <th>Lead Source</th>\n",
       "      <th>Do Not Email</th>\n",
       "      <th>Do Not Call</th>\n",
       "      <th>Converted</th>\n",
       "      <th>TotalVisits</th>\n",
       "      <th>Total Time Spent on Website</th>\n",
       "      <th>Page Views Per Visit</th>\n",
       "      <th>...</th>\n",
       "      <th>Get updates on DM Content</th>\n",
       "      <th>Lead Profile</th>\n",
       "      <th>City</th>\n",
       "      <th>Asymmetrique Activity Index</th>\n",
       "      <th>Asymmetrique Profile Index</th>\n",
       "      <th>Asymmetrique Activity Score</th>\n",
       "      <th>Asymmetrique Profile Score</th>\n",
       "      <th>I agree to pay the amount through cheque</th>\n",
       "      <th>A free copy of Mastering The Interview</th>\n",
       "      <th>Last Notable Activity</th>\n",
       "    </tr>\n",
       "  </thead>\n",
       "  <tbody>\n",
       "  </tbody>\n",
       "</table>\n",
       "<p>0 rows × 37 columns</p>\n",
       "</div>"
      ],
      "text/plain": [
       "Empty DataFrame\n",
       "Columns: [Prospect ID, Lead Number, Lead Origin, Lead Source, Do Not Email, Do Not Call, Converted, TotalVisits, Total Time Spent on Website, Page Views Per Visit, Last Activity, Country, Specialization, How did you hear about X Education, What is your current occupation, What matters most to you in choosing a course, Search, Magazine, Newspaper Article, X Education Forums, Newspaper, Digital Advertisement, Through Recommendations, Receive More Updates About Our Courses, Tags, Lead Quality, Update me on Supply Chain Content, Get updates on DM Content, Lead Profile, City, Asymmetrique Activity Index, Asymmetrique Profile Index, Asymmetrique Activity Score, Asymmetrique Profile Score, I agree to pay the amount through cheque, A free copy of Mastering The Interview, Last Notable Activity]\n",
       "Index: []\n",
       "\n",
       "[0 rows x 37 columns]"
      ]
     },
     "execution_count": 9,
     "metadata": {},
     "output_type": "execute_result"
    }
   ],
   "source": [
    "# Check if there are any duplicate values in the dataset\n",
    "\n",
    "df[df.duplicated(keep=False)]"
   ]
  },
  {
   "cell_type": "markdown",
   "metadata": {},
   "source": [
    "There are no duplicate values in the data."
   ]
  },
  {
   "cell_type": "code",
   "execution_count": 10,
   "metadata": {},
   "outputs": [],
   "source": [
    "#Converting 'Select' values to NaN.\n",
    "# certain columns have a value called select. Convert those values as nan since the customer has not selected any options for \n",
    "# these columns while entering the data.\n",
    "\n",
    "\n",
    "df = df.replace('Select', np.nan)"
   ]
  },
  {
   "cell_type": "code",
   "execution_count": 11,
   "metadata": {},
   "outputs": [
    {
     "name": "stdout",
     "output_type": "stream",
     "text": [
      "Prospect ID                                       0.00\n",
      "Lead Number                                       0.00\n",
      "Lead Origin                                       0.00\n",
      "Lead Source                                       0.39\n",
      "Do Not Email                                      0.00\n",
      "Do Not Call                                       0.00\n",
      "Converted                                         0.00\n",
      "TotalVisits                                       1.48\n",
      "Total Time Spent on Website                       0.00\n",
      "Page Views Per Visit                              1.48\n",
      "Last Activity                                     1.11\n",
      "Country                                          26.63\n",
      "Specialization                                   36.58\n",
      "How did you hear about X Education               78.46\n",
      "What is your current occupation                  29.11\n",
      "What matters most to you in choosing a course    29.32\n",
      "Search                                            0.00\n",
      "Magazine                                          0.00\n",
      "Newspaper Article                                 0.00\n",
      "X Education Forums                                0.00\n",
      "Newspaper                                         0.00\n",
      "Digital Advertisement                             0.00\n",
      "Through Recommendations                           0.00\n",
      "Receive More Updates About Our Courses            0.00\n",
      "Tags                                             36.29\n",
      "Lead Quality                                     51.59\n",
      "Update me on Supply Chain Content                 0.00\n",
      "Get updates on DM Content                         0.00\n",
      "Lead Profile                                     74.19\n",
      "City                                             39.71\n",
      "Asymmetrique Activity Index                      45.65\n",
      "Asymmetrique Profile Index                       45.65\n",
      "Asymmetrique Activity Score                      45.65\n",
      "Asymmetrique Profile Score                       45.65\n",
      "I agree to pay the amount through cheque          0.00\n",
      "A free copy of Mastering The Interview            0.00\n",
      "Last Notable Activity                             0.00\n",
      "dtype: float64\n"
     ]
    }
   ],
   "source": [
    "# checking  again for percentage of null values in each column\n",
    "\n",
    "nv= round(100*(df.isnull().sum()/len(df.index)), 2)\n",
    "print(nv)"
   ]
  },
  {
   "cell_type": "code",
   "execution_count": 12,
   "metadata": {},
   "outputs": [],
   "source": [
    "# Let us drop the following columns that have more than 30% null values\n",
    "\n",
    "# a) Specialization\n",
    "# b) How did you hear about X Education\n",
    "# c) Tags\n",
    "# d) Lead Quality\n",
    "# e) Lead Profile\n",
    "# f) City\n",
    "# g) Asymmetrique Activity Index\n",
    "# h) Asymmetrique Profile Index\n",
    "# i) Asymmetrique Activity Score\n",
    "# j) Asymmetrique Profile Score\n",
    "\n",
    "df = df.drop(['Specialization', 'How did you hear about X Education', 'Tags', 'Lead Quality',\n",
    "                          'Lead Profile','City', 'Asymmetrique Activity Index', 'Asymmetrique Profile Index',\n",
    "                          'Asymmetrique Activity Score', 'Asymmetrique Profile Score'], axis=1)"
   ]
  },
  {
   "cell_type": "code",
   "execution_count": 13,
   "metadata": {},
   "outputs": [
    {
     "data": {
      "text/plain": [
       "(9240, 27)"
      ]
     },
     "execution_count": 13,
     "metadata": {},
     "output_type": "execute_result"
    }
   ],
   "source": [
    "df.shape"
   ]
  },
  {
   "cell_type": "code",
   "execution_count": 14,
   "metadata": {},
   "outputs": [
    {
     "data": {
      "text/plain": [
       "Prospect ID                                         0\n",
       "Lead Number                                         0\n",
       "Lead Origin                                         0\n",
       "Lead Source                                        36\n",
       "Do Not Email                                        0\n",
       "Do Not Call                                         0\n",
       "Converted                                           0\n",
       "TotalVisits                                       137\n",
       "Total Time Spent on Website                         0\n",
       "Page Views Per Visit                              137\n",
       "Last Activity                                     103\n",
       "Country                                          2461\n",
       "What is your current occupation                  2690\n",
       "What matters most to you in choosing a course    2709\n",
       "Search                                              0\n",
       "Magazine                                            0\n",
       "Newspaper Article                                   0\n",
       "X Education Forums                                  0\n",
       "Newspaper                                           0\n",
       "Digital Advertisement                               0\n",
       "Through Recommendations                             0\n",
       "Receive More Updates About Our Courses              0\n",
       "Update me on Supply Chain Content                   0\n",
       "Get updates on DM Content                           0\n",
       "I agree to pay the amount through cheque            0\n",
       "A free copy of Mastering The Interview              0\n",
       "Last Notable Activity                               0\n",
       "dtype: int64"
      ]
     },
     "execution_count": 14,
     "metadata": {},
     "output_type": "execute_result"
    }
   ],
   "source": [
    "df.isnull().sum()"
   ]
  },
  {
   "cell_type": "code",
   "execution_count": 15,
   "metadata": {},
   "outputs": [
    {
     "name": "stdout",
     "output_type": "stream",
     "text": [
      "Prospect ID                                       0.00\n",
      "Lead Number                                       0.00\n",
      "Lead Origin                                       0.00\n",
      "Lead Source                                       0.39\n",
      "Do Not Email                                      0.00\n",
      "Do Not Call                                       0.00\n",
      "Converted                                         0.00\n",
      "TotalVisits                                       1.48\n",
      "Total Time Spent on Website                       0.00\n",
      "Page Views Per Visit                              1.48\n",
      "Last Activity                                     1.11\n",
      "Country                                          26.63\n",
      "What is your current occupation                  29.11\n",
      "What matters most to you in choosing a course    29.32\n",
      "Search                                            0.00\n",
      "Magazine                                          0.00\n",
      "Newspaper Article                                 0.00\n",
      "X Education Forums                                0.00\n",
      "Newspaper                                         0.00\n",
      "Digital Advertisement                             0.00\n",
      "Through Recommendations                           0.00\n",
      "Receive More Updates About Our Courses            0.00\n",
      "Update me on Supply Chain Content                 0.00\n",
      "Get updates on DM Content                         0.00\n",
      "I agree to pay the amount through cheque          0.00\n",
      "A free copy of Mastering The Interview            0.00\n",
      "Last Notable Activity                             0.00\n",
      "dtype: float64\n"
     ]
    }
   ],
   "source": [
    "# check for percentage of null values in each column after dropping columns having more than 30% null values\n",
    "\n",
    "nv = round(100*(df.isnull().sum()/len(df.index)), 2)\n",
    "print(nv)"
   ]
  },
  {
   "cell_type": "markdown",
   "metadata": {},
   "source": [
    "Following columns have null values :\n",
    "    - Country\n",
    "    - Lead Source\n",
    "    - Total Visits\n",
    "    - Page Views Per Visit\n",
    "    - Last Activity    \n",
    "    - What is your current occupation\n",
    "    - What matters most to you in choosing a course\n",
    "    \n",
    "Let us see and decide whather we need to impute values in the above column or drop the columns."
   ]
  },
  {
   "cell_type": "code",
   "execution_count": 16,
   "metadata": {},
   "outputs": [
    {
     "data": {
      "text/plain": [
       "India                   6492\n",
       "United States             69\n",
       "United Arab Emirates      53\n",
       "Singapore                 24\n",
       "Saudi Arabia              21\n",
       "United Kingdom            15\n",
       "Australia                 13\n",
       "Qatar                     10\n",
       "Hong Kong                  7\n",
       "Bahrain                    7\n",
       "France                     6\n",
       "Oman                       6\n",
       "unknown                    5\n",
       "Canada                     4\n",
       "Kuwait                     4\n",
       "South Africa               4\n",
       "Nigeria                    4\n",
       "Germany                    4\n",
       "Sweden                     3\n",
       "Italy                      2\n",
       "Philippines                2\n",
       "Asia/Pacific Region        2\n",
       "Netherlands                2\n",
       "Ghana                      2\n",
       "Bangladesh                 2\n",
       "China                      2\n",
       "Belgium                    2\n",
       "Uganda                     2\n",
       "Malaysia                   1\n",
       "Indonesia                  1\n",
       "Vietnam                    1\n",
       "Switzerland                1\n",
       "Tanzania                   1\n",
       "Denmark                    1\n",
       "Russia                     1\n",
       "Liberia                    1\n",
       "Kenya                      1\n",
       "Sri Lanka                  1\n",
       "Name: Country, dtype: int64"
      ]
     },
     "execution_count": 16,
     "metadata": {},
     "output_type": "execute_result"
    }
   ],
   "source": [
    "# Lets check the value counts for each values in the country column\n",
    "\n",
    "df.Country.value_counts()\n"
   ]
  },
  {
   "cell_type": "code",
   "execution_count": 17,
   "metadata": {},
   "outputs": [
    {
     "data": {
      "image/png": "[encoded data removed]",
      "text/plain": [
       "<Figure size 1080x360 with 1 Axes>"
      ]
     },
     "metadata": {
      "needs_background": "light"
     },
     "output_type": "display_data"
    }
   ],
   "source": [
    "#plotting spread of Country columnn \n",
    "\n",
    "plt.figure(figsize=(15,5))\n",
    "s1=sns.countplot(df.Country, hue=df.Converted)\n",
    "s1.set_xticklabels(s1.get_xticklabels(),rotation=90)\n",
    "plt.show()"
   ]
  },
  {
   "cell_type": "code",
   "execution_count": 18,
   "metadata": {},
   "outputs": [
    {
     "name": "stdout",
     "output_type": "stream",
     "text": [
      "70.26\n"
     ]
    }
   ],
   "source": [
    "# check the percentage of India as value in the country column\n",
    "\n",
    "country_percentage = round(100*len(df[df['Country'] == 'India'])/len(df['Country']),2)\n",
    "print(country_percentage)"
   ]
  },
  {
   "cell_type": "code",
   "execution_count": 19,
   "metadata": {},
   "outputs": [],
   "source": [
    "# Since \"India\" occurs around 70.26% of times in the Country column, and country column also has around 26.63% as missing values, \n",
    "# we shall go ahead and drop the column\n",
    "\n",
    "df = df.drop(['Country'], axis=1)"
   ]
  },
  {
   "cell_type": "code",
   "execution_count": 20,
   "metadata": {},
   "outputs": [
    {
     "data": {
      "text/plain": [
       "Google               2868\n",
       "Direct Traffic       2543\n",
       "Olark Chat           1755\n",
       "Organic Search       1154\n",
       "Reference             534\n",
       "Welingak Website      142\n",
       "Referral Sites        125\n",
       "Facebook               55\n",
       "bing                    6\n",
       "google                  5\n",
       "Click2call              4\n",
       "Press_Release           2\n",
       "Social Media            2\n",
       "Live Chat               2\n",
       "Pay per Click Ads       1\n",
       "WeLearn                 1\n",
       "testone                 1\n",
       "NC_EDM                  1\n",
       "youtubechannel          1\n",
       "welearnblog_Home        1\n",
       "blog                    1\n",
       "Name: Lead Source, dtype: int64"
      ]
     },
     "execution_count": 20,
     "metadata": {},
     "output_type": "execute_result"
    }
   ],
   "source": [
    "# Check the value counts for the column Lead Source\n",
    "\n",
    "df['Lead Source'].value_counts()"
   ]
  },
  {
   "cell_type": "code",
   "execution_count": 21,
   "metadata": {},
   "outputs": [],
   "source": [
    "# From the above it can be noticed that Google appears twice with different cases. Hence we shall convert all rows with value \n",
    "# \"Google\" to the same case.\n",
    "\n",
    "df['Lead Source'] = df['Lead Source'].replace('google', 'Google')\n"
   ]
  },
  {
   "cell_type": "code",
   "execution_count": 22,
   "metadata": {},
   "outputs": [],
   "source": [
    "\n",
    "#  since \"Google\" has the major chunk of data, Also the null values are very less in percentage \n",
    "# we can impute the null values with Google \n",
    "\n",
    "df['Lead Source'] = df['Lead Source'].replace(np.nan, 'Google')"
   ]
  },
  {
   "cell_type": "code",
   "execution_count": 23,
   "metadata": {},
   "outputs": [
    {
     "data": {
      "text/plain": [
       "0.0      2189\n",
       "2.0      1680\n",
       "3.0      1306\n",
       "4.0      1120\n",
       "5.0       783\n",
       "6.0       466\n",
       "1.0       395\n",
       "7.0       309\n",
       "8.0       224\n",
       "9.0       164\n",
       "10.0      114\n",
       "11.0       86\n",
       "13.0       48\n",
       "12.0       45\n",
       "14.0       36\n",
       "16.0       21\n",
       "15.0       18\n",
       "17.0       16\n",
       "18.0       15\n",
       "20.0       12\n",
       "19.0        9\n",
       "23.0        6\n",
       "21.0        6\n",
       "27.0        5\n",
       "24.0        5\n",
       "25.0        5\n",
       "22.0        3\n",
       "28.0        2\n",
       "29.0        2\n",
       "26.0        2\n",
       "251.0       1\n",
       "74.0        1\n",
       "30.0        1\n",
       "141.0       1\n",
       "54.0        1\n",
       "41.0        1\n",
       "115.0       1\n",
       "43.0        1\n",
       "42.0        1\n",
       "32.0        1\n",
       "55.0        1\n",
       "Name: TotalVisits, dtype: int64"
      ]
     },
     "execution_count": 23,
     "metadata": {},
     "output_type": "execute_result"
    }
   ],
   "source": [
    "# Check the value counts for the column Total Visits\n",
    "\n",
    "df['TotalVisits'].value_counts()"
   ]
  },
  {
   "cell_type": "code",
   "execution_count": 24,
   "metadata": {},
   "outputs": [
    {
     "data": {
      "text/plain": [
       "3.0"
      ]
     },
     "execution_count": 24,
     "metadata": {},
     "output_type": "execute_result"
    }
   ],
   "source": [
    "# Check the median of column \n",
    "\n",
    "df['TotalVisits'].median()"
   ]
  },
  {
   "cell_type": "code",
   "execution_count": 25,
   "metadata": {},
   "outputs": [],
   "source": [
    "# We shall impute the null values in TotalVisits by the median value \n",
    "#as the data appears skewed and it is wise to replaces it with median value which is 3.0\n",
    "\n",
    "df['TotalVisits'] = df['TotalVisits'].replace(np.nan, df['TotalVisits'].median())"
   ]
  },
  {
   "cell_type": "code",
   "execution_count": 26,
   "metadata": {},
   "outputs": [
    {
     "data": {
      "text/plain": [
       "0.00    2189\n",
       "2.00    1795\n",
       "3.00    1196\n",
       "4.00     896\n",
       "1.00     651\n",
       "        ... \n",
       "1.27       1\n",
       "8.21       1\n",
       "2.14       1\n",
       "2.63       1\n",
       "2.45       1\n",
       "Name: Page Views Per Visit, Length: 114, dtype: int64"
      ]
     },
     "execution_count": 26,
     "metadata": {},
     "output_type": "execute_result"
    }
   ],
   "source": [
    "# Check the value counts for Page Views Per Visit\n",
    "\n",
    "df['Page Views Per Visit'].value_counts()"
   ]
  },
  {
   "cell_type": "code",
   "execution_count": 27,
   "metadata": {},
   "outputs": [
    {
     "data": {
      "text/plain": [
       "2.0"
      ]
     },
     "execution_count": 27,
     "metadata": {},
     "output_type": "execute_result"
    }
   ],
   "source": [
    "# Check the median of the column\n",
    "\n",
    "df['Page Views Per Visit'].median()"
   ]
  },
  {
   "cell_type": "code",
   "execution_count": 28,
   "metadata": {},
   "outputs": [],
   "source": [
    "# We shall impute the null values in 'Page Views Per Visit' by the median value which is 2.0\n",
    "\n",
    "df['Page Views Per Visit'] = df['Page Views Per Visit'].replace(np.nan, df['Page Views Per Visit'].median())"
   ]
  },
  {
   "cell_type": "code",
   "execution_count": 29,
   "metadata": {},
   "outputs": [
    {
     "data": {
      "text/plain": [
       "Email Opened                    3437\n",
       "SMS Sent                        2745\n",
       "Olark Chat Conversation          973\n",
       "Page Visited on Website          640\n",
       "Converted to Lead                428\n",
       "Email Bounced                    326\n",
       "Email Link Clicked               267\n",
       "Form Submitted on Website        116\n",
       "Unreachable                       93\n",
       "Unsubscribed                      61\n",
       "Had a Phone Conversation          30\n",
       "Approached upfront                 9\n",
       "View in browser link Clicked       6\n",
       "Email Received                     2\n",
       "Email Marked Spam                  2\n",
       "Resubscribed to emails             1\n",
       "Visited Booth in Tradeshow         1\n",
       "Name: Last Activity, dtype: int64"
      ]
     },
     "execution_count": 29,
     "metadata": {},
     "output_type": "execute_result"
    }
   ],
   "source": [
    "# Check the value counts for the column Last Activity\n",
    "\n",
    "df['Last Activity'].value_counts()"
   ]
  },
  {
   "cell_type": "code",
   "execution_count": 30,
   "metadata": {},
   "outputs": [
    {
     "data": {
      "text/plain": [
       "103"
      ]
     },
     "execution_count": 30,
     "metadata": {},
     "output_type": "execute_result"
    }
   ],
   "source": [
    "\n",
    "df['Last Activity'].isnull().sum()"
   ]
  },
  {
   "cell_type": "code",
   "execution_count": 31,
   "metadata": {},
   "outputs": [],
   "source": [
    "# Since we do not have any information of what the last activity of the customer would have been,\n",
    "# we can replace it with mode for the null values\n",
    "\n",
    "\n",
    "\n",
    "df['Last Activity'] = df['Last Activity'].replace(np.nan, 'Email Opened')"
   ]
  },
  {
   "cell_type": "code",
   "execution_count": 32,
   "metadata": {},
   "outputs": [
    {
     "name": "stdout",
     "output_type": "stream",
     "text": [
      "Unemployed              5600\n",
      "Working Professional     706\n",
      "Student                  210\n",
      "Other                     16\n",
      "Housewife                 10\n",
      "Businessman                8\n",
      "Name: What is your current occupation, dtype: int64\n",
      "\n",
      "Null values\n",
      "\n",
      "2690\n"
     ]
    }
   ],
   "source": [
    "# Check the value counts for the column \"What is your current Occupation\"\n",
    "\n",
    "print(df['What is your current occupation'].value_counts())\n",
    "print(\"\")\n",
    "print('''Null values''')\n",
    "print(\"\")\n",
    "print(df['What is your current occupation'].isnull().sum())"
   ]
  },
  {
   "cell_type": "code",
   "execution_count": 33,
   "metadata": {},
   "outputs": [],
   "source": [
    "#since we do not hae any additional information we can impute such values with mode of such columns\n",
    "# as value for the null columns\n",
    "\n",
    "df['What is your current occupation'] = df['What is your current occupation'].replace(np.nan, 'Unemployed')"
   ]
  },
  {
   "cell_type": "code",
   "execution_count": 34,
   "metadata": {},
   "outputs": [
    {
     "data": {
      "text/plain": [
       "Better Career Prospects      6528\n",
       "Flexibility & Convenience       2\n",
       "Other                           1\n",
       "Name: What matters most to you in choosing a course, dtype: int64"
      ]
     },
     "execution_count": 34,
     "metadata": {},
     "output_type": "execute_result"
    }
   ],
   "source": [
    "# Check the value counts for the column What matters most to you in choosing a course \n",
    "\n",
    "df['What matters most to you in choosing a course'].value_counts()"
   ]
  },
  {
   "cell_type": "code",
   "execution_count": 35,
   "metadata": {},
   "outputs": [
    {
     "data": {
      "text/plain": [
       "2709"
      ]
     },
     "execution_count": 35,
     "metadata": {},
     "output_type": "execute_result"
    }
   ],
   "source": [
    "df['What matters most to you in choosing a course'].isnull().sum()"
   ]
  },
  {
   "cell_type": "code",
   "execution_count": 36,
   "metadata": {},
   "outputs": [
    {
     "name": "stdout",
     "output_type": "stream",
     "text": [
      "70.65\n"
     ]
    }
   ],
   "source": [
    "matters_most_percentage = round(100*len(df[df['What matters most to you in choosing a course'] \n",
    "                            == 'Better Career Prospects'])/len(df['What matters most to you in choosing a course']),2)\n",
    "print(matters_most_percentage)"
   ]
  },
  {
   "cell_type": "code",
   "execution_count": 37,
   "metadata": {},
   "outputs": [],
   "source": [
    "# Since Better Career Prospects occurs around 70% of times in the What matters most to you in choosing a course column, and\n",
    "# since the column also has around 29% as missing values, we shall go ahead and drop the column\n",
    "\n",
    "df = df.drop(['What matters most to you in choosing a course'], axis=1)"
   ]
  },
  {
   "cell_type": "code",
   "execution_count": 38,
   "metadata": {},
   "outputs": [
    {
     "name": "stdout",
     "output_type": "stream",
     "text": [
      "Prospect ID                                 0.0\n",
      "Lead Number                                 0.0\n",
      "Lead Origin                                 0.0\n",
      "Lead Source                                 0.0\n",
      "Do Not Email                                0.0\n",
      "Do Not Call                                 0.0\n",
      "Converted                                   0.0\n",
      "TotalVisits                                 0.0\n",
      "Total Time Spent on Website                 0.0\n",
      "Page Views Per Visit                        0.0\n",
      "Last Activity                               0.0\n",
      "What is your current occupation             0.0\n",
      "Search                                      0.0\n",
      "Magazine                                    0.0\n",
      "Newspaper Article                           0.0\n",
      "X Education Forums                          0.0\n",
      "Newspaper                                   0.0\n",
      "Digital Advertisement                       0.0\n",
      "Through Recommendations                     0.0\n",
      "Receive More Updates About Our Courses      0.0\n",
      "Update me on Supply Chain Content           0.0\n",
      "Get updates on DM Content                   0.0\n",
      "I agree to pay the amount through cheque    0.0\n",
      "A free copy of Mastering The Interview      0.0\n",
      "Last Notable Activity                       0.0\n",
      "dtype: float64\n"
     ]
    }
   ],
   "source": [
    "# check for percentage of null values in each column\n",
    "\n",
    "percent_missing = round(100*(df.isnull().sum()/len(df.index)), 2)\n",
    "print(percent_missing)"
   ]
  },
  {
   "cell_type": "markdown",
   "metadata": {},
   "source": [
    "All the null values in the columns now have either been imputed or we have dropped the columns which have more than 70% data \n",
    "concentrated towards one value"
   ]
  },
  {
   "cell_type": "code",
   "execution_count": 39,
   "metadata": {},
   "outputs": [],
   "source": [
    "# Since the following columns have only one value \"No\" in all the rows, we can eliminate the columns :\n",
    "\n",
    "# a) Magazine\n",
    "# b) Receive More Updates About Our Courses\n",
    "# c) Update me on Supply Chain Content\n",
    "# d) Get updates on DM Content\n",
    "# e) I agree to pay the amount through cheque\n",
    "\n",
    "df = df.drop(['Magazine', 'Receive More Updates About Our Courses', 'Update me on Supply Chain Content', \n",
    "                          'Get updates on DM Content', 'I agree to pay the amount through cheque'], axis=1)"
   ]
  },
  {
   "cell_type": "code",
   "execution_count": 40,
   "metadata": {},
   "outputs": [
    {
     "data": {
      "text/plain": [
       "(9240, 20)"
      ]
     },
     "execution_count": 40,
     "metadata": {},
     "output_type": "execute_result"
    }
   ],
   "source": [
    "df.shape"
   ]
  },
  {
   "cell_type": "markdown",
   "metadata": {},
   "source": [
    "##### Outlier Treatment"
   ]
  },
  {
   "cell_type": "code",
   "execution_count": 41,
   "metadata": {},
   "outputs": [
    {
     "data": {
      "text/html": [
       "<div>\n",
       "<style scoped>\n",
       "    .dataframe tbody tr th:only-of-type {\n",
       "        vertical-align: middle;\n",
       "    }\n",
       "\n",
       "    .dataframe tbody tr th {\n",
       "        vertical-align: top;\n",
       "    }\n",
       "\n",
       "    .dataframe thead th {\n",
       "        text-align: right;\n",
       "    }\n",
       "</style>\n",
       "<table border=\"1\" class=\"dataframe\">\n",
       "  <thead>\n",
       "    <tr style=\"text-align: right;\">\n",
       "      <th></th>\n",
       "      <th>Lead Number</th>\n",
       "      <th>Converted</th>\n",
       "      <th>TotalVisits</th>\n",
       "      <th>Total Time Spent on Website</th>\n",
       "      <th>Page Views Per Visit</th>\n",
       "    </tr>\n",
       "  </thead>\n",
       "  <tbody>\n",
       "    <tr>\n",
       "      <th>count</th>\n",
       "      <td>9240.000000</td>\n",
       "      <td>9240.000000</td>\n",
       "      <td>9240.000000</td>\n",
       "      <td>9240.000000</td>\n",
       "      <td>9240.000000</td>\n",
       "    </tr>\n",
       "    <tr>\n",
       "      <th>mean</th>\n",
       "      <td>617188.435606</td>\n",
       "      <td>0.385390</td>\n",
       "      <td>3.438636</td>\n",
       "      <td>487.698268</td>\n",
       "      <td>2.357440</td>\n",
       "    </tr>\n",
       "    <tr>\n",
       "      <th>std</th>\n",
       "      <td>23405.995698</td>\n",
       "      <td>0.486714</td>\n",
       "      <td>4.819024</td>\n",
       "      <td>548.021466</td>\n",
       "      <td>2.145781</td>\n",
       "    </tr>\n",
       "    <tr>\n",
       "      <th>min</th>\n",
       "      <td>579533.000000</td>\n",
       "      <td>0.000000</td>\n",
       "      <td>0.000000</td>\n",
       "      <td>0.000000</td>\n",
       "      <td>0.000000</td>\n",
       "    </tr>\n",
       "    <tr>\n",
       "      <th>25%</th>\n",
       "      <td>596484.500000</td>\n",
       "      <td>0.000000</td>\n",
       "      <td>1.000000</td>\n",
       "      <td>12.000000</td>\n",
       "      <td>1.000000</td>\n",
       "    </tr>\n",
       "    <tr>\n",
       "      <th>50%</th>\n",
       "      <td>615479.000000</td>\n",
       "      <td>0.000000</td>\n",
       "      <td>3.000000</td>\n",
       "      <td>248.000000</td>\n",
       "      <td>2.000000</td>\n",
       "    </tr>\n",
       "    <tr>\n",
       "      <th>75%</th>\n",
       "      <td>637387.250000</td>\n",
       "      <td>1.000000</td>\n",
       "      <td>5.000000</td>\n",
       "      <td>936.000000</td>\n",
       "      <td>3.000000</td>\n",
       "    </tr>\n",
       "    <tr>\n",
       "      <th>90%</th>\n",
       "      <td>650506.100000</td>\n",
       "      <td>1.000000</td>\n",
       "      <td>7.000000</td>\n",
       "      <td>1380.000000</td>\n",
       "      <td>5.000000</td>\n",
       "    </tr>\n",
       "    <tr>\n",
       "      <th>95%</th>\n",
       "      <td>655404.050000</td>\n",
       "      <td>1.000000</td>\n",
       "      <td>10.000000</td>\n",
       "      <td>1562.000000</td>\n",
       "      <td>6.000000</td>\n",
       "    </tr>\n",
       "    <tr>\n",
       "      <th>99%</th>\n",
       "      <td>659592.980000</td>\n",
       "      <td>1.000000</td>\n",
       "      <td>17.000000</td>\n",
       "      <td>1840.610000</td>\n",
       "      <td>9.000000</td>\n",
       "    </tr>\n",
       "    <tr>\n",
       "      <th>max</th>\n",
       "      <td>660737.000000</td>\n",
       "      <td>1.000000</td>\n",
       "      <td>251.000000</td>\n",
       "      <td>2272.000000</td>\n",
       "      <td>55.000000</td>\n",
       "    </tr>\n",
       "  </tbody>\n",
       "</table>\n",
       "</div>"
      ],
      "text/plain": [
       "         Lead Number    Converted  TotalVisits  Total Time Spent on Website  \\\n",
       "count    9240.000000  9240.000000  9240.000000                  9240.000000   \n",
       "mean   617188.435606     0.385390     3.438636                   487.698268   \n",
       "std     23405.995698     0.486714     4.819024                   548.021466   \n",
       "min    579533.000000     0.000000     0.000000                     0.000000   \n",
       "25%    596484.500000     0.000000     1.000000                    12.000000   \n",
       "50%    615479.000000     0.000000     3.000000                   248.000000   \n",
       "75%    637387.250000     1.000000     5.000000                   936.000000   \n",
       "90%    650506.100000     1.000000     7.000000                  1380.000000   \n",
       "95%    655404.050000     1.000000    10.000000                  1562.000000   \n",
       "99%    659592.980000     1.000000    17.000000                  1840.610000   \n",
       "max    660737.000000     1.000000   251.000000                  2272.000000   \n",
       "\n",
       "       Page Views Per Visit  \n",
       "count           9240.000000  \n",
       "mean               2.357440  \n",
       "std                2.145781  \n",
       "min                0.000000  \n",
       "25%                1.000000  \n",
       "50%                2.000000  \n",
       "75%                3.000000  \n",
       "90%                5.000000  \n",
       "95%                6.000000  \n",
       "99%                9.000000  \n",
       "max               55.000000  "
      ]
     },
     "execution_count": 41,
     "metadata": {},
     "output_type": "execute_result"
    }
   ],
   "source": [
    "# Checking outliers at 25%,50%,75%,90%,95% and above\n",
    "df.describe(percentiles=[.25,.5,.75,.90,.95,.99])"
   ]
  },
  {
   "cell_type": "markdown",
   "metadata": {},
   "source": [
    "From the above, it can be seen that outlier exists in the columns TotalVisits and Page Views Per Visit columns."
   ]
  },
  {
   "cell_type": "code",
   "execution_count": 42,
   "metadata": {},
   "outputs": [
    {
     "data": {
      "image/png": "[encoded data removed]",
      "text/plain": [
       "<Figure size 1440x1800 with 3 Axes>"
      ]
     },
     "metadata": {
      "needs_background": "light"
     },
     "output_type": "display_data"
    }
   ],
   "source": [
    "# Check the outliers in all the numeric columns\n",
    "\n",
    "plt.figure(figsize=(20, 25))\n",
    "plt.subplot(4,3,1)\n",
    "sns.boxplot(y = 'TotalVisits', palette='Set3', data = df)\n",
    "plt.subplot(4,3,2)\n",
    "sns.boxplot(y = 'Total Time Spent on Website', palette='Set3', data = df)\n",
    "plt.subplot(4,3,3)\n",
    "sns.boxplot(y = 'Page Views Per Visit', palette='Set3', data = df)\n",
    "plt.show()"
   ]
  },
  {
   "cell_type": "code",
   "execution_count": 43,
   "metadata": {},
   "outputs": [
    {
     "data": {
      "text/plain": [
       "count    9141.000000\n",
       "mean        3.179740\n",
       "std         2.913631\n",
       "min         0.000000\n",
       "25%         1.000000\n",
       "50%         3.000000\n",
       "75%         5.000000\n",
       "90%         7.000000\n",
       "95%         9.000000\n",
       "99%        13.000000\n",
       "max        16.000000\n",
       "Name: TotalVisits, dtype: float64"
      ]
     },
     "execution_count": 43,
     "metadata": {},
     "output_type": "execute_result"
    }
   ],
   "source": [
    "# Removing values beyond 99% for Total Visits\n",
    "\n",
    "nn_quartile_total_visits = df['TotalVisits'].quantile(0.99)\n",
    "df = df[df[\"TotalVisits\"] < nn_quartile_total_visits]\n",
    "df[\"TotalVisits\"].describe(percentiles=[.25,.5,.75,.90,.95,.99])"
   ]
  },
  {
   "cell_type": "code",
   "execution_count": 44,
   "metadata": {},
   "outputs": [
    {
     "data": {
      "text/html": [
       "<div>\n",
       "<style scoped>\n",
       "    .dataframe tbody tr th:only-of-type {\n",
       "        vertical-align: middle;\n",
       "    }\n",
       "\n",
       "    .dataframe tbody tr th {\n",
       "        vertical-align: top;\n",
       "    }\n",
       "\n",
       "    .dataframe thead th {\n",
       "        text-align: right;\n",
       "    }\n",
       "</style>\n",
       "<table border=\"1\" class=\"dataframe\">\n",
       "  <thead>\n",
       "    <tr style=\"text-align: right;\">\n",
       "      <th></th>\n",
       "      <th>Lead Number</th>\n",
       "      <th>Converted</th>\n",
       "      <th>TotalVisits</th>\n",
       "      <th>Total Time Spent on Website</th>\n",
       "      <th>Page Views Per Visit</th>\n",
       "    </tr>\n",
       "  </thead>\n",
       "  <tbody>\n",
       "    <tr>\n",
       "      <th>count</th>\n",
       "      <td>9141.00000</td>\n",
       "      <td>9141.000000</td>\n",
       "      <td>9141.000000</td>\n",
       "      <td>9141.000000</td>\n",
       "      <td>9141.000000</td>\n",
       "    </tr>\n",
       "    <tr>\n",
       "      <th>mean</th>\n",
       "      <td>617233.45192</td>\n",
       "      <td>0.385406</td>\n",
       "      <td>3.179740</td>\n",
       "      <td>486.074609</td>\n",
       "      <td>2.329506</td>\n",
       "    </tr>\n",
       "    <tr>\n",
       "      <th>std</th>\n",
       "      <td>23413.72193</td>\n",
       "      <td>0.486718</td>\n",
       "      <td>2.913631</td>\n",
       "      <td>547.856302</td>\n",
       "      <td>2.046673</td>\n",
       "    </tr>\n",
       "    <tr>\n",
       "      <th>min</th>\n",
       "      <td>579533.00000</td>\n",
       "      <td>0.000000</td>\n",
       "      <td>0.000000</td>\n",
       "      <td>0.000000</td>\n",
       "      <td>0.000000</td>\n",
       "    </tr>\n",
       "    <tr>\n",
       "      <th>25%</th>\n",
       "      <td>596519.00000</td>\n",
       "      <td>0.000000</td>\n",
       "      <td>1.000000</td>\n",
       "      <td>10.000000</td>\n",
       "      <td>1.000000</td>\n",
       "    </tr>\n",
       "    <tr>\n",
       "      <th>50%</th>\n",
       "      <td>615563.00000</td>\n",
       "      <td>0.000000</td>\n",
       "      <td>3.000000</td>\n",
       "      <td>247.000000</td>\n",
       "      <td>2.000000</td>\n",
       "    </tr>\n",
       "    <tr>\n",
       "      <th>75%</th>\n",
       "      <td>637414.00000</td>\n",
       "      <td>1.000000</td>\n",
       "      <td>5.000000</td>\n",
       "      <td>933.000000</td>\n",
       "      <td>3.000000</td>\n",
       "    </tr>\n",
       "    <tr>\n",
       "      <th>90%</th>\n",
       "      <td>650514.00000</td>\n",
       "      <td>1.000000</td>\n",
       "      <td>7.000000</td>\n",
       "      <td>1379.000000</td>\n",
       "      <td>5.000000</td>\n",
       "    </tr>\n",
       "    <tr>\n",
       "      <th>95%</th>\n",
       "      <td>655406.00000</td>\n",
       "      <td>1.000000</td>\n",
       "      <td>9.000000</td>\n",
       "      <td>1561.000000</td>\n",
       "      <td>6.000000</td>\n",
       "    </tr>\n",
       "    <tr>\n",
       "      <th>99%</th>\n",
       "      <td>659592.80000</td>\n",
       "      <td>1.000000</td>\n",
       "      <td>13.000000</td>\n",
       "      <td>1839.600000</td>\n",
       "      <td>9.000000</td>\n",
       "    </tr>\n",
       "    <tr>\n",
       "      <th>max</th>\n",
       "      <td>660737.00000</td>\n",
       "      <td>1.000000</td>\n",
       "      <td>16.000000</td>\n",
       "      <td>2272.000000</td>\n",
       "      <td>16.000000</td>\n",
       "    </tr>\n",
       "  </tbody>\n",
       "</table>\n",
       "</div>"
      ],
      "text/plain": [
       "        Lead Number    Converted  TotalVisits  Total Time Spent on Website  \\\n",
       "count    9141.00000  9141.000000  9141.000000                  9141.000000   \n",
       "mean   617233.45192     0.385406     3.179740                   486.074609   \n",
       "std     23413.72193     0.486718     2.913631                   547.856302   \n",
       "min    579533.00000     0.000000     0.000000                     0.000000   \n",
       "25%    596519.00000     0.000000     1.000000                    10.000000   \n",
       "50%    615563.00000     0.000000     3.000000                   247.000000   \n",
       "75%    637414.00000     1.000000     5.000000                   933.000000   \n",
       "90%    650514.00000     1.000000     7.000000                  1379.000000   \n",
       "95%    655406.00000     1.000000     9.000000                  1561.000000   \n",
       "99%    659592.80000     1.000000    13.000000                  1839.600000   \n",
       "max    660737.00000     1.000000    16.000000                  2272.000000   \n",
       "\n",
       "       Page Views Per Visit  \n",
       "count           9141.000000  \n",
       "mean               2.329506  \n",
       "std                2.046673  \n",
       "min                0.000000  \n",
       "25%                1.000000  \n",
       "50%                2.000000  \n",
       "75%                3.000000  \n",
       "90%                5.000000  \n",
       "95%                6.000000  \n",
       "99%                9.000000  \n",
       "max               16.000000  "
      ]
     },
     "execution_count": 44,
     "metadata": {},
     "output_type": "execute_result"
    }
   ],
   "source": [
    "# Checking outliers at 25%,50%,75%,90%,95% and above\n",
    "\n",
    "df.describe(percentiles=[.25,.5,.75,.90,.95,.99])"
   ]
  },
  {
   "cell_type": "code",
   "execution_count": 45,
   "metadata": {},
   "outputs": [
    {
     "data": {
      "text/plain": [
       "count    9029.000000\n",
       "mean        2.226383\n",
       "std         1.823395\n",
       "min         0.000000\n",
       "25%         1.000000\n",
       "50%         2.000000\n",
       "75%         3.000000\n",
       "90%         5.000000\n",
       "95%         6.000000\n",
       "99%         7.000000\n",
       "max         8.000000\n",
       "Name: Page Views Per Visit, dtype: float64"
      ]
     },
     "execution_count": 45,
     "metadata": {},
     "output_type": "execute_result"
    }
   ],
   "source": [
    "# Removing values beyond 99% for page Views Per Visit\n",
    "\n",
    "nn_quartile_page_visits = df['Page Views Per Visit'].quantile(0.99)\n",
    "df = df[df[\"Page Views Per Visit\"] < nn_quartile_page_visits]\n",
    "df[\"Page Views Per Visit\"].describe(percentiles=[.25,.5,.75,.90,.95,.99])"
   ]
  },
  {
   "cell_type": "code",
   "execution_count": 46,
   "metadata": {},
   "outputs": [
    {
     "data": {
      "text/html": [
       "<div>\n",
       "<style scoped>\n",
       "    .dataframe tbody tr th:only-of-type {\n",
       "        vertical-align: middle;\n",
       "    }\n",
       "\n",
       "    .dataframe tbody tr th {\n",
       "        vertical-align: top;\n",
       "    }\n",
       "\n",
       "    .dataframe thead th {\n",
       "        text-align: right;\n",
       "    }\n",
       "</style>\n",
       "<table border=\"1\" class=\"dataframe\">\n",
       "  <thead>\n",
       "    <tr style=\"text-align: right;\">\n",
       "      <th></th>\n",
       "      <th>Lead Number</th>\n",
       "      <th>Converted</th>\n",
       "      <th>TotalVisits</th>\n",
       "      <th>Total Time Spent on Website</th>\n",
       "      <th>Page Views Per Visit</th>\n",
       "    </tr>\n",
       "  </thead>\n",
       "  <tbody>\n",
       "    <tr>\n",
       "      <th>count</th>\n",
       "      <td>9029.000000</td>\n",
       "      <td>9029.000000</td>\n",
       "      <td>9029.000000</td>\n",
       "      <td>9029.000000</td>\n",
       "      <td>9029.000000</td>\n",
       "    </tr>\n",
       "    <tr>\n",
       "      <th>mean</th>\n",
       "      <td>617223.248422</td>\n",
       "      <td>0.385092</td>\n",
       "      <td>3.087164</td>\n",
       "      <td>483.133016</td>\n",
       "      <td>2.226383</td>\n",
       "    </tr>\n",
       "    <tr>\n",
       "      <th>std</th>\n",
       "      <td>23372.383121</td>\n",
       "      <td>0.486644</td>\n",
       "      <td>2.801244</td>\n",
       "      <td>547.420675</td>\n",
       "      <td>1.823395</td>\n",
       "    </tr>\n",
       "    <tr>\n",
       "      <th>min</th>\n",
       "      <td>579533.000000</td>\n",
       "      <td>0.000000</td>\n",
       "      <td>0.000000</td>\n",
       "      <td>0.000000</td>\n",
       "      <td>0.000000</td>\n",
       "    </tr>\n",
       "    <tr>\n",
       "      <th>25%</th>\n",
       "      <td>596530.000000</td>\n",
       "      <td>0.000000</td>\n",
       "      <td>1.000000</td>\n",
       "      <td>7.000000</td>\n",
       "      <td>1.000000</td>\n",
       "    </tr>\n",
       "    <tr>\n",
       "      <th>50%</th>\n",
       "      <td>615645.000000</td>\n",
       "      <td>0.000000</td>\n",
       "      <td>3.000000</td>\n",
       "      <td>245.000000</td>\n",
       "      <td>2.000000</td>\n",
       "    </tr>\n",
       "    <tr>\n",
       "      <th>75%</th>\n",
       "      <td>637360.000000</td>\n",
       "      <td>1.000000</td>\n",
       "      <td>4.000000</td>\n",
       "      <td>929.000000</td>\n",
       "      <td>3.000000</td>\n",
       "    </tr>\n",
       "    <tr>\n",
       "      <th>90%</th>\n",
       "      <td>650463.200000</td>\n",
       "      <td>1.000000</td>\n",
       "      <td>7.000000</td>\n",
       "      <td>1378.000000</td>\n",
       "      <td>5.000000</td>\n",
       "    </tr>\n",
       "    <tr>\n",
       "      <th>95%</th>\n",
       "      <td>655351.600000</td>\n",
       "      <td>1.000000</td>\n",
       "      <td>8.000000</td>\n",
       "      <td>1558.000000</td>\n",
       "      <td>6.000000</td>\n",
       "    </tr>\n",
       "    <tr>\n",
       "      <th>99%</th>\n",
       "      <td>659577.800000</td>\n",
       "      <td>1.000000</td>\n",
       "      <td>13.000000</td>\n",
       "      <td>1839.720000</td>\n",
       "      <td>7.000000</td>\n",
       "    </tr>\n",
       "    <tr>\n",
       "      <th>max</th>\n",
       "      <td>660737.000000</td>\n",
       "      <td>1.000000</td>\n",
       "      <td>16.000000</td>\n",
       "      <td>2272.000000</td>\n",
       "      <td>8.000000</td>\n",
       "    </tr>\n",
       "  </tbody>\n",
       "</table>\n",
       "</div>"
      ],
      "text/plain": [
       "         Lead Number    Converted  TotalVisits  Total Time Spent on Website  \\\n",
       "count    9029.000000  9029.000000  9029.000000                  9029.000000   \n",
       "mean   617223.248422     0.385092     3.087164                   483.133016   \n",
       "std     23372.383121     0.486644     2.801244                   547.420675   \n",
       "min    579533.000000     0.000000     0.000000                     0.000000   \n",
       "25%    596530.000000     0.000000     1.000000                     7.000000   \n",
       "50%    615645.000000     0.000000     3.000000                   245.000000   \n",
       "75%    637360.000000     1.000000     4.000000                   929.000000   \n",
       "90%    650463.200000     1.000000     7.000000                  1378.000000   \n",
       "95%    655351.600000     1.000000     8.000000                  1558.000000   \n",
       "99%    659577.800000     1.000000    13.000000                  1839.720000   \n",
       "max    660737.000000     1.000000    16.000000                  2272.000000   \n",
       "\n",
       "       Page Views Per Visit  \n",
       "count           9029.000000  \n",
       "mean               2.226383  \n",
       "std                1.823395  \n",
       "min                0.000000  \n",
       "25%                1.000000  \n",
       "50%                2.000000  \n",
       "75%                3.000000  \n",
       "90%                5.000000  \n",
       "95%                6.000000  \n",
       "99%                7.000000  \n",
       "max                8.000000  "
      ]
     },
     "execution_count": 46,
     "metadata": {},
     "output_type": "execute_result"
    }
   ],
   "source": [
    "# Checking outliers at 25%,50%,75%,90%,95% and above\n",
    "df.describe(percentiles=[.25,.5,.75,.90,.95,.99])"
   ]
  },
  {
   "cell_type": "code",
   "execution_count": 47,
   "metadata": {},
   "outputs": [
    {
     "name": "stdout",
     "output_type": "stream",
     "text": [
      "97.72\n"
     ]
    }
   ],
   "source": [
    "# Determine the percentage of data retained\n",
    "\n",
    "num_data = round(100*(len(df)/9240),2)\n",
    "print(num_data)"
   ]
  },
  {
   "cell_type": "markdown",
   "metadata": {},
   "source": [
    "At this point, the data has been cleaned and around 98% of data has been retained"
   ]
  },
  {
   "cell_type": "markdown",
   "metadata": {},
   "source": [
    "### Step 3: Data Analysis\n",
    "Let us try and understand the data now based on each columns effect on the conversion rates"
   ]
  },
  {
   "cell_type": "code",
   "execution_count": 48,
   "metadata": {},
   "outputs": [
    {
     "data": {
      "image/png": "[encoded data removed]",
      "text/plain": [
       "<Figure size 144x360 with 1 Axes>"
      ]
     },
     "metadata": {
      "needs_background": "light"
     },
     "output_type": "display_data"
    }
   ],
   "source": [
    "# Conversion Rate \n",
    "\n",
    "plot = sns.catplot(x=\"Converted\", kind=\"count\", data=df, palette=\"Set2\", aspect= 0.4);\n",
    "\n",
    "plt.title('Converted', fontsize = 14)\n",
    "plt.xlabel(\"Converted\", fontsize = 12)\n",
    "plt.ylabel(\"Count\", fontsize = 12)\n",
    "\n",
    "# Print the counts\n",
    "\n",
    "ax = plot.facet_axis(0,0)\n",
    "for p in ax.patches:        \n",
    "    ax.text(p.get_x() + p.get_width()/2., p.get_height(), p.get_height(), fontsize=12, color='blue', ha='center', va='bottom')\n",
    "    \n",
    "plt.show()"
   ]
  },
  {
   "cell_type": "markdown",
   "metadata": {},
   "source": [
    "From the above graph, there has been a overall conversion rate of around 39%"
   ]
  },
  {
   "cell_type": "code",
   "execution_count": 49,
   "metadata": {},
   "outputs": [
    {
     "data": {
      "image/png": "[encoded data removed]",
      "text/plain": [
       "<Figure size 671.75x360 with 1 Axes>"
      ]
     },
     "metadata": {
      "needs_background": "light"
     },
     "output_type": "display_data"
    }
   ],
   "source": [
    "# Lead Origin\n",
    "\n",
    "plot = sns.catplot(x=\"Lead Origin\", hue = \"Converted\", kind=\"count\", data=df, palette=\"Set2\", aspect= 1.7);\n",
    "\n",
    "plt.title('Lead Origin Vs Converted', fontsize = 14)\n",
    "plt.xlabel(\"Lead Origin\", fontsize = 12)\n",
    "plt.ylabel(\"Count\", fontsize = 12)\n",
    "\n",
    "# Print the counts\n",
    "\n",
    "ax = plot.facet_axis(0,0)\n",
    "for p in ax.patches:\n",
    "    \n",
    "    if np.isnan(p.get_height()):\n",
    "        height = 0\n",
    "    else:\n",
    "        height = p.get_height()\n",
    "    \n",
    "    height = int(height)\n",
    "    ax.text(p.get_x()+p.get_width()/2., height, height, fontsize=12, color='blue', ha='center', va='bottom')\n",
    "    \n",
    "plt.show()"
   ]
  },
  {
   "cell_type": "markdown",
   "metadata": {},
   "source": [
    "From the above graph, it can be seen that the maximum conversion happened from Landing Page Submission\n",
    "Also there was only one request from quick add form which got converted."
   ]
  },
  {
   "cell_type": "code",
   "execution_count": 50,
   "metadata": {},
   "outputs": [
    {
     "data": {
      "image/png": "[encoded data removed]",
      "text/plain": [
       "<Figure size 1319.75x360 with 1 Axes>"
      ]
     },
     "metadata": {
      "needs_background": "light"
     },
     "output_type": "display_data"
    }
   ],
   "source": [
    "# Lead Source\n",
    "\n",
    "plot = sns.catplot(x=\"Lead Source\", hue = \"Converted\", kind=\"count\", data=df, palette=\"Set2\", aspect = 3.5);\n",
    "\n",
    "plt.title('Lead Source Vs Converted', fontsize = 14)\n",
    "plt.xlabel(\"Lead Source\", fontsize = 12)\n",
    "plt.ylabel(\"Count\", fontsize = 12)\n",
    "plt.xticks(rotation=90)\n",
    "\n",
    "# Print the counts\n",
    "\n",
    "ax = plot.facet_axis(0,0)\n",
    "for p in ax.patches:\n",
    "    \n",
    "    if np.isnan(p.get_height()):\n",
    "        height = 0\n",
    "    else:\n",
    "        height = p.get_height()\n",
    "    \n",
    "    height = int(height)\n",
    "    ax.text(p.get_x()+p.get_width()/2., height, height, fontsize=12, color='blue', ha='center', va='bottom')\n",
    "   \n",
    "plt.show()"
   ]
  },
  {
   "cell_type": "markdown",
   "metadata": {},
   "source": [
    "From the above graph, it can be seen that major conversion in the lead source is from google"
   ]
  },
  {
   "cell_type": "code",
   "execution_count": 51,
   "metadata": {},
   "outputs": [
    {
     "data": {
      "image/png": "[encoded data removed]",
      "text/plain": [
       "<Figure size 275.75x360 with 1 Axes>"
      ]
     },
     "metadata": {
      "needs_background": "light"
     },
     "output_type": "display_data"
    }
   ],
   "source": [
    "# Do not Email\n",
    "\n",
    "plot = sns.catplot(x=\"Do Not Email\", hue = \"Converted\", kind=\"count\", data=df, palette=\"Set2\", aspect = 0.6);\n",
    "\n",
    "plt.title('Do Not Email Vs Converted', fontsize = 14)\n",
    "plt.xlabel(\"Do Not Email\", fontsize = 12)\n",
    "plt.ylabel(\"Count\", fontsize = 12)\n",
    "\n",
    "ax = plot.facet_axis(0,0)\n",
    "for p in ax.patches:        \n",
    "    ax.text(p.get_x() + p.get_width()/2., p.get_height(), p.get_height(), fontsize=12, color='blue', ha='center', va='bottom')\n",
    "\n",
    "plt.show()"
   ]
  },
  {
   "cell_type": "markdown",
   "metadata": {},
   "source": [
    "Based on the above graph, major conversion has happend from the emails that have been sent"
   ]
  },
  {
   "cell_type": "code",
   "execution_count": 52,
   "metadata": {},
   "outputs": [
    {
     "data": {
      "image/png": "[encoded data removed]",
      "text/plain": [
       "<Figure size 275.75x360 with 1 Axes>"
      ]
     },
     "metadata": {
      "needs_background": "light"
     },
     "output_type": "display_data"
    }
   ],
   "source": [
    "# Do not Call\n",
    "\n",
    "plot = sns.catplot(x=\"Do Not Call\", hue = \"Converted\", kind=\"count\", data=df, palette=\"Set2\", aspect = 0.6);\n",
    "\n",
    "plt.title('Do Not Call Vs Converted', fontsize = 14)\n",
    "plt.xlabel(\"Do Not Call\", fontsize = 12)\n",
    "plt.ylabel(\"Count\", fontsize = 12)\n",
    "\n",
    "# Print the counts\n",
    "\n",
    "ax = plot.facet_axis(0,0)\n",
    "for p in ax.patches:\n",
    "    \n",
    "    if np.isnan(p.get_height()):\n",
    "        height = 0\n",
    "    else:\n",
    "        height = p.get_height()\n",
    "    \n",
    "    height = int(height)\n",
    "    ax.text(p.get_x()+p.get_width()/2., height, height, fontsize=12, color='blue', ha='center', va='bottom')\n",
    "\n",
    "plt.show()"
   ]
  },
  {
   "cell_type": "markdown",
   "metadata": {},
   "source": [
    "From the above graph , it can be noticed that major conversions happened when calls were made.\n",
    "However, it can also be seen that 2 leads opted for \"Do Not Call\", but they still got converted."
   ]
  },
  {
   "cell_type": "code",
   "execution_count": 53,
   "metadata": {},
   "outputs": [
    {
     "data": {
      "image/png": "[encoded data removed]",
      "text/plain": [
       "<Figure size 1139.75x360 with 1 Axes>"
      ]
     },
     "metadata": {
      "needs_background": "light"
     },
     "output_type": "display_data"
    }
   ],
   "source": [
    "# Last Activity\n",
    "\n",
    "plot = sns.catplot(x=\"Last Activity\", hue = \"Converted\", kind=\"count\", data=df, palette=\"Set2\", aspect = 3.0);\n",
    "\n",
    "plt.title('Last Activity Vs Converted', fontsize = 14)\n",
    "plt.xlabel(\"Last Activity\", fontsize = 12)\n",
    "plt.ylabel(\"Count\", fontsize = 12)\n",
    "plt.xticks(rotation=90)\n",
    "\n",
    "# Print the counts\n",
    "\n",
    "ax = plot.facet_axis(0,0)\n",
    "for p in ax.patches:\n",
    "    \n",
    "    if np.isnan(p.get_height()):\n",
    "        height = 0\n",
    "    else:\n",
    "        height = p.get_height()\n",
    "    \n",
    "    height = int(height)\n",
    "    ax.text(p.get_x()+p.get_width()/2., height, height, fontsize=12, color='blue', ha='center', va='bottom')\n",
    "\n",
    "plt.show()"
   ]
  },
  {
   "cell_type": "markdown",
   "metadata": {},
   "source": [
    "As per the above graph, last activity value of 'SMS Sent' had more conversion"
   ]
  },
  {
   "cell_type": "code",
   "execution_count": 54,
   "metadata": {},
   "outputs": [
    {
     "data": {
      "image/png": "[encoded data removed]",
      "text/plain": [
       "<Figure size 779.75x360 with 1 Axes>"
      ]
     },
     "metadata": {
      "needs_background": "light"
     },
     "output_type": "display_data"
    }
   ],
   "source": [
    "# What is your current occupation\n",
    "\n",
    "plot = sns.catplot(x=\"What is your current occupation\", hue = \"Converted\", kind=\"count\", data=df, palette=\"Set2\", \n",
    "                   aspect = 2.0);\n",
    "\n",
    "plt.title('Current Occupation Vs Converted', fontsize = 14)\n",
    "plt.xlabel(\"Current Occupation\", fontsize = 12)\n",
    "plt.ylabel(\"Count\", fontsize = 12)\n",
    "\n",
    "# Print the counts\n",
    "\n",
    "ax = plot.facet_axis(0,0)\n",
    "for p in ax.patches:\n",
    "    \n",
    "    if np.isnan(p.get_height()):\n",
    "        height = 0\n",
    "    else:\n",
    "        height = p.get_height()\n",
    "    \n",
    "    height = int(height)\n",
    "    ax.text(p.get_x()+p.get_width()/2., height, height, fontsize=12, color='blue', ha='center', va='bottom')\n",
    "\n",
    "plt.show()"
   ]
  },
  {
   "cell_type": "markdown",
   "metadata": {},
   "source": [
    "More conversion happend with people who are unemployed. It can also be noticed from the above data that \n",
    "    - Out of 7 business men, 4 got converted\n",
    "    - Out 10 housewives, all 10 leads got converted."
   ]
  },
  {
   "cell_type": "code",
   "execution_count": 55,
   "metadata": {},
   "outputs": [
    {
     "data": {
      "image/png": "[encoded data removed]",
      "text/plain": [
       "<Figure size 311.75x360 with 1 Axes>"
      ]
     },
     "metadata": {
      "needs_background": "light"
     },
     "output_type": "display_data"
    }
   ],
   "source": [
    "# Search\n",
    "\n",
    "plot = sns.catplot(x=\"Search\", hue = \"Converted\", kind=\"count\", data=df, palette=\"Set2\", aspect = 0.7);\n",
    "\n",
    "plt.title('Search Vs Converted', fontsize = 14)\n",
    "plt.xlabel(\"Search\", fontsize = 12)\n",
    "plt.ylabel(\"Count\", fontsize = 12)\n",
    "\n",
    "ax = plot.facet_axis(0,0)\n",
    "for p in ax.patches:        \n",
    "    ax.text(p.get_x() + p.get_width()/2., p.get_height(), p.get_height(), fontsize=12, color='blue', ha='center', va='bottom')\n",
    "\n",
    "plt.show()"
   ]
  },
  {
   "cell_type": "markdown",
   "metadata": {},
   "source": [
    "Conversion rate is high on leads who are not through search"
   ]
  },
  {
   "cell_type": "code",
   "execution_count": 56,
   "metadata": {},
   "outputs": [
    {
     "data": {
      "image/png": "[encoded data removed]",
      "text/plain": [
       "<Figure size 239.75x360 with 1 Axes>"
      ]
     },
     "metadata": {
      "needs_background": "light"
     },
     "output_type": "display_data"
    }
   ],
   "source": [
    "# Newspaper Article\n",
    "\n",
    "plot = sns.catplot(x=\"Newspaper Article\", hue = \"Converted\", kind=\"count\", data=df, palette=\"Set2\", aspect = 0.5);\n",
    "\n",
    "plt.title('Newspaper Article Vs Converted', fontsize = 14)\n",
    "plt.xlabel(\"Newspaper Article\", fontsize = 12)\n",
    "plt.ylabel(\"Count\", fontsize = 12)\n",
    "\n",
    "ax = plot.facet_axis(0,0)\n",
    "for p in ax.patches:        \n",
    "    ax.text(p.get_x() + p.get_width()/2., p.get_height(), p.get_height(), fontsize=12, color='blue', ha='center', va='bottom')\n",
    "\n",
    "plt.show()"
   ]
  },
  {
   "cell_type": "markdown",
   "metadata": {},
   "source": [
    "Since \"Newspaper Article\" column now has only one value for all rows - \"No\" , it is safe to drop this column"
   ]
  },
  {
   "cell_type": "code",
   "execution_count": 57,
   "metadata": {},
   "outputs": [],
   "source": [
    "# Dropping Newspaper Article\n",
    "\n",
    "df = df.drop(['Newspaper Article'], axis=1)"
   ]
  },
  {
   "cell_type": "code",
   "execution_count": 58,
   "metadata": {},
   "outputs": [
    {
     "data": {
      "image/png": "[encoded data removed]",
      "text/plain": [
       "<Figure size 239.75x360 with 1 Axes>"
      ]
     },
     "metadata": {
      "needs_background": "light"
     },
     "output_type": "display_data"
    }
   ],
   "source": [
    "# X Education Forums\n",
    "\n",
    "plot = sns.catplot(x=\"X Education Forums\", hue = \"Converted\", kind=\"count\", data=df, palette=\"Set2\", aspect = 0.5);\n",
    "\n",
    "plt.title('X Education Forums Vs Converted', fontsize = 14)\n",
    "plt.xlabel(\"X Education Forums\", fontsize = 12)\n",
    "plt.ylabel(\"Count\", fontsize = 12)\n",
    "\n",
    "ax = plot.facet_axis(0,0)\n",
    "for p in ax.patches:        \n",
    "    ax.text(p.get_x() + p.get_width()/2., p.get_height(), p.get_height(), fontsize=12, color='blue', ha='center', va='bottom')\n",
    "\n",
    "plt.show()"
   ]
  },
  {
   "cell_type": "markdown",
   "metadata": {},
   "source": [
    "Since \"X Education Forums\" column now has only one value for all rows - \"No\" , it is safe to drop this column"
   ]
  },
  {
   "cell_type": "code",
   "execution_count": 59,
   "metadata": {},
   "outputs": [],
   "source": [
    "# Dropping X Education Forum column\n",
    "\n",
    "df = df.drop(['X Education Forums'], axis=1)"
   ]
  },
  {
   "cell_type": "code",
   "execution_count": 60,
   "metadata": {},
   "outputs": [
    {
     "data": {
      "image/png": "[encoded data removed]",
      "text/plain": [
       "<Figure size 311.75x360 with 1 Axes>"
      ]
     },
     "metadata": {
      "needs_background": "light"
     },
     "output_type": "display_data"
    }
   ],
   "source": [
    "plot = sns.catplot(x=\"Newspaper\", hue = \"Converted\", kind=\"count\", data=df, palette=\"Set2\", aspect = 0.7);\n",
    "\n",
    "plt.title('Newspaper Vs Converted', fontsize = 14)\n",
    "plt.xlabel(\"Newspaper\", fontsize = 12)\n",
    "plt.ylabel(\"Count\", fontsize = 12)\n",
    "\n",
    "# Print the counts\n",
    "\n",
    "ax = plot.facet_axis(0,0)\n",
    "for p in ax.patches:\n",
    "    \n",
    "    if np.isnan(p.get_height()):\n",
    "        height = 0\n",
    "    else:\n",
    "        height = p.get_height()\n",
    "    \n",
    "    height = int(height)\n",
    "    ax.text(p.get_x()+p.get_width()/2., height, height, fontsize=12, color='blue', ha='center', va='bottom')\n",
    "\n",
    "plt.show()"
   ]
  },
  {
   "cell_type": "markdown",
   "metadata": {},
   "source": [
    "Since Newspaper column has only one row with \"Yes\" as the value and further since this lead did not get converted and rest of all the values are \"No\", we can safely drop the column"
   ]
  },
  {
   "cell_type": "code",
   "execution_count": 61,
   "metadata": {},
   "outputs": [],
   "source": [
    "# Dropping Newspaper column\n",
    "\n",
    "df = df.drop(['Newspaper'], axis=1)"
   ]
  },
  {
   "cell_type": "code",
   "execution_count": 62,
   "metadata": {},
   "outputs": [
    {
     "data": {
      "image/png": "[encoded data removed]",
      "text/plain": [
       "<Figure size 311.75x360 with 1 Axes>"
      ]
     },
     "metadata": {
      "needs_background": "light"
     },
     "output_type": "display_data"
    }
   ],
   "source": [
    "# Digital Advertisement\n",
    "\n",
    "plot = sns.catplot(x=\"Digital Advertisement\", hue = \"Converted\", kind=\"count\", data=df, palette=\"Set2\", aspect = 0.7);\n",
    "\n",
    "plt.title('Digital Advertisement Vs Converted', fontsize = 14)\n",
    "plt.xlabel(\"Digital Advertisement\", fontsize = 12)\n",
    "plt.ylabel(\"Count\", fontsize = 12)\n",
    "\n",
    "ax = plot.facet_axis(0,0)\n",
    "for p in ax.patches:        \n",
    "    ax.text(p.get_x() + p.get_width()/2., p.get_height(), p.get_height(), fontsize=12, color='blue', ha='center', va='bottom')\n",
    "\n",
    "plt.show()"
   ]
  },
  {
   "cell_type": "markdown",
   "metadata": {},
   "source": [
    "It can be noticed above that there were 2 leads that came from digital advertisement of which one lead got converted"
   ]
  },
  {
   "cell_type": "code",
   "execution_count": 63,
   "metadata": {},
   "outputs": [
    {
     "data": {
      "image/png": "[encoded data removed]",
      "text/plain": [
       "<Figure size 311.75x360 with 1 Axes>"
      ]
     },
     "metadata": {
      "needs_background": "light"
     },
     "output_type": "display_data"
    }
   ],
   "source": [
    "# Through Recommendations\n",
    "\n",
    "plot = sns.catplot(x=\"Through Recommendations\", hue = \"Converted\", kind=\"count\", data=df, palette=\"Set2\", aspect = 0.7);\n",
    "\n",
    "plt.title('Through Recommendations Vs Converted', fontsize = 14)\n",
    "plt.xlabel(\"Through Recommendations\", fontsize = 12)\n",
    "plt.ylabel(\"Count\", fontsize = 12)\n",
    "\n",
    "ax = plot.facet_axis(0,0)\n",
    "for p in ax.patches:        \n",
    "    ax.text(p.get_x() + p.get_width()/2., p.get_height(), p.get_height(), fontsize=12, color='blue', ha='center', va='bottom')\n",
    "\n",
    "plt.show()"
   ]
  },
  {
   "cell_type": "markdown",
   "metadata": {},
   "source": [
    "It can be seen that a total of 6 leads came through recommendations of which 5 leads got converted"
   ]
  },
  {
   "cell_type": "code",
   "execution_count": 64,
   "metadata": {},
   "outputs": [
    {
     "data": {
      "image/png": "[encoded data removed]",
      "text/plain": [
       "<Figure size 311.75x360 with 1 Axes>"
      ]
     },
     "metadata": {
      "needs_background": "light"
     },
     "output_type": "display_data"
    }
   ],
   "source": [
    "# A free copy of Mastering The Interview\n",
    "\n",
    "plot = sns.catplot(x=\"A free copy of Mastering The Interview\", hue = \"Converted\", kind=\"count\", data=df, palette=\"Set2\",\n",
    "                   aspect = 0.7);\n",
    "\n",
    "plt.title('Mastering Interview Copy Vs Converted', fontsize = 14)\n",
    "plt.xlabel(\"Mastering Interview Copy\", fontsize = 12)\n",
    "plt.ylabel(\"Count\", fontsize = 12)\n",
    "\n",
    "ax = plot.facet_axis(0,0)\n",
    "for p in ax.patches:        \n",
    "    ax.text(p.get_x() + p.get_width()/2., p.get_height(), p.get_height(), fontsize=12, color='blue', ha='center', va='bottom')\n",
    "\n",
    "plt.show()"
   ]
  },
  {
   "cell_type": "markdown",
   "metadata": {},
   "source": [
    "Conversion rate is high on leads who do not want a free copy of Mastering Interviews"
   ]
  },
  {
   "cell_type": "code",
   "execution_count": 65,
   "metadata": {},
   "outputs": [
    {
     "data": {
      "image/png": "[encoded data removed]",
      "text/plain": [
       "<Figure size 1139.75x360 with 1 Axes>"
      ]
     },
     "metadata": {
      "needs_background": "light"
     },
     "output_type": "display_data"
    }
   ],
   "source": [
    "# Last Notable Activity\n",
    "\n",
    "plot = sns.catplot(x=\"Last Notable Activity\", hue = \"Converted\", kind=\"count\", data=df, palette=\"Set2\", aspect = 3.0);\n",
    "\n",
    "plt.title('Last Notable Activity Vs Converted', fontsize = 14)\n",
    "plt.xlabel(\"Last Notable Activity\", fontsize = 12)\n",
    "plt.ylabel(\"Count\", fontsize = 12)\n",
    "plt.xticks(rotation=90)\n",
    "\n",
    "# Print the counts\n",
    "\n",
    "ax = plot.facet_axis(0,0)\n",
    "for p in ax.patches:\n",
    "    \n",
    "    if np.isnan(p.get_height()):\n",
    "        height = 0\n",
    "    else:\n",
    "        height = p.get_height()\n",
    "    \n",
    "    height = int(height)\n",
    "    ax.text(p.get_x()+p.get_width()/2., height, height, fontsize=12, color='blue', ha='center', va='bottom')\n",
    "\n",
    "plt.show()"
   ]
  },
  {
   "cell_type": "markdown",
   "metadata": {},
   "source": [
    "It can be noticed that the conversion rate is high for \"SMS Sent\""
   ]
  },
  {
   "cell_type": "code",
   "execution_count": 66,
   "metadata": {},
   "outputs": [
    {
     "data": {
      "image/png": "[encoded data removed]",
      "text/plain": [
       "<Figure size 1440x1440 with 3 Axes>"
      ]
     },
     "metadata": {
      "needs_background": "light"
     },
     "output_type": "display_data"
    }
   ],
   "source": [
    "# Now check the conversions for all numeric values\n",
    "\n",
    "plt.figure(figsize=(20,20))\n",
    "plt.subplot(4,3,1)\n",
    "sns.barplot(y = 'TotalVisits', x='Converted', palette='Set2', data = df)\n",
    "plt.subplot(4,3,2)\n",
    "sns.barplot(y = 'Total Time Spent on Website', x='Converted', palette='Set2', data = df)\n",
    "plt.subplot(4,3,3)\n",
    "sns.barplot(y = 'Page Views Per Visit', x='Converted', palette='Set2', data = df)\n",
    "plt.show()"
   ]
  },
  {
   "cell_type": "markdown",
   "metadata": {},
   "source": [
    "The conversion rated were high for Total Visits, Total Time Spent on Website and Page Views Per Visit"
   ]
  },
  {
   "cell_type": "markdown",
   "metadata": {},
   "source": [
    "## Step 4: Data Preparation - Creating Dummies"
   ]
  },
  {
   "cell_type": "markdown",
   "metadata": {},
   "source": [
    "Converting some binary variables (Yes/No) to 0/1"
   ]
  },
  {
   "cell_type": "code",
   "execution_count": 67,
   "metadata": {},
   "outputs": [],
   "source": [
    "variablelist =  variablelist =  ['Do Not Email', 'Do Not Call', 'Search', 'Digital Advertisement', 'Through Recommendations', \n",
    "                                 'A free copy of Mastering The Interview']\n",
    "\n",
    "# Defining the map function\n",
    "def binary_map(x):\n",
    "    return x.map({'Yes': 1, \"No\": 0})\n",
    "\n",
    "# Applying the function to the columns\n",
    "df[variablelist] = df[variablelist].apply(binary_map)"
   ]
  },
  {
   "cell_type": "code",
   "execution_count": 68,
   "metadata": {},
   "outputs": [
    {
     "data": {
      "text/html": [
       "<div>\n",
       "<style scoped>\n",
       "    .dataframe tbody tr th:only-of-type {\n",
       "        vertical-align: middle;\n",
       "    }\n",
       "\n",
       "    .dataframe tbody tr th {\n",
       "        vertical-align: top;\n",
       "    }\n",
       "\n",
       "    .dataframe thead th {\n",
       "        text-align: right;\n",
       "    }\n",
       "</style>\n",
       "<table border=\"1\" class=\"dataframe\">\n",
       "  <thead>\n",
       "    <tr style=\"text-align: right;\">\n",
       "      <th></th>\n",
       "      <th>Prospect ID</th>\n",
       "      <th>Lead Number</th>\n",
       "      <th>Lead Origin</th>\n",
       "      <th>Lead Source</th>\n",
       "      <th>Do Not Email</th>\n",
       "      <th>Do Not Call</th>\n",
       "      <th>Converted</th>\n",
       "      <th>TotalVisits</th>\n",
       "      <th>Total Time Spent on Website</th>\n",
       "      <th>Page Views Per Visit</th>\n",
       "      <th>...</th>\n",
       "      <th>LastNotableActivity_Email Received</th>\n",
       "      <th>LastNotableActivity_Form Submitted on Website</th>\n",
       "      <th>LastNotableActivity_Had a Phone Conversation</th>\n",
       "      <th>LastNotableActivity_Modified</th>\n",
       "      <th>LastNotableActivity_Olark Chat Conversation</th>\n",
       "      <th>LastNotableActivity_Page Visited on Website</th>\n",
       "      <th>LastNotableActivity_SMS Sent</th>\n",
       "      <th>LastNotableActivity_Unreachable</th>\n",
       "      <th>LastNotableActivity_Unsubscribed</th>\n",
       "      <th>LastNotableActivity_View in browser link Clicked</th>\n",
       "    </tr>\n",
       "  </thead>\n",
       "  <tbody>\n",
       "    <tr>\n",
       "      <th>0</th>\n",
       "      <td>7927b2df-8bba-4d29-b9a2-b6e0beafe620</td>\n",
       "      <td>660737</td>\n",
       "      <td>API</td>\n",
       "      <td>Olark Chat</td>\n",
       "      <td>0</td>\n",
       "      <td>0</td>\n",
       "      <td>0</td>\n",
       "      <td>0.0</td>\n",
       "      <td>0</td>\n",
       "      <td>0.0</td>\n",
       "      <td>...</td>\n",
       "      <td>0</td>\n",
       "      <td>0</td>\n",
       "      <td>0</td>\n",
       "      <td>1</td>\n",
       "      <td>0</td>\n",
       "      <td>0</td>\n",
       "      <td>0</td>\n",
       "      <td>0</td>\n",
       "      <td>0</td>\n",
       "      <td>0</td>\n",
       "    </tr>\n",
       "    <tr>\n",
       "      <th>1</th>\n",
       "      <td>2a272436-5132-4136-86fa-dcc88c88f482</td>\n",
       "      <td>660728</td>\n",
       "      <td>API</td>\n",
       "      <td>Organic Search</td>\n",
       "      <td>0</td>\n",
       "      <td>0</td>\n",
       "      <td>0</td>\n",
       "      <td>5.0</td>\n",
       "      <td>674</td>\n",
       "      <td>2.5</td>\n",
       "      <td>...</td>\n",
       "      <td>0</td>\n",
       "      <td>0</td>\n",
       "      <td>0</td>\n",
       "      <td>0</td>\n",
       "      <td>0</td>\n",
       "      <td>0</td>\n",
       "      <td>0</td>\n",
       "      <td>0</td>\n",
       "      <td>0</td>\n",
       "      <td>0</td>\n",
       "    </tr>\n",
       "    <tr>\n",
       "      <th>2</th>\n",
       "      <td>8cc8c611-a219-4f35-ad23-fdfd2656bd8a</td>\n",
       "      <td>660727</td>\n",
       "      <td>Landing Page Submission</td>\n",
       "      <td>Direct Traffic</td>\n",
       "      <td>0</td>\n",
       "      <td>0</td>\n",
       "      <td>1</td>\n",
       "      <td>2.0</td>\n",
       "      <td>1532</td>\n",
       "      <td>2.0</td>\n",
       "      <td>...</td>\n",
       "      <td>0</td>\n",
       "      <td>0</td>\n",
       "      <td>0</td>\n",
       "      <td>0</td>\n",
       "      <td>0</td>\n",
       "      <td>0</td>\n",
       "      <td>0</td>\n",
       "      <td>0</td>\n",
       "      <td>0</td>\n",
       "      <td>0</td>\n",
       "    </tr>\n",
       "    <tr>\n",
       "      <th>3</th>\n",
       "      <td>0cc2df48-7cf4-4e39-9de9-19797f9b38cc</td>\n",
       "      <td>660719</td>\n",
       "      <td>Landing Page Submission</td>\n",
       "      <td>Direct Traffic</td>\n",
       "      <td>0</td>\n",
       "      <td>0</td>\n",
       "      <td>0</td>\n",
       "      <td>1.0</td>\n",
       "      <td>305</td>\n",
       "      <td>1.0</td>\n",
       "      <td>...</td>\n",
       "      <td>0</td>\n",
       "      <td>0</td>\n",
       "      <td>0</td>\n",
       "      <td>1</td>\n",
       "      <td>0</td>\n",
       "      <td>0</td>\n",
       "      <td>0</td>\n",
       "      <td>0</td>\n",
       "      <td>0</td>\n",
       "      <td>0</td>\n",
       "    </tr>\n",
       "    <tr>\n",
       "      <th>4</th>\n",
       "      <td>3256f628-e534-4826-9d63-4a8b88782852</td>\n",
       "      <td>660681</td>\n",
       "      <td>Landing Page Submission</td>\n",
       "      <td>Google</td>\n",
       "      <td>0</td>\n",
       "      <td>0</td>\n",
       "      <td>1</td>\n",
       "      <td>2.0</td>\n",
       "      <td>1428</td>\n",
       "      <td>1.0</td>\n",
       "      <td>...</td>\n",
       "      <td>0</td>\n",
       "      <td>0</td>\n",
       "      <td>0</td>\n",
       "      <td>1</td>\n",
       "      <td>0</td>\n",
       "      <td>0</td>\n",
       "      <td>0</td>\n",
       "      <td>0</td>\n",
       "      <td>0</td>\n",
       "      <td>0</td>\n",
       "    </tr>\n",
       "  </tbody>\n",
       "</table>\n",
       "<p>5 rows × 76 columns</p>\n",
       "</div>"
      ],
      "text/plain": [
       "                            Prospect ID  Lead Number              Lead Origin  \\\n",
       "0  7927b2df-8bba-4d29-b9a2-b6e0beafe620       660737                      API   \n",
       "1  2a272436-5132-4136-86fa-dcc88c88f482       660728                      API   \n",
       "2  8cc8c611-a219-4f35-ad23-fdfd2656bd8a       660727  Landing Page Submission   \n",
       "3  0cc2df48-7cf4-4e39-9de9-19797f9b38cc       660719  Landing Page Submission   \n",
       "4  3256f628-e534-4826-9d63-4a8b88782852       660681  Landing Page Submission   \n",
       "\n",
       "      Lead Source  Do Not Email  Do Not Call  Converted  TotalVisits  \\\n",
       "0      Olark Chat             0            0          0          0.0   \n",
       "1  Organic Search             0            0          0          5.0   \n",
       "2  Direct Traffic             0            0          1          2.0   \n",
       "3  Direct Traffic             0            0          0          1.0   \n",
       "4          Google             0            0          1          2.0   \n",
       "\n",
       "   Total Time Spent on Website  Page Views Per Visit  ...  \\\n",
       "0                            0                   0.0  ...   \n",
       "1                          674                   2.5  ...   \n",
       "2                         1532                   2.0  ...   \n",
       "3                          305                   1.0  ...   \n",
       "4                         1428                   1.0  ...   \n",
       "\n",
       "  LastNotableActivity_Email Received  \\\n",
       "0                                  0   \n",
       "1                                  0   \n",
       "2                                  0   \n",
       "3                                  0   \n",
       "4                                  0   \n",
       "\n",
       "  LastNotableActivity_Form Submitted on Website  \\\n",
       "0                                             0   \n",
       "1                                             0   \n",
       "2                                             0   \n",
       "3                                             0   \n",
       "4                                             0   \n",
       "\n",
       "   LastNotableActivity_Had a Phone Conversation  LastNotableActivity_Modified  \\\n",
       "0                                             0                             1   \n",
       "1                                             0                             0   \n",
       "2                                             0                             0   \n",
       "3                                             0                             1   \n",
       "4                                             0                             1   \n",
       "\n",
       "   LastNotableActivity_Olark Chat Conversation  \\\n",
       "0                                            0   \n",
       "1                                            0   \n",
       "2                                            0   \n",
       "3                                            0   \n",
       "4                                            0   \n",
       "\n",
       "   LastNotableActivity_Page Visited on Website LastNotableActivity_SMS Sent  \\\n",
       "0                                            0                            0   \n",
       "1                                            0                            0   \n",
       "2                                            0                            0   \n",
       "3                                            0                            0   \n",
       "4                                            0                            0   \n",
       "\n",
       "   LastNotableActivity_Unreachable  LastNotableActivity_Unsubscribed  \\\n",
       "0                                0                                 0   \n",
       "1                                0                                 0   \n",
       "2                                0                                 0   \n",
       "3                                0                                 0   \n",
       "4                                0                                 0   \n",
       "\n",
       "   LastNotableActivity_View in browser link Clicked  \n",
       "0                                                 0  \n",
       "1                                                 0  \n",
       "2                                                 0  \n",
       "3                                                 0  \n",
       "4                                                 0  \n",
       "\n",
       "[5 rows x 76 columns]"
      ]
     },
     "execution_count": 68,
     "metadata": {},
     "output_type": "execute_result"
    }
   ],
   "source": [
    "# Creating dummies for the following columns below\n",
    "\n",
    "# Lead Origin : \n",
    "\n",
    "d_lead_origin = pd.get_dummies(df['Lead Origin'], prefix='LeadOrigin')\n",
    "# Dropping quick Add Form column\n",
    "d_lead_origin1 = d_lead_origin.drop(['LeadOrigin_Quick Add Form'], 1)\n",
    "#Adding the results to the master dataframe\n",
    "df = pd.concat([df, d_lead_origin1], axis = 1)\n",
    "\n",
    "# Lead Source :\n",
    "\n",
    "d_lead_source = pd.get_dummies(df['Lead Source'], prefix='LeadSource')\n",
    "# Dropping blog column\n",
    "d_lead_source1 = d_lead_source.drop(['LeadSource_NC_EDM'], 1)\n",
    "# Adding the results to the master dataframe\n",
    "df = pd.concat([df,d_lead_source1], axis=1)\n",
    "\n",
    "# last Activity\n",
    "\n",
    "d_last_activity = pd.get_dummies(df['Last Activity'], prefix='LastActivity')\n",
    "# Dropping Resubscribed to emails column\n",
    "d_last_activity1 = d_last_activity.drop(['LastActivity_Resubscribed to emails'], 1)\n",
    "# Adding the results to the master dataframe\n",
    "df = pd.concat([df,d_last_activity1], axis=1)\n",
    "\n",
    "# What is your current occupation\n",
    "\n",
    "d_curr_occupation = pd.get_dummies(df['What is your current occupation'], prefix='CurrentOccupation')\n",
    "# Dropping No Information column\n",
    "d_curr_occupation1 = d_curr_occupation.drop(['CurrentOccupation_Businessman'], 1)\n",
    "# Adding the results to the master dataframe\n",
    "df = pd.concat([df,d_curr_occupation1], axis=1)\n",
    "\n",
    "# Last Notable Activity\n",
    "\n",
    "d_last_notable_activity = pd.get_dummies(df['Last Notable Activity'], prefix='LastNotableActivity')\n",
    "# Dropping Resubscribed to emails column\n",
    "d_last_notable_activity1 = d_last_notable_activity.drop(['LastNotableActivity_Resubscribed to emails'], 1)\n",
    "# Adding the results to the master dataframe\n",
    "df = pd.concat([df,d_last_notable_activity1], axis=1)\n",
    "\n",
    "df.head()"
   ]
  },
  {
   "cell_type": "code",
   "execution_count": 69,
   "metadata": {},
   "outputs": [],
   "source": [
    "# Remove following columns from the df\n",
    "\n",
    "# a) Prospect ID\n",
    "# b) Lead Numbers\n",
    "# c) Lead Origin\n",
    "# d) Lead Source\n",
    "# e) Last Activity\n",
    "# f) What is your current occupation\n",
    "# g) Last Notable Activity\n",
    "\n",
    "df = df.drop(['Prospect ID', 'Lead Number', 'Lead Origin', 'Lead Source', 'Last Activity',\n",
    "                          'What is your current occupation', 'Last Notable Activity'], axis=1)\n"
   ]
  },
  {
   "cell_type": "code",
   "execution_count": 70,
   "metadata": {
    "scrolled": true
   },
   "outputs": [
    {
     "name": "stdout",
     "output_type": "stream",
     "text": [
      "<class 'pandas.core.frame.DataFrame'>\n",
      "Int64Index: 9029 entries, 0 to 9239\n",
      "Data columns (total 69 columns):\n",
      " #   Column                                            Non-Null Count  Dtype  \n",
      "---  ------                                            --------------  -----  \n",
      " 0   Do Not Email                                      9029 non-null   int64  \n",
      " 1   Do Not Call                                       9029 non-null   int64  \n",
      " 2   Converted                                         9029 non-null   int64  \n",
      " 3   TotalVisits                                       9029 non-null   float64\n",
      " 4   Total Time Spent on Website                       9029 non-null   int64  \n",
      " 5   Page Views Per Visit                              9029 non-null   float64\n",
      " 6   Search                                            9029 non-null   int64  \n",
      " 7   Digital Advertisement                             9029 non-null   int64  \n",
      " 8   Through Recommendations                           9029 non-null   int64  \n",
      " 9   A free copy of Mastering The Interview            9029 non-null   int64  \n",
      " 10  LeadOrigin_API                                    9029 non-null   uint8  \n",
      " 11  LeadOrigin_Landing Page Submission                9029 non-null   uint8  \n",
      " 12  LeadOrigin_Lead Add Form                          9029 non-null   uint8  \n",
      " 13  LeadOrigin_Lead Import                            9029 non-null   uint8  \n",
      " 14  LeadSource_Click2call                             9029 non-null   uint8  \n",
      " 15  LeadSource_Direct Traffic                         9029 non-null   uint8  \n",
      " 16  LeadSource_Facebook                               9029 non-null   uint8  \n",
      " 17  LeadSource_Google                                 9029 non-null   uint8  \n",
      " 18  LeadSource_Live Chat                              9029 non-null   uint8  \n",
      " 19  LeadSource_Olark Chat                             9029 non-null   uint8  \n",
      " 20  LeadSource_Organic Search                         9029 non-null   uint8  \n",
      " 21  LeadSource_Pay per Click Ads                      9029 non-null   uint8  \n",
      " 22  LeadSource_Press_Release                          9029 non-null   uint8  \n",
      " 23  LeadSource_Reference                              9029 non-null   uint8  \n",
      " 24  LeadSource_Referral Sites                         9029 non-null   uint8  \n",
      " 25  LeadSource_Social Media                           9029 non-null   uint8  \n",
      " 26  LeadSource_WeLearn                                9029 non-null   uint8  \n",
      " 27  LeadSource_Welingak Website                       9029 non-null   uint8  \n",
      " 28  LeadSource_bing                                   9029 non-null   uint8  \n",
      " 29  LeadSource_blog                                   9029 non-null   uint8  \n",
      " 30  LeadSource_testone                                9029 non-null   uint8  \n",
      " 31  LeadSource_welearnblog_Home                       9029 non-null   uint8  \n",
      " 32  LeadSource_youtubechannel                         9029 non-null   uint8  \n",
      " 33  LastActivity_Approached upfront                   9029 non-null   uint8  \n",
      " 34  LastActivity_Converted to Lead                    9029 non-null   uint8  \n",
      " 35  LastActivity_Email Bounced                        9029 non-null   uint8  \n",
      " 36  LastActivity_Email Link Clicked                   9029 non-null   uint8  \n",
      " 37  LastActivity_Email Marked Spam                    9029 non-null   uint8  \n",
      " 38  LastActivity_Email Opened                         9029 non-null   uint8  \n",
      " 39  LastActivity_Email Received                       9029 non-null   uint8  \n",
      " 40  LastActivity_Form Submitted on Website            9029 non-null   uint8  \n",
      " 41  LastActivity_Had a Phone Conversation             9029 non-null   uint8  \n",
      " 42  LastActivity_Olark Chat Conversation              9029 non-null   uint8  \n",
      " 43  LastActivity_Page Visited on Website              9029 non-null   uint8  \n",
      " 44  LastActivity_SMS Sent                             9029 non-null   uint8  \n",
      " 45  LastActivity_Unreachable                          9029 non-null   uint8  \n",
      " 46  LastActivity_Unsubscribed                         9029 non-null   uint8  \n",
      " 47  LastActivity_View in browser link Clicked         9029 non-null   uint8  \n",
      " 48  LastActivity_Visited Booth in Tradeshow           9029 non-null   uint8  \n",
      " 49  CurrentOccupation_Housewife                       9029 non-null   uint8  \n",
      " 50  CurrentOccupation_Other                           9029 non-null   uint8  \n",
      " 51  CurrentOccupation_Student                         9029 non-null   uint8  \n",
      " 52  CurrentOccupation_Unemployed                      9029 non-null   uint8  \n",
      " 53  CurrentOccupation_Working Professional            9029 non-null   uint8  \n",
      " 54  LastNotableActivity_Approached upfront            9029 non-null   uint8  \n",
      " 55  LastNotableActivity_Email Bounced                 9029 non-null   uint8  \n",
      " 56  LastNotableActivity_Email Link Clicked            9029 non-null   uint8  \n",
      " 57  LastNotableActivity_Email Marked Spam             9029 non-null   uint8  \n",
      " 58  LastNotableActivity_Email Opened                  9029 non-null   uint8  \n",
      " 59  LastNotableActivity_Email Received                9029 non-null   uint8  \n",
      " 60  LastNotableActivity_Form Submitted on Website     9029 non-null   uint8  \n",
      " 61  LastNotableActivity_Had a Phone Conversation      9029 non-null   uint8  \n",
      " 62  LastNotableActivity_Modified                      9029 non-null   uint8  \n",
      " 63  LastNotableActivity_Olark Chat Conversation       9029 non-null   uint8  \n",
      " 64  LastNotableActivity_Page Visited on Website       9029 non-null   uint8  \n",
      " 65  LastNotableActivity_SMS Sent                      9029 non-null   uint8  \n",
      " 66  LastNotableActivity_Unreachable                   9029 non-null   uint8  \n",
      " 67  LastNotableActivity_Unsubscribed                  9029 non-null   uint8  \n",
      " 68  LastNotableActivity_View in browser link Clicked  9029 non-null   uint8  \n",
      "dtypes: float64(2), int64(8), uint8(59)\n",
      "memory usage: 1.6 MB\n"
     ]
    }
   ],
   "source": [
    "df.info()"
   ]
  },
  {
   "cell_type": "code",
   "execution_count": 71,
   "metadata": {
    "scrolled": true
   },
   "outputs": [
    {
     "name": "stdout",
     "output_type": "stream",
     "text": [
      "Do Not Email                                        0.0\n",
      "Do Not Call                                         0.0\n",
      "Converted                                           0.0\n",
      "TotalVisits                                         0.0\n",
      "Total Time Spent on Website                         0.0\n",
      "                                                   ... \n",
      "LastNotableActivity_Page Visited on Website         0.0\n",
      "LastNotableActivity_SMS Sent                        0.0\n",
      "LastNotableActivity_Unreachable                     0.0\n",
      "LastNotableActivity_Unsubscribed                    0.0\n",
      "LastNotableActivity_View in browser link Clicked    0.0\n",
      "Length: 69, dtype: float64\n"
     ]
    }
   ],
   "source": [
    "# check for percentage of null values in each column\n",
    "\n",
    "percent_missing = round(100*(df.isnull().sum()/len(df.index)), 2)\n",
    "print(percent_missing)"
   ]
  },
  {
   "cell_type": "code",
   "execution_count": 72,
   "metadata": {},
   "outputs": [
    {
     "data": {
      "text/plain": [
       "(9029, 69)"
      ]
     },
     "execution_count": 72,
     "metadata": {},
     "output_type": "execute_result"
    }
   ],
   "source": [
    "# check shape of the data frame\n",
    "\n",
    "df.shape"
   ]
  },
  {
   "cell_type": "markdown",
   "metadata": {},
   "source": [
    "Since there are around 71 columns, we will not be looking at the correlation using heat map as we will not be able to infer anything from the heat map due to huge data"
   ]
  },
  {
   "cell_type": "markdown",
   "metadata": {},
   "source": [
    "### Step 5: Test-Train Split"
   ]
  },
  {
   "cell_type": "code",
   "execution_count": 73,
   "metadata": {},
   "outputs": [],
   "source": [
    "from sklearn.model_selection import train_test_split"
   ]
  },
  {
   "cell_type": "code",
   "execution_count": 74,
   "metadata": {},
   "outputs": [
    {
     "data": {
      "text/html": [
       "<div>\n",
       "<style scoped>\n",
       "    .dataframe tbody tr th:only-of-type {\n",
       "        vertical-align: middle;\n",
       "    }\n",
       "\n",
       "    .dataframe tbody tr th {\n",
       "        vertical-align: top;\n",
       "    }\n",
       "\n",
       "    .dataframe thead th {\n",
       "        text-align: right;\n",
       "    }\n",
       "</style>\n",
       "<table border=\"1\" class=\"dataframe\">\n",
       "  <thead>\n",
       "    <tr style=\"text-align: right;\">\n",
       "      <th></th>\n",
       "      <th>Do Not Email</th>\n",
       "      <th>Do Not Call</th>\n",
       "      <th>TotalVisits</th>\n",
       "      <th>Total Time Spent on Website</th>\n",
       "      <th>Page Views Per Visit</th>\n",
       "      <th>Search</th>\n",
       "      <th>Digital Advertisement</th>\n",
       "      <th>Through Recommendations</th>\n",
       "      <th>A free copy of Mastering The Interview</th>\n",
       "      <th>LeadOrigin_API</th>\n",
       "      <th>...</th>\n",
       "      <th>LastNotableActivity_Email Received</th>\n",
       "      <th>LastNotableActivity_Form Submitted on Website</th>\n",
       "      <th>LastNotableActivity_Had a Phone Conversation</th>\n",
       "      <th>LastNotableActivity_Modified</th>\n",
       "      <th>LastNotableActivity_Olark Chat Conversation</th>\n",
       "      <th>LastNotableActivity_Page Visited on Website</th>\n",
       "      <th>LastNotableActivity_SMS Sent</th>\n",
       "      <th>LastNotableActivity_Unreachable</th>\n",
       "      <th>LastNotableActivity_Unsubscribed</th>\n",
       "      <th>LastNotableActivity_View in browser link Clicked</th>\n",
       "    </tr>\n",
       "  </thead>\n",
       "  <tbody>\n",
       "    <tr>\n",
       "      <th>0</th>\n",
       "      <td>0</td>\n",
       "      <td>0</td>\n",
       "      <td>0.0</td>\n",
       "      <td>0</td>\n",
       "      <td>0.0</td>\n",
       "      <td>0</td>\n",
       "      <td>0</td>\n",
       "      <td>0</td>\n",
       "      <td>0</td>\n",
       "      <td>1</td>\n",
       "      <td>...</td>\n",
       "      <td>0</td>\n",
       "      <td>0</td>\n",
       "      <td>0</td>\n",
       "      <td>1</td>\n",
       "      <td>0</td>\n",
       "      <td>0</td>\n",
       "      <td>0</td>\n",
       "      <td>0</td>\n",
       "      <td>0</td>\n",
       "      <td>0</td>\n",
       "    </tr>\n",
       "    <tr>\n",
       "      <th>1</th>\n",
       "      <td>0</td>\n",
       "      <td>0</td>\n",
       "      <td>5.0</td>\n",
       "      <td>674</td>\n",
       "      <td>2.5</td>\n",
       "      <td>0</td>\n",
       "      <td>0</td>\n",
       "      <td>0</td>\n",
       "      <td>0</td>\n",
       "      <td>1</td>\n",
       "      <td>...</td>\n",
       "      <td>0</td>\n",
       "      <td>0</td>\n",
       "      <td>0</td>\n",
       "      <td>0</td>\n",
       "      <td>0</td>\n",
       "      <td>0</td>\n",
       "      <td>0</td>\n",
       "      <td>0</td>\n",
       "      <td>0</td>\n",
       "      <td>0</td>\n",
       "    </tr>\n",
       "    <tr>\n",
       "      <th>2</th>\n",
       "      <td>0</td>\n",
       "      <td>0</td>\n",
       "      <td>2.0</td>\n",
       "      <td>1532</td>\n",
       "      <td>2.0</td>\n",
       "      <td>0</td>\n",
       "      <td>0</td>\n",
       "      <td>0</td>\n",
       "      <td>1</td>\n",
       "      <td>0</td>\n",
       "      <td>...</td>\n",
       "      <td>0</td>\n",
       "      <td>0</td>\n",
       "      <td>0</td>\n",
       "      <td>0</td>\n",
       "      <td>0</td>\n",
       "      <td>0</td>\n",
       "      <td>0</td>\n",
       "      <td>0</td>\n",
       "      <td>0</td>\n",
       "      <td>0</td>\n",
       "    </tr>\n",
       "    <tr>\n",
       "      <th>3</th>\n",
       "      <td>0</td>\n",
       "      <td>0</td>\n",
       "      <td>1.0</td>\n",
       "      <td>305</td>\n",
       "      <td>1.0</td>\n",
       "      <td>0</td>\n",
       "      <td>0</td>\n",
       "      <td>0</td>\n",
       "      <td>0</td>\n",
       "      <td>0</td>\n",
       "      <td>...</td>\n",
       "      <td>0</td>\n",
       "      <td>0</td>\n",
       "      <td>0</td>\n",
       "      <td>1</td>\n",
       "      <td>0</td>\n",
       "      <td>0</td>\n",
       "      <td>0</td>\n",
       "      <td>0</td>\n",
       "      <td>0</td>\n",
       "      <td>0</td>\n",
       "    </tr>\n",
       "    <tr>\n",
       "      <th>4</th>\n",
       "      <td>0</td>\n",
       "      <td>0</td>\n",
       "      <td>2.0</td>\n",
       "      <td>1428</td>\n",
       "      <td>1.0</td>\n",
       "      <td>0</td>\n",
       "      <td>0</td>\n",
       "      <td>0</td>\n",
       "      <td>0</td>\n",
       "      <td>0</td>\n",
       "      <td>...</td>\n",
       "      <td>0</td>\n",
       "      <td>0</td>\n",
       "      <td>0</td>\n",
       "      <td>1</td>\n",
       "      <td>0</td>\n",
       "      <td>0</td>\n",
       "      <td>0</td>\n",
       "      <td>0</td>\n",
       "      <td>0</td>\n",
       "      <td>0</td>\n",
       "    </tr>\n",
       "  </tbody>\n",
       "</table>\n",
       "<p>5 rows × 68 columns</p>\n",
       "</div>"
      ],
      "text/plain": [
       "   Do Not Email  Do Not Call  TotalVisits  Total Time Spent on Website  \\\n",
       "0             0            0          0.0                            0   \n",
       "1             0            0          5.0                          674   \n",
       "2             0            0          2.0                         1532   \n",
       "3             0            0          1.0                          305   \n",
       "4             0            0          2.0                         1428   \n",
       "\n",
       "   Page Views Per Visit  Search  Digital Advertisement  \\\n",
       "0                   0.0       0                      0   \n",
       "1                   2.5       0                      0   \n",
       "2                   2.0       0                      0   \n",
       "3                   1.0       0                      0   \n",
       "4                   1.0       0                      0   \n",
       "\n",
       "   Through Recommendations  A free copy of Mastering The Interview  \\\n",
       "0                        0                                       0   \n",
       "1                        0                                       0   \n",
       "2                        0                                       1   \n",
       "3                        0                                       0   \n",
       "4                        0                                       0   \n",
       "\n",
       "   LeadOrigin_API  ...  LastNotableActivity_Email Received  \\\n",
       "0               1  ...                                   0   \n",
       "1               1  ...                                   0   \n",
       "2               0  ...                                   0   \n",
       "3               0  ...                                   0   \n",
       "4               0  ...                                   0   \n",
       "\n",
       "   LastNotableActivity_Form Submitted on Website  \\\n",
       "0                                              0   \n",
       "1                                              0   \n",
       "2                                              0   \n",
       "3                                              0   \n",
       "4                                              0   \n",
       "\n",
       "   LastNotableActivity_Had a Phone Conversation  LastNotableActivity_Modified  \\\n",
       "0                                             0                             1   \n",
       "1                                             0                             0   \n",
       "2                                             0                             0   \n",
       "3                                             0                             1   \n",
       "4                                             0                             1   \n",
       "\n",
       "   LastNotableActivity_Olark Chat Conversation  \\\n",
       "0                                            0   \n",
       "1                                            0   \n",
       "2                                            0   \n",
       "3                                            0   \n",
       "4                                            0   \n",
       "\n",
       "   LastNotableActivity_Page Visited on Website  LastNotableActivity_SMS Sent  \\\n",
       "0                                            0                             0   \n",
       "1                                            0                             0   \n",
       "2                                            0                             0   \n",
       "3                                            0                             0   \n",
       "4                                            0                             0   \n",
       "\n",
       "   LastNotableActivity_Unreachable  LastNotableActivity_Unsubscribed  \\\n",
       "0                                0                                 0   \n",
       "1                                0                                 0   \n",
       "2                                0                                 0   \n",
       "3                                0                                 0   \n",
       "4                                0                                 0   \n",
       "\n",
       "   LastNotableActivity_View in browser link Clicked  \n",
       "0                                                 0  \n",
       "1                                                 0  \n",
       "2                                                 0  \n",
       "3                                                 0  \n",
       "4                                                 0  \n",
       "\n",
       "[5 rows x 68 columns]"
      ]
     },
     "execution_count": 74,
     "metadata": {},
     "output_type": "execute_result"
    }
   ],
   "source": [
    "# Putting feature variable to X\n",
    "\n",
    "X = df.drop(['Converted'], axis=1)\n",
    "X.head()"
   ]
  },
  {
   "cell_type": "code",
   "execution_count": 75,
   "metadata": {},
   "outputs": [
    {
     "data": {
      "text/plain": [
       "0    0\n",
       "1    0\n",
       "2    1\n",
       "3    0\n",
       "4    1\n",
       "Name: Converted, dtype: int64"
      ]
     },
     "execution_count": 75,
     "metadata": {},
     "output_type": "execute_result"
    }
   ],
   "source": [
    "# Putting response variable to y\n",
    "\n",
    "y = df['Converted']\n",
    "y.head()"
   ]
  },
  {
   "cell_type": "code",
   "execution_count": 76,
   "metadata": {},
   "outputs": [],
   "source": [
    "# Splitting the data into train and test\n",
    "\n",
    "X_train, X_test, y_train, y_test = train_test_split(X, y, train_size=0.7, test_size=0.3, random_state=42)"
   ]
  },
  {
   "cell_type": "markdown",
   "metadata": {},
   "source": [
    "### Step 6: Rescaling the features with MinMax Scaling"
   ]
  },
  {
   "cell_type": "code",
   "execution_count": 77,
   "metadata": {},
   "outputs": [
    {
     "data": {
      "text/html": [
       "<div>\n",
       "<style scoped>\n",
       "    .dataframe tbody tr th:only-of-type {\n",
       "        vertical-align: middle;\n",
       "    }\n",
       "\n",
       "    .dataframe tbody tr th {\n",
       "        vertical-align: top;\n",
       "    }\n",
       "\n",
       "    .dataframe thead th {\n",
       "        text-align: right;\n",
       "    }\n",
       "</style>\n",
       "<table border=\"1\" class=\"dataframe\">\n",
       "  <thead>\n",
       "    <tr style=\"text-align: right;\">\n",
       "      <th></th>\n",
       "      <th>Do Not Email</th>\n",
       "      <th>Do Not Call</th>\n",
       "      <th>TotalVisits</th>\n",
       "      <th>Total Time Spent on Website</th>\n",
       "      <th>Page Views Per Visit</th>\n",
       "      <th>Search</th>\n",
       "      <th>Digital Advertisement</th>\n",
       "      <th>Through Recommendations</th>\n",
       "      <th>A free copy of Mastering The Interview</th>\n",
       "      <th>LeadOrigin_API</th>\n",
       "      <th>...</th>\n",
       "      <th>LastNotableActivity_Email Received</th>\n",
       "      <th>LastNotableActivity_Form Submitted on Website</th>\n",
       "      <th>LastNotableActivity_Had a Phone Conversation</th>\n",
       "      <th>LastNotableActivity_Modified</th>\n",
       "      <th>LastNotableActivity_Olark Chat Conversation</th>\n",
       "      <th>LastNotableActivity_Page Visited on Website</th>\n",
       "      <th>LastNotableActivity_SMS Sent</th>\n",
       "      <th>LastNotableActivity_Unreachable</th>\n",
       "      <th>LastNotableActivity_Unsubscribed</th>\n",
       "      <th>LastNotableActivity_View in browser link Clicked</th>\n",
       "    </tr>\n",
       "  </thead>\n",
       "  <tbody>\n",
       "    <tr>\n",
       "      <th>2240</th>\n",
       "      <td>0</td>\n",
       "      <td>0</td>\n",
       "      <td>0.1875</td>\n",
       "      <td>0.898963</td>\n",
       "      <td>0.375</td>\n",
       "      <td>0</td>\n",
       "      <td>0</td>\n",
       "      <td>0</td>\n",
       "      <td>0</td>\n",
       "      <td>0</td>\n",
       "      <td>...</td>\n",
       "      <td>0</td>\n",
       "      <td>0</td>\n",
       "      <td>0</td>\n",
       "      <td>0</td>\n",
       "      <td>0</td>\n",
       "      <td>0</td>\n",
       "      <td>0</td>\n",
       "      <td>0</td>\n",
       "      <td>0</td>\n",
       "      <td>0</td>\n",
       "    </tr>\n",
       "    <tr>\n",
       "      <th>113</th>\n",
       "      <td>0</td>\n",
       "      <td>0</td>\n",
       "      <td>0.3125</td>\n",
       "      <td>0.706360</td>\n",
       "      <td>0.625</td>\n",
       "      <td>0</td>\n",
       "      <td>0</td>\n",
       "      <td>0</td>\n",
       "      <td>0</td>\n",
       "      <td>1</td>\n",
       "      <td>...</td>\n",
       "      <td>0</td>\n",
       "      <td>0</td>\n",
       "      <td>0</td>\n",
       "      <td>1</td>\n",
       "      <td>0</td>\n",
       "      <td>0</td>\n",
       "      <td>0</td>\n",
       "      <td>0</td>\n",
       "      <td>0</td>\n",
       "      <td>0</td>\n",
       "    </tr>\n",
       "    <tr>\n",
       "      <th>4132</th>\n",
       "      <td>0</td>\n",
       "      <td>0</td>\n",
       "      <td>0.3750</td>\n",
       "      <td>0.768155</td>\n",
       "      <td>0.750</td>\n",
       "      <td>0</td>\n",
       "      <td>0</td>\n",
       "      <td>0</td>\n",
       "      <td>1</td>\n",
       "      <td>0</td>\n",
       "      <td>...</td>\n",
       "      <td>0</td>\n",
       "      <td>0</td>\n",
       "      <td>0</td>\n",
       "      <td>1</td>\n",
       "      <td>0</td>\n",
       "      <td>0</td>\n",
       "      <td>0</td>\n",
       "      <td>0</td>\n",
       "      <td>0</td>\n",
       "      <td>0</td>\n",
       "    </tr>\n",
       "    <tr>\n",
       "      <th>5573</th>\n",
       "      <td>0</td>\n",
       "      <td>0</td>\n",
       "      <td>0.1250</td>\n",
       "      <td>0.028868</td>\n",
       "      <td>0.250</td>\n",
       "      <td>0</td>\n",
       "      <td>0</td>\n",
       "      <td>0</td>\n",
       "      <td>1</td>\n",
       "      <td>0</td>\n",
       "      <td>...</td>\n",
       "      <td>0</td>\n",
       "      <td>0</td>\n",
       "      <td>0</td>\n",
       "      <td>0</td>\n",
       "      <td>0</td>\n",
       "      <td>0</td>\n",
       "      <td>0</td>\n",
       "      <td>0</td>\n",
       "      <td>0</td>\n",
       "      <td>0</td>\n",
       "    </tr>\n",
       "    <tr>\n",
       "      <th>1109</th>\n",
       "      <td>0</td>\n",
       "      <td>0</td>\n",
       "      <td>0.0625</td>\n",
       "      <td>0.009021</td>\n",
       "      <td>0.125</td>\n",
       "      <td>0</td>\n",
       "      <td>0</td>\n",
       "      <td>0</td>\n",
       "      <td>0</td>\n",
       "      <td>1</td>\n",
       "      <td>...</td>\n",
       "      <td>0</td>\n",
       "      <td>0</td>\n",
       "      <td>0</td>\n",
       "      <td>1</td>\n",
       "      <td>0</td>\n",
       "      <td>0</td>\n",
       "      <td>0</td>\n",
       "      <td>0</td>\n",
       "      <td>0</td>\n",
       "      <td>0</td>\n",
       "    </tr>\n",
       "  </tbody>\n",
       "</table>\n",
       "<p>5 rows × 68 columns</p>\n",
       "</div>"
      ],
      "text/plain": [
       "      Do Not Email  Do Not Call  TotalVisits  Total Time Spent on Website  \\\n",
       "2240             0            0       0.1875                     0.898963   \n",
       "113              0            0       0.3125                     0.706360   \n",
       "4132             0            0       0.3750                     0.768155   \n",
       "5573             0            0       0.1250                     0.028868   \n",
       "1109             0            0       0.0625                     0.009021   \n",
       "\n",
       "      Page Views Per Visit  Search  Digital Advertisement  \\\n",
       "2240                 0.375       0                      0   \n",
       "113                  0.625       0                      0   \n",
       "4132                 0.750       0                      0   \n",
       "5573                 0.250       0                      0   \n",
       "1109                 0.125       0                      0   \n",
       "\n",
       "      Through Recommendations  A free copy of Mastering The Interview  \\\n",
       "2240                        0                                       0   \n",
       "113                         0                                       0   \n",
       "4132                        0                                       1   \n",
       "5573                        0                                       1   \n",
       "1109                        0                                       0   \n",
       "\n",
       "      LeadOrigin_API  ...  LastNotableActivity_Email Received  \\\n",
       "2240               0  ...                                   0   \n",
       "113                1  ...                                   0   \n",
       "4132               0  ...                                   0   \n",
       "5573               0  ...                                   0   \n",
       "1109               1  ...                                   0   \n",
       "\n",
       "      LastNotableActivity_Form Submitted on Website  \\\n",
       "2240                                              0   \n",
       "113                                               0   \n",
       "4132                                              0   \n",
       "5573                                              0   \n",
       "1109                                              0   \n",
       "\n",
       "      LastNotableActivity_Had a Phone Conversation  \\\n",
       "2240                                             0   \n",
       "113                                              0   \n",
       "4132                                             0   \n",
       "5573                                             0   \n",
       "1109                                             0   \n",
       "\n",
       "      LastNotableActivity_Modified  \\\n",
       "2240                             0   \n",
       "113                              1   \n",
       "4132                             1   \n",
       "5573                             0   \n",
       "1109                             1   \n",
       "\n",
       "      LastNotableActivity_Olark Chat Conversation  \\\n",
       "2240                                            0   \n",
       "113                                             0   \n",
       "4132                                            0   \n",
       "5573                                            0   \n",
       "1109                                            0   \n",
       "\n",
       "      LastNotableActivity_Page Visited on Website  \\\n",
       "2240                                            0   \n",
       "113                                             0   \n",
       "4132                                            0   \n",
       "5573                                            0   \n",
       "1109                                            0   \n",
       "\n",
       "      LastNotableActivity_SMS Sent  LastNotableActivity_Unreachable  \\\n",
       "2240                             0                                0   \n",
       "113                              0                                0   \n",
       "4132                             0                                0   \n",
       "5573                             0                                0   \n",
       "1109                             0                                0   \n",
       "\n",
       "      LastNotableActivity_Unsubscribed  \\\n",
       "2240                                 0   \n",
       "113                                  0   \n",
       "4132                                 0   \n",
       "5573                                 0   \n",
       "1109                                 0   \n",
       "\n",
       "      LastNotableActivity_View in browser link Clicked  \n",
       "2240                                                 0  \n",
       "113                                                  0  \n",
       "4132                                                 0  \n",
       "5573                                                 0  \n",
       "1109                                                 0  \n",
       "\n",
       "[5 rows x 68 columns]"
      ]
     },
     "execution_count": 77,
     "metadata": {},
     "output_type": "execute_result"
    }
   ],
   "source": [
    "from sklearn.preprocessing import MinMaxScaler\n",
    "\n",
    "scaler = MinMaxScaler()\n",
    "\n",
    "X_train[['TotalVisits','Total Time Spent on Website','Page Views Per Visit']] = scaler.fit_transform(X_train[['TotalVisits',\n",
    "                                                                        'Total Time Spent on Website','Page Views Per Visit']])\n",
    "\n",
    "X_train.head()"
   ]
  },
  {
   "cell_type": "code",
   "execution_count": 78,
   "metadata": {},
   "outputs": [
    {
     "data": {
      "text/plain": [
       "38.50924797873519"
      ]
     },
     "execution_count": 78,
     "metadata": {},
     "output_type": "execute_result"
    }
   ],
   "source": [
    "### Checking the Conversion Rate percentage\n",
    "\n",
    "converted = (sum(df['Converted'])/len(df['Converted'].index))*100\n",
    "converted"
   ]
  },
  {
   "cell_type": "markdown",
   "metadata": {},
   "source": [
    "#### We have almost 39% conversion rate"
   ]
  },
  {
   "cell_type": "markdown",
   "metadata": {},
   "source": [
    "### Step 7: Model Building\n",
    "Assessing the model with StatsModels"
   ]
  },
  {
   "cell_type": "markdown",
   "metadata": {},
   "source": [
    "#### Running the Initial Training Model"
   ]
  },
  {
   "cell_type": "code",
   "execution_count": 79,
   "metadata": {},
   "outputs": [],
   "source": [
    "import statsmodels.api as sm"
   ]
  },
  {
   "cell_type": "code",
   "execution_count": 80,
   "metadata": {},
   "outputs": [
    {
     "data": {
      "text/html": [
       "<table class=\"simpletable\">\n",
       "<caption>Generalized Linear Model Regression Results</caption>\n",
       "<tr>\n",
       "  <th>Dep. Variable:</th>       <td>Converted</td>    <th>  No. Observations:  </th>  <td>  6320</td> \n",
       "</tr>\n",
       "<tr>\n",
       "  <th>Model:</th>                  <td>GLM</td>       <th>  Df Residuals:      </th>  <td>  6261</td> \n",
       "</tr>\n",
       "<tr>\n",
       "  <th>Model Family:</th>        <td>Binomial</td>     <th>  Df Model:          </th>  <td>    58</td> \n",
       "</tr>\n",
       "<tr>\n",
       "  <th>Link Function:</th>         <td>logit</td>      <th>  Scale:             </th> <td>  1.0000</td>\n",
       "</tr>\n",
       "<tr>\n",
       "  <th>Method:</th>                <td>IRLS</td>       <th>  Log-Likelihood:    </th> <td>     nan</td>\n",
       "</tr>\n",
       "<tr>\n",
       "  <th>Date:</th>            <td>Sun, 11 Apr 2021</td> <th>  Deviance:          </th> <td>     nan</td>\n",
       "</tr>\n",
       "<tr>\n",
       "  <th>Time:</th>                <td>00:29:21</td>     <th>  Pearson chi2:      </th> <td>6.69e+18</td>\n",
       "</tr>\n",
       "<tr>\n",
       "  <th>No. Iterations:</th>         <td>100</td>       <th>                     </th>     <td> </td>   \n",
       "</tr>\n",
       "<tr>\n",
       "  <th>Covariance Type:</th>     <td>nonrobust</td>    <th>                     </th>     <td> </td>   \n",
       "</tr>\n",
       "</table>\n",
       "<table class=\"simpletable\">\n",
       "<tr>\n",
       "                          <td></td>                            <th>coef</th>     <th>std err</th>      <th>z</th>      <th>P>|z|</th>  <th>[0.025</th>    <th>0.975]</th>  \n",
       "</tr>\n",
       "<tr>\n",
       "  <th>const</th>                                            <td> 1.352e+27</td> <td> 6.67e+19</td> <td> 2.03e+07</td> <td> 0.000</td> <td> 1.35e+27</td> <td> 1.35e+27</td>\n",
       "</tr>\n",
       "<tr>\n",
       "  <th>Do Not Email</th>                                     <td>-3.387e+14</td> <td> 4.49e+06</td> <td>-7.55e+07</td> <td> 0.000</td> <td>-3.39e+14</td> <td>-3.39e+14</td>\n",
       "</tr>\n",
       "<tr>\n",
       "  <th>Do Not Call</th>                                      <td> 5.475e+13</td> <td> 4.76e+07</td> <td> 1.15e+06</td> <td> 0.000</td> <td> 5.48e+13</td> <td> 5.48e+13</td>\n",
       "</tr>\n",
       "<tr>\n",
       "  <th>TotalVisits</th>                                      <td>-2.964e+14</td> <td> 7.64e+06</td> <td>-3.88e+07</td> <td> 0.000</td> <td>-2.96e+14</td> <td>-2.96e+14</td>\n",
       "</tr>\n",
       "<tr>\n",
       "  <th>Total Time Spent on Website</th>                      <td> 2.929e+15</td> <td> 3.95e+06</td> <td> 7.41e+08</td> <td> 0.000</td> <td> 2.93e+15</td> <td> 2.93e+15</td>\n",
       "</tr>\n",
       "<tr>\n",
       "  <th>Page Views Per Visit</th>                             <td>-1.234e+15</td> <td> 6.51e+06</td> <td> -1.9e+08</td> <td> 0.000</td> <td>-1.23e+15</td> <td>-1.23e+15</td>\n",
       "</tr>\n",
       "<tr>\n",
       "  <th>Search</th>                                           <td>-6.045e+14</td> <td> 2.44e+07</td> <td>-2.48e+07</td> <td> 0.000</td> <td>-6.04e+14</td> <td>-6.04e+14</td>\n",
       "</tr>\n",
       "<tr>\n",
       "  <th>Digital Advertisement</th>                            <td> 9.468e+14</td> <td> 4.76e+07</td> <td> 1.99e+07</td> <td> 0.000</td> <td> 9.47e+14</td> <td> 9.47e+14</td>\n",
       "</tr>\n",
       "<tr>\n",
       "  <th>Through Recommendations</th>                          <td> -3.36e+14</td> <td>  4.2e+07</td> <td>-7.99e+06</td> <td> 0.000</td> <td>-3.36e+14</td> <td>-3.36e+14</td>\n",
       "</tr>\n",
       "<tr>\n",
       "  <th>A free copy of Mastering The Interview</th>           <td> 1.319e+14</td> <td>  2.7e+06</td> <td> 4.88e+07</td> <td> 0.000</td> <td> 1.32e+14</td> <td> 1.32e+14</td>\n",
       "</tr>\n",
       "<tr>\n",
       "  <th>LeadOrigin_API</th>                                   <td>-6.771e+15</td> <td> 6.74e+07</td> <td>   -1e+08</td> <td> 0.000</td> <td>-6.77e+15</td> <td>-6.77e+15</td>\n",
       "</tr>\n",
       "<tr>\n",
       "  <th>LeadOrigin_Landing Page Submission</th>               <td>-7.038e+15</td> <td> 6.74e+07</td> <td>-1.04e+08</td> <td> 0.000</td> <td>-7.04e+15</td> <td>-7.04e+15</td>\n",
       "</tr>\n",
       "<tr>\n",
       "  <th>LeadOrigin_Lead Add Form</th>                         <td>-5.726e+15</td> <td> 6.86e+07</td> <td>-8.34e+07</td> <td> 0.000</td> <td>-5.73e+15</td> <td>-5.73e+15</td>\n",
       "</tr>\n",
       "<tr>\n",
       "  <th>LeadOrigin_Lead Import</th>                           <td>-6.612e+15</td> <td> 8.27e+07</td> <td>   -8e+07</td> <td> 0.000</td> <td>-6.61e+15</td> <td>-6.61e+15</td>\n",
       "</tr>\n",
       "<tr>\n",
       "  <th>LeadSource_Click2call</th>                            <td>-2.876e+26</td> <td> 1.42e+19</td> <td>-2.03e+07</td> <td> 0.000</td> <td>-2.88e+26</td> <td>-2.88e+26</td>\n",
       "</tr>\n",
       "<tr>\n",
       "  <th>LeadSource_Direct Traffic</th>                        <td>-2.876e+26</td> <td> 1.42e+19</td> <td>-2.03e+07</td> <td> 0.000</td> <td>-2.88e+26</td> <td>-2.88e+26</td>\n",
       "</tr>\n",
       "<tr>\n",
       "  <th>LeadSource_Facebook</th>                              <td>-2.876e+26</td> <td> 1.42e+19</td> <td>-2.03e+07</td> <td> 0.000</td> <td>-2.88e+26</td> <td>-2.88e+26</td>\n",
       "</tr>\n",
       "<tr>\n",
       "  <th>LeadSource_Google</th>                                <td>-2.876e+26</td> <td> 1.42e+19</td> <td>-2.03e+07</td> <td> 0.000</td> <td>-2.88e+26</td> <td>-2.88e+26</td>\n",
       "</tr>\n",
       "<tr>\n",
       "  <th>LeadSource_Live Chat</th>                             <td>-2.876e+26</td> <td> 1.42e+19</td> <td>-2.03e+07</td> <td> 0.000</td> <td>-2.88e+26</td> <td>-2.88e+26</td>\n",
       "</tr>\n",
       "<tr>\n",
       "  <th>LeadSource_Olark Chat</th>                            <td>-2.876e+26</td> <td> 1.42e+19</td> <td>-2.03e+07</td> <td> 0.000</td> <td>-2.88e+26</td> <td>-2.88e+26</td>\n",
       "</tr>\n",
       "<tr>\n",
       "  <th>LeadSource_Organic Search</th>                        <td>-2.876e+26</td> <td> 1.42e+19</td> <td>-2.03e+07</td> <td> 0.000</td> <td>-2.88e+26</td> <td>-2.88e+26</td>\n",
       "</tr>\n",
       "<tr>\n",
       "  <th>LeadSource_Pay per Click Ads</th>                     <td>-4.267e+24</td> <td> 2.11e+17</td> <td>-2.03e+07</td> <td> 0.000</td> <td>-4.27e+24</td> <td>-4.27e+24</td>\n",
       "</tr>\n",
       "<tr>\n",
       "  <th>LeadSource_Press_Release</th>                         <td>  -6.1e+24</td> <td> 3.01e+17</td> <td>-2.03e+07</td> <td> 0.000</td> <td> -6.1e+24</td> <td> -6.1e+24</td>\n",
       "</tr>\n",
       "<tr>\n",
       "  <th>LeadSource_Reference</th>                             <td>-2.876e+26</td> <td> 1.42e+19</td> <td>-2.03e+07</td> <td> 0.000</td> <td>-2.88e+26</td> <td>-2.88e+26</td>\n",
       "</tr>\n",
       "<tr>\n",
       "  <th>LeadSource_Referral Sites</th>                        <td>-2.876e+26</td> <td> 1.42e+19</td> <td>-2.03e+07</td> <td> 0.000</td> <td>-2.88e+26</td> <td>-2.88e+26</td>\n",
       "</tr>\n",
       "<tr>\n",
       "  <th>LeadSource_Social Media</th>                          <td>-2.876e+26</td> <td> 1.42e+19</td> <td>-2.03e+07</td> <td> 0.000</td> <td>-2.88e+26</td> <td>-2.88e+26</td>\n",
       "</tr>\n",
       "<tr>\n",
       "  <th>LeadSource_WeLearn</th>                               <td>-1.349e+24</td> <td> 6.65e+16</td> <td>-2.03e+07</td> <td> 0.000</td> <td>-1.35e+24</td> <td>-1.35e+24</td>\n",
       "</tr>\n",
       "<tr>\n",
       "  <th>LeadSource_Welingak Website</th>                      <td>-2.876e+26</td> <td> 1.42e+19</td> <td>-2.03e+07</td> <td> 0.000</td> <td>-2.88e+26</td> <td>-2.88e+26</td>\n",
       "</tr>\n",
       "<tr>\n",
       "  <th>LeadSource_bing</th>                                  <td>-2.876e+26</td> <td> 1.42e+19</td> <td>-2.03e+07</td> <td> 0.000</td> <td>-2.88e+26</td> <td>-2.88e+26</td>\n",
       "</tr>\n",
       "<tr>\n",
       "  <th>LeadSource_blog</th>                                  <td>-2.876e+26</td> <td> 1.42e+19</td> <td>-2.03e+07</td> <td> 0.000</td> <td>-2.88e+26</td> <td>-2.88e+26</td>\n",
       "</tr>\n",
       "<tr>\n",
       "  <th>LeadSource_testone</th>                               <td>-2.876e+26</td> <td> 1.42e+19</td> <td>-2.03e+07</td> <td> 0.000</td> <td>-2.88e+26</td> <td>-2.88e+26</td>\n",
       "</tr>\n",
       "<tr>\n",
       "  <th>LeadSource_welearnblog_Home</th>                      <td>-2.876e+26</td> <td> 1.42e+19</td> <td>-2.03e+07</td> <td> 0.000</td> <td>-2.88e+26</td> <td>-2.88e+26</td>\n",
       "</tr>\n",
       "<tr>\n",
       "  <th>LeadSource_youtubechannel</th>                        <td>-1.666e+24</td> <td> 8.22e+16</td> <td>-2.03e+07</td> <td> 0.000</td> <td>-1.67e+24</td> <td>-1.67e+24</td>\n",
       "</tr>\n",
       "<tr>\n",
       "  <th>LastActivity_Approached upfront</th>                  <td>-3.612e+26</td> <td> 1.78e+19</td> <td>-2.03e+07</td> <td> 0.000</td> <td>-3.61e+26</td> <td>-3.61e+26</td>\n",
       "</tr>\n",
       "<tr>\n",
       "  <th>LastActivity_Converted to Lead</th>                   <td>-3.612e+26</td> <td> 1.78e+19</td> <td>-2.03e+07</td> <td> 0.000</td> <td>-3.61e+26</td> <td>-3.61e+26</td>\n",
       "</tr>\n",
       "<tr>\n",
       "  <th>LastActivity_Email Bounced</th>                       <td>-3.612e+26</td> <td> 1.78e+19</td> <td>-2.03e+07</td> <td> 0.000</td> <td>-3.61e+26</td> <td>-3.61e+26</td>\n",
       "</tr>\n",
       "<tr>\n",
       "  <th>LastActivity_Email Link Clicked</th>                  <td>-3.612e+26</td> <td> 1.78e+19</td> <td>-2.03e+07</td> <td> 0.000</td> <td>-3.61e+26</td> <td>-3.61e+26</td>\n",
       "</tr>\n",
       "<tr>\n",
       "  <th>LastActivity_Email Marked Spam</th>                   <td>-5.331e+26</td> <td> 2.63e+19</td> <td>-2.03e+07</td> <td> 0.000</td> <td>-5.33e+26</td> <td>-5.33e+26</td>\n",
       "</tr>\n",
       "<tr>\n",
       "  <th>LastActivity_Email Opened</th>                        <td>-3.612e+26</td> <td> 1.78e+19</td> <td>-2.03e+07</td> <td> 0.000</td> <td>-3.61e+26</td> <td>-3.61e+26</td>\n",
       "</tr>\n",
       "<tr>\n",
       "  <th>LastActivity_Email Received</th>                      <td>-3.612e+26</td> <td> 1.78e+19</td> <td>-2.03e+07</td> <td> 0.000</td> <td>-3.61e+26</td> <td>-3.61e+26</td>\n",
       "</tr>\n",
       "<tr>\n",
       "  <th>LastActivity_Form Submitted on Website</th>           <td>-3.612e+26</td> <td> 1.78e+19</td> <td>-2.03e+07</td> <td> 0.000</td> <td>-3.61e+26</td> <td>-3.61e+26</td>\n",
       "</tr>\n",
       "<tr>\n",
       "  <th>LastActivity_Had a Phone Conversation</th>            <td>-3.612e+26</td> <td> 1.78e+19</td> <td>-2.03e+07</td> <td> 0.000</td> <td>-3.61e+26</td> <td>-3.61e+26</td>\n",
       "</tr>\n",
       "<tr>\n",
       "  <th>LastActivity_Olark Chat Conversation</th>             <td>-3.612e+26</td> <td> 1.78e+19</td> <td>-2.03e+07</td> <td> 0.000</td> <td>-3.61e+26</td> <td>-3.61e+26</td>\n",
       "</tr>\n",
       "<tr>\n",
       "  <th>LastActivity_Page Visited on Website</th>             <td>-3.612e+26</td> <td> 1.78e+19</td> <td>-2.03e+07</td> <td> 0.000</td> <td>-3.61e+26</td> <td>-3.61e+26</td>\n",
       "</tr>\n",
       "<tr>\n",
       "  <th>LastActivity_SMS Sent</th>                            <td>-3.612e+26</td> <td> 1.78e+19</td> <td>-2.03e+07</td> <td> 0.000</td> <td>-3.61e+26</td> <td>-3.61e+26</td>\n",
       "</tr>\n",
       "<tr>\n",
       "  <th>LastActivity_Unreachable</th>                         <td>-3.612e+26</td> <td> 1.78e+19</td> <td>-2.03e+07</td> <td> 0.000</td> <td>-3.61e+26</td> <td>-3.61e+26</td>\n",
       "</tr>\n",
       "<tr>\n",
       "  <th>LastActivity_Unsubscribed</th>                        <td>-3.612e+26</td> <td> 1.78e+19</td> <td>-2.03e+07</td> <td> 0.000</td> <td>-3.61e+26</td> <td>-3.61e+26</td>\n",
       "</tr>\n",
       "<tr>\n",
       "  <th>LastActivity_View in browser link Clicked</th>        <td>-3.612e+26</td> <td> 1.78e+19</td> <td>-2.03e+07</td> <td> 0.000</td> <td>-3.61e+26</td> <td>-3.61e+26</td>\n",
       "</tr>\n",
       "<tr>\n",
       "  <th>LastActivity_Visited Booth in Tradeshow</th>          <td>-3.612e+26</td> <td> 1.78e+19</td> <td>-2.03e+07</td> <td> 0.000</td> <td>-3.61e+26</td> <td>-3.61e+26</td>\n",
       "</tr>\n",
       "<tr>\n",
       "  <th>CurrentOccupation_Housewife</th>                      <td> 6.903e+15</td> <td> 4.12e+07</td> <td> 1.68e+08</td> <td> 0.000</td> <td>  6.9e+15</td> <td>  6.9e+15</td>\n",
       "</tr>\n",
       "<tr>\n",
       "  <th>CurrentOccupation_Other</th>                          <td> 1.001e+14</td> <td> 3.89e+07</td> <td> 2.57e+06</td> <td> 0.000</td> <td>    1e+14</td> <td>    1e+14</td>\n",
       "</tr>\n",
       "<tr>\n",
       "  <th>CurrentOccupation_Student</th>                        <td>-5.129e+14</td> <td> 3.41e+07</td> <td> -1.5e+07</td> <td> 0.000</td> <td>-5.13e+14</td> <td>-5.13e+14</td>\n",
       "</tr>\n",
       "<tr>\n",
       "  <th>CurrentOccupation_Unemployed</th>                     <td>-7.847e+14</td> <td> 3.37e+07</td> <td>-2.33e+07</td> <td> 0.000</td> <td>-7.85e+14</td> <td>-7.85e+14</td>\n",
       "</tr>\n",
       "<tr>\n",
       "  <th>CurrentOccupation_Working Professional</th>           <td> 4.555e+14</td> <td> 3.38e+07</td> <td> 1.35e+07</td> <td> 0.000</td> <td> 4.55e+14</td> <td> 4.55e+14</td>\n",
       "</tr>\n",
       "<tr>\n",
       "  <th>LastNotableActivity_Approached upfront</th>           <td>-2.282e+22</td> <td> 1.13e+15</td> <td>-2.03e+07</td> <td> 0.000</td> <td>-2.28e+22</td> <td>-2.28e+22</td>\n",
       "</tr>\n",
       "<tr>\n",
       "  <th>LastNotableActivity_Email Bounced</th>                <td>-7.037e+26</td> <td> 3.47e+19</td> <td>-2.03e+07</td> <td> 0.000</td> <td>-7.04e+26</td> <td>-7.04e+26</td>\n",
       "</tr>\n",
       "<tr>\n",
       "  <th>LastNotableActivity_Email Link Clicked</th>           <td>-7.037e+26</td> <td> 3.47e+19</td> <td>-2.03e+07</td> <td> 0.000</td> <td>-7.04e+26</td> <td>-7.04e+26</td>\n",
       "</tr>\n",
       "<tr>\n",
       "  <th>LastNotableActivity_Email Marked Spam</th>            <td>-5.318e+26</td> <td> 2.62e+19</td> <td>-2.03e+07</td> <td> 0.000</td> <td>-5.32e+26</td> <td>-5.32e+26</td>\n",
       "</tr>\n",
       "<tr>\n",
       "  <th>LastNotableActivity_Email Opened</th>                 <td>-7.037e+26</td> <td> 3.47e+19</td> <td>-2.03e+07</td> <td> 0.000</td> <td>-7.04e+26</td> <td>-7.04e+26</td>\n",
       "</tr>\n",
       "<tr>\n",
       "  <th>LastNotableActivity_Email Received</th>               <td> 3.749e+21</td> <td> 1.85e+14</td> <td> 2.03e+07</td> <td> 0.000</td> <td> 3.75e+21</td> <td> 3.75e+21</td>\n",
       "</tr>\n",
       "<tr>\n",
       "  <th>LastNotableActivity_Form Submitted on Website</th>    <td>-7.037e+26</td> <td> 3.47e+19</td> <td>-2.03e+07</td> <td> 0.000</td> <td>-7.04e+26</td> <td>-7.04e+26</td>\n",
       "</tr>\n",
       "<tr>\n",
       "  <th>LastNotableActivity_Had a Phone Conversation</th>     <td>-7.037e+26</td> <td> 3.47e+19</td> <td>-2.03e+07</td> <td> 0.000</td> <td>-7.04e+26</td> <td>-7.04e+26</td>\n",
       "</tr>\n",
       "<tr>\n",
       "  <th>LastNotableActivity_Modified</th>                     <td>-7.037e+26</td> <td> 3.47e+19</td> <td>-2.03e+07</td> <td> 0.000</td> <td>-7.04e+26</td> <td>-7.04e+26</td>\n",
       "</tr>\n",
       "<tr>\n",
       "  <th>LastNotableActivity_Olark Chat Conversation</th>      <td>-7.037e+26</td> <td> 3.47e+19</td> <td>-2.03e+07</td> <td> 0.000</td> <td>-7.04e+26</td> <td>-7.04e+26</td>\n",
       "</tr>\n",
       "<tr>\n",
       "  <th>LastNotableActivity_Page Visited on Website</th>      <td>-7.037e+26</td> <td> 3.47e+19</td> <td>-2.03e+07</td> <td> 0.000</td> <td>-7.04e+26</td> <td>-7.04e+26</td>\n",
       "</tr>\n",
       "<tr>\n",
       "  <th>LastNotableActivity_SMS Sent</th>                     <td>-7.037e+26</td> <td> 3.47e+19</td> <td>-2.03e+07</td> <td> 0.000</td> <td>-7.04e+26</td> <td>-7.04e+26</td>\n",
       "</tr>\n",
       "<tr>\n",
       "  <th>LastNotableActivity_Unreachable</th>                  <td>-7.037e+26</td> <td> 3.47e+19</td> <td>-2.03e+07</td> <td> 0.000</td> <td>-7.04e+26</td> <td>-7.04e+26</td>\n",
       "</tr>\n",
       "<tr>\n",
       "  <th>LastNotableActivity_Unsubscribed</th>                 <td>-7.037e+26</td> <td> 3.47e+19</td> <td>-2.03e+07</td> <td> 0.000</td> <td>-7.04e+26</td> <td>-7.04e+26</td>\n",
       "</tr>\n",
       "<tr>\n",
       "  <th>LastNotableActivity_View in browser link Clicked</th> <td>-7.037e+26</td> <td> 3.47e+19</td> <td>-2.03e+07</td> <td> 0.000</td> <td>-7.04e+26</td> <td>-7.04e+26</td>\n",
       "</tr>\n",
       "</table>"
      ],
      "text/plain": [
       "<class 'statsmodels.iolib.summary.Summary'>\n",
       "\"\"\"\n",
       "                 Generalized Linear Model Regression Results                  \n",
       "==============================================================================\n",
       "Dep. Variable:              Converted   No. Observations:                 6320\n",
       "Model:                            GLM   Df Residuals:                     6261\n",
       "Model Family:                Binomial   Df Model:                           58\n",
       "Link Function:                  logit   Scale:                          1.0000\n",
       "Method:                          IRLS   Log-Likelihood:                    nan\n",
       "Date:                Sun, 11 Apr 2021   Deviance:                          nan\n",
       "Time:                        00:29:21   Pearson chi2:                 6.69e+18\n",
       "No. Iterations:                   100                                         \n",
       "Covariance Type:            nonrobust                                         \n",
       "====================================================================================================================\n",
       "                                                       coef    std err          z      P>|z|      [0.025      0.975]\n",
       "--------------------------------------------------------------------------------------------------------------------\n",
       "const                                             1.352e+27   6.67e+19   2.03e+07      0.000    1.35e+27    1.35e+27\n",
       "Do Not Email                                     -3.387e+14   4.49e+06  -7.55e+07      0.000   -3.39e+14   -3.39e+14\n",
       "Do Not Call                                       5.475e+13   4.76e+07   1.15e+06      0.000    5.48e+13    5.48e+13\n",
       "TotalVisits                                      -2.964e+14   7.64e+06  -3.88e+07      0.000   -2.96e+14   -2.96e+14\n",
       "Total Time Spent on Website                       2.929e+15   3.95e+06   7.41e+08      0.000    2.93e+15    2.93e+15\n",
       "Page Views Per Visit                             -1.234e+15   6.51e+06   -1.9e+08      0.000   -1.23e+15   -1.23e+15\n",
       "Search                                           -6.045e+14   2.44e+07  -2.48e+07      0.000   -6.04e+14   -6.04e+14\n",
       "Digital Advertisement                             9.468e+14   4.76e+07   1.99e+07      0.000    9.47e+14    9.47e+14\n",
       "Through Recommendations                           -3.36e+14    4.2e+07  -7.99e+06      0.000   -3.36e+14   -3.36e+14\n",
       "A free copy of Mastering The Interview            1.319e+14    2.7e+06   4.88e+07      0.000    1.32e+14    1.32e+14\n",
       "LeadOrigin_API                                   -6.771e+15   6.74e+07     -1e+08      0.000   -6.77e+15   -6.77e+15\n",
       "LeadOrigin_Landing Page Submission               -7.038e+15   6.74e+07  -1.04e+08      0.000   -7.04e+15   -7.04e+15\n",
       "LeadOrigin_Lead Add Form                         -5.726e+15   6.86e+07  -8.34e+07      0.000   -5.73e+15   -5.73e+15\n",
       "LeadOrigin_Lead Import                           -6.612e+15   8.27e+07     -8e+07      0.000   -6.61e+15   -6.61e+15\n",
       "LeadSource_Click2call                            -2.876e+26   1.42e+19  -2.03e+07      0.000   -2.88e+26   -2.88e+26\n",
       "LeadSource_Direct Traffic                        -2.876e+26   1.42e+19  -2.03e+07      0.000   -2.88e+26   -2.88e+26\n",
       "LeadSource_Facebook                              -2.876e+26   1.42e+19  -2.03e+07      0.000   -2.88e+26   -2.88e+26\n",
       "LeadSource_Google                                -2.876e+26   1.42e+19  -2.03e+07      0.000   -2.88e+26   -2.88e+26\n",
       "LeadSource_Live Chat                             -2.876e+26   1.42e+19  -2.03e+07      0.000   -2.88e+26   -2.88e+26\n",
       "LeadSource_Olark Chat                            -2.876e+26   1.42e+19  -2.03e+07      0.000   -2.88e+26   -2.88e+26\n",
       "LeadSource_Organic Search                        -2.876e+26   1.42e+19  -2.03e+07      0.000   -2.88e+26   -2.88e+26\n",
       "LeadSource_Pay per Click Ads                     -4.267e+24   2.11e+17  -2.03e+07      0.000   -4.27e+24   -4.27e+24\n",
       "LeadSource_Press_Release                           -6.1e+24   3.01e+17  -2.03e+07      0.000    -6.1e+24    -6.1e+24\n",
       "LeadSource_Reference                             -2.876e+26   1.42e+19  -2.03e+07      0.000   -2.88e+26   -2.88e+26\n",
       "LeadSource_Referral Sites                        -2.876e+26   1.42e+19  -2.03e+07      0.000   -2.88e+26   -2.88e+26\n",
       "LeadSource_Social Media                          -2.876e+26   1.42e+19  -2.03e+07      0.000   -2.88e+26   -2.88e+26\n",
       "LeadSource_WeLearn                               -1.349e+24   6.65e+16  -2.03e+07      0.000   -1.35e+24   -1.35e+24\n",
       "LeadSource_Welingak Website                      -2.876e+26   1.42e+19  -2.03e+07      0.000   -2.88e+26   -2.88e+26\n",
       "LeadSource_bing                                  -2.876e+26   1.42e+19  -2.03e+07      0.000   -2.88e+26   -2.88e+26\n",
       "LeadSource_blog                                  -2.876e+26   1.42e+19  -2.03e+07      0.000   -2.88e+26   -2.88e+26\n",
       "LeadSource_testone                               -2.876e+26   1.42e+19  -2.03e+07      0.000   -2.88e+26   -2.88e+26\n",
       "LeadSource_welearnblog_Home                      -2.876e+26   1.42e+19  -2.03e+07      0.000   -2.88e+26   -2.88e+26\n",
       "LeadSource_youtubechannel                        -1.666e+24   8.22e+16  -2.03e+07      0.000   -1.67e+24   -1.67e+24\n",
       "LastActivity_Approached upfront                  -3.612e+26   1.78e+19  -2.03e+07      0.000   -3.61e+26   -3.61e+26\n",
       "LastActivity_Converted to Lead                   -3.612e+26   1.78e+19  -2.03e+07      0.000   -3.61e+26   -3.61e+26\n",
       "LastActivity_Email Bounced                       -3.612e+26   1.78e+19  -2.03e+07      0.000   -3.61e+26   -3.61e+26\n",
       "LastActivity_Email Link Clicked                  -3.612e+26   1.78e+19  -2.03e+07      0.000   -3.61e+26   -3.61e+26\n",
       "LastActivity_Email Marked Spam                   -5.331e+26   2.63e+19  -2.03e+07      0.000   -5.33e+26   -5.33e+26\n",
       "LastActivity_Email Opened                        -3.612e+26   1.78e+19  -2.03e+07      0.000   -3.61e+26   -3.61e+26\n",
       "LastActivity_Email Received                      -3.612e+26   1.78e+19  -2.03e+07      0.000   -3.61e+26   -3.61e+26\n",
       "LastActivity_Form Submitted on Website           -3.612e+26   1.78e+19  -2.03e+07      0.000   -3.61e+26   -3.61e+26\n",
       "LastActivity_Had a Phone Conversation            -3.612e+26   1.78e+19  -2.03e+07      0.000   -3.61e+26   -3.61e+26\n",
       "LastActivity_Olark Chat Conversation             -3.612e+26   1.78e+19  -2.03e+07      0.000   -3.61e+26   -3.61e+26\n",
       "LastActivity_Page Visited on Website             -3.612e+26   1.78e+19  -2.03e+07      0.000   -3.61e+26   -3.61e+26\n",
       "LastActivity_SMS Sent                            -3.612e+26   1.78e+19  -2.03e+07      0.000   -3.61e+26   -3.61e+26\n",
       "LastActivity_Unreachable                         -3.612e+26   1.78e+19  -2.03e+07      0.000   -3.61e+26   -3.61e+26\n",
       "LastActivity_Unsubscribed                        -3.612e+26   1.78e+19  -2.03e+07      0.000   -3.61e+26   -3.61e+26\n",
       "LastActivity_View in browser link Clicked        -3.612e+26   1.78e+19  -2.03e+07      0.000   -3.61e+26   -3.61e+26\n",
       "LastActivity_Visited Booth in Tradeshow          -3.612e+26   1.78e+19  -2.03e+07      0.000   -3.61e+26   -3.61e+26\n",
       "CurrentOccupation_Housewife                       6.903e+15   4.12e+07   1.68e+08      0.000     6.9e+15     6.9e+15\n",
       "CurrentOccupation_Other                           1.001e+14   3.89e+07   2.57e+06      0.000       1e+14       1e+14\n",
       "CurrentOccupation_Student                        -5.129e+14   3.41e+07   -1.5e+07      0.000   -5.13e+14   -5.13e+14\n",
       "CurrentOccupation_Unemployed                     -7.847e+14   3.37e+07  -2.33e+07      0.000   -7.85e+14   -7.85e+14\n",
       "CurrentOccupation_Working Professional            4.555e+14   3.38e+07   1.35e+07      0.000    4.55e+14    4.55e+14\n",
       "LastNotableActivity_Approached upfront           -2.282e+22   1.13e+15  -2.03e+07      0.000   -2.28e+22   -2.28e+22\n",
       "LastNotableActivity_Email Bounced                -7.037e+26   3.47e+19  -2.03e+07      0.000   -7.04e+26   -7.04e+26\n",
       "LastNotableActivity_Email Link Clicked           -7.037e+26   3.47e+19  -2.03e+07      0.000   -7.04e+26   -7.04e+26\n",
       "LastNotableActivity_Email Marked Spam            -5.318e+26   2.62e+19  -2.03e+07      0.000   -5.32e+26   -5.32e+26\n",
       "LastNotableActivity_Email Opened                 -7.037e+26   3.47e+19  -2.03e+07      0.000   -7.04e+26   -7.04e+26\n",
       "LastNotableActivity_Email Received                3.749e+21   1.85e+14   2.03e+07      0.000    3.75e+21    3.75e+21\n",
       "LastNotableActivity_Form Submitted on Website    -7.037e+26   3.47e+19  -2.03e+07      0.000   -7.04e+26   -7.04e+26\n",
       "LastNotableActivity_Had a Phone Conversation     -7.037e+26   3.47e+19  -2.03e+07      0.000   -7.04e+26   -7.04e+26\n",
       "LastNotableActivity_Modified                     -7.037e+26   3.47e+19  -2.03e+07      0.000   -7.04e+26   -7.04e+26\n",
       "LastNotableActivity_Olark Chat Conversation      -7.037e+26   3.47e+19  -2.03e+07      0.000   -7.04e+26   -7.04e+26\n",
       "LastNotableActivity_Page Visited on Website      -7.037e+26   3.47e+19  -2.03e+07      0.000   -7.04e+26   -7.04e+26\n",
       "LastNotableActivity_SMS Sent                     -7.037e+26   3.47e+19  -2.03e+07      0.000   -7.04e+26   -7.04e+26\n",
       "LastNotableActivity_Unreachable                  -7.037e+26   3.47e+19  -2.03e+07      0.000   -7.04e+26   -7.04e+26\n",
       "LastNotableActivity_Unsubscribed                 -7.037e+26   3.47e+19  -2.03e+07      0.000   -7.04e+26   -7.04e+26\n",
       "LastNotableActivity_View in browser link Clicked -7.037e+26   3.47e+19  -2.03e+07      0.000   -7.04e+26   -7.04e+26\n",
       "====================================================================================================================\n",
       "\"\"\""
      ]
     },
     "execution_count": 80,
     "metadata": {},
     "output_type": "execute_result"
    }
   ],
   "source": [
    "# Logistic regression model\n",
    "logm1 = sm.GLM(y_train,(sm.add_constant(X_train)), family = sm.families.Binomial())\n",
    "logm1.fit().summary()"
   ]
  },
  {
   "cell_type": "markdown",
   "metadata": {},
   "source": [
    "### Step 8: Feature Selection Using RFE"
   ]
  },
  {
   "cell_type": "code",
   "execution_count": 81,
   "metadata": {},
   "outputs": [],
   "source": [
    "from sklearn.linear_model import LogisticRegression\n",
    "logreg = LogisticRegression()"
   ]
  },
  {
   "cell_type": "code",
   "execution_count": 82,
   "metadata": {},
   "outputs": [],
   "source": [
    "from sklearn.feature_selection import RFE\n",
    "\n",
    "# running RFE with 20 variables as output\n",
    "\n",
    "rfe = RFE(logreg, 20)            \n",
    "rfe = rfe.fit(X_train, y_train)"
   ]
  },
  {
   "cell_type": "code",
   "execution_count": 83,
   "metadata": {},
   "outputs": [
    {
     "data": {
      "text/plain": [
       "array([ True, False,  True,  True, False, False, False, False, False,\n",
       "        True,  True,  True, False, False, False,  True, False, False,\n",
       "        True, False, False, False, False, False, False, False,  True,\n",
       "       False, False, False, False, False,  True,  True,  True, False,\n",
       "       False, False, False, False,  True,  True, False, False, False,\n",
       "       False, False, False,  True, False, False, False,  True, False,\n",
       "        True, False, False, False, False, False,  True, False, False,\n",
       "       False,  True,  True, False, False])"
      ]
     },
     "execution_count": 83,
     "metadata": {},
     "output_type": "execute_result"
    }
   ],
   "source": [
    "rfe.support_"
   ]
  },
  {
   "cell_type": "code",
   "execution_count": 84,
   "metadata": {
    "scrolled": true
   },
   "outputs": [
    {
     "data": {
      "text/plain": [
       "[('Do Not Email', True, 1),\n",
       " ('Do Not Call', False, 10),\n",
       " ('TotalVisits', True, 1),\n",
       " ('Total Time Spent on Website', True, 1),\n",
       " ('Page Views Per Visit', False, 6),\n",
       " ('Search', False, 4),\n",
       " ('Digital Advertisement', False, 36),\n",
       " ('Through Recommendations', False, 26),\n",
       " ('A free copy of Mastering The Interview', False, 35),\n",
       " ('LeadOrigin_API', True, 1),\n",
       " ('LeadOrigin_Landing Page Submission', True, 1),\n",
       " ('LeadOrigin_Lead Add Form', True, 1),\n",
       " ('LeadOrigin_Lead Import', False, 16),\n",
       " ('LeadSource_Click2call', False, 25),\n",
       " ('LeadSource_Direct Traffic', False, 17),\n",
       " ('LeadSource_Facebook', True, 1),\n",
       " ('LeadSource_Google', False, 30),\n",
       " ('LeadSource_Live Chat', False, 34),\n",
       " ('LeadSource_Olark Chat', True, 1),\n",
       " ('LeadSource_Organic Search', False, 29),\n",
       " ('LeadSource_Pay per Click Ads', False, 45),\n",
       " ('LeadSource_Press_Release', False, 49),\n",
       " ('LeadSource_Reference', False, 12),\n",
       " ('LeadSource_Referral Sites', False, 23),\n",
       " ('LeadSource_Social Media', False, 41),\n",
       " ('LeadSource_WeLearn', False, 46),\n",
       " ('LeadSource_Welingak Website', True, 1),\n",
       " ('LeadSource_bing', False, 18),\n",
       " ('LeadSource_blog', False, 24),\n",
       " ('LeadSource_testone', False, 31),\n",
       " ('LeadSource_welearnblog_Home', False, 28),\n",
       " ('LeadSource_youtubechannel', False, 48),\n",
       " ('LastActivity_Approached upfront', True, 1),\n",
       " ('LastActivity_Converted to Lead', True, 1),\n",
       " ('LastActivity_Email Bounced', True, 1),\n",
       " ('LastActivity_Email Link Clicked', False, 37),\n",
       " ('LastActivity_Email Marked Spam', False, 11),\n",
       " ('LastActivity_Email Opened', False, 32),\n",
       " ('LastActivity_Email Received', False, 42),\n",
       " ('LastActivity_Form Submitted on Website', False, 7),\n",
       " ('LastActivity_Had a Phone Conversation', True, 1),\n",
       " ('LastActivity_Olark Chat Conversation', True, 1),\n",
       " ('LastActivity_Page Visited on Website', False, 5),\n",
       " ('LastActivity_SMS Sent', False, 14),\n",
       " ('LastActivity_Unreachable', False, 8),\n",
       " ('LastActivity_Unsubscribed', False, 33),\n",
       " ('LastActivity_View in browser link Clicked', False, 22),\n",
       " ('LastActivity_Visited Booth in Tradeshow', False, 40),\n",
       " ('CurrentOccupation_Housewife', True, 1),\n",
       " ('CurrentOccupation_Other', False, 39),\n",
       " ('CurrentOccupation_Student', False, 3),\n",
       " ('CurrentOccupation_Unemployed', False, 2),\n",
       " ('CurrentOccupation_Working Professional', True, 1),\n",
       " ('LastNotableActivity_Approached upfront', False, 47),\n",
       " ('LastNotableActivity_Email Bounced', True, 1),\n",
       " ('LastNotableActivity_Email Link Clicked', False, 9),\n",
       " ('LastNotableActivity_Email Marked Spam', False, 13),\n",
       " ('LastNotableActivity_Email Opened', False, 21),\n",
       " ('LastNotableActivity_Email Received', False, 44),\n",
       " ('LastNotableActivity_Form Submitted on Website', False, 38),\n",
       " ('LastNotableActivity_Had a Phone Conversation', True, 1),\n",
       " ('LastNotableActivity_Modified', False, 15),\n",
       " ('LastNotableActivity_Olark Chat Conversation', False, 19),\n",
       " ('LastNotableActivity_Page Visited on Website', False, 20),\n",
       " ('LastNotableActivity_SMS Sent', True, 1),\n",
       " ('LastNotableActivity_Unreachable', True, 1),\n",
       " ('LastNotableActivity_Unsubscribed', False, 43),\n",
       " ('LastNotableActivity_View in browser link Clicked', False, 27)]"
      ]
     },
     "execution_count": 84,
     "metadata": {},
     "output_type": "execute_result"
    }
   ],
   "source": [
    "list(zip(X_train.columns, rfe.support_, rfe.ranking_))"
   ]
  },
  {
   "cell_type": "code",
   "execution_count": 85,
   "metadata": {},
   "outputs": [
    {
     "data": {
      "text/plain": [
       "Index(['Do Not Email', 'TotalVisits', 'Total Time Spent on Website',\n",
       "       'LeadOrigin_API', 'LeadOrigin_Landing Page Submission',\n",
       "       'LeadOrigin_Lead Add Form', 'LeadSource_Facebook',\n",
       "       'LeadSource_Olark Chat', 'LeadSource_Welingak Website',\n",
       "       'LastActivity_Approached upfront', 'LastActivity_Converted to Lead',\n",
       "       'LastActivity_Email Bounced', 'LastActivity_Had a Phone Conversation',\n",
       "       'LastActivity_Olark Chat Conversation', 'CurrentOccupation_Housewife',\n",
       "       'CurrentOccupation_Working Professional',\n",
       "       'LastNotableActivity_Email Bounced',\n",
       "       'LastNotableActivity_Had a Phone Conversation',\n",
       "       'LastNotableActivity_SMS Sent', 'LastNotableActivity_Unreachable'],\n",
       "      dtype='object')"
      ]
     },
     "execution_count": 85,
     "metadata": {},
     "output_type": "execute_result"
    }
   ],
   "source": [
    "# variables shortlisted by RFE\n",
    "\n",
    "col = X_train.columns[rfe.support_]\n",
    "col"
   ]
  },
  {
   "cell_type": "markdown",
   "metadata": {},
   "source": [
    "#### Rebuilding Model - Model 2"
   ]
  },
  {
   "cell_type": "code",
   "execution_count": 86,
   "metadata": {},
   "outputs": [
    {
     "data": {
      "text/html": [
       "<table class=\"simpletable\">\n",
       "<caption>Generalized Linear Model Regression Results</caption>\n",
       "<tr>\n",
       "  <th>Dep. Variable:</th>       <td>Converted</td>    <th>  No. Observations:  </th>  <td>  6320</td> \n",
       "</tr>\n",
       "<tr>\n",
       "  <th>Model:</th>                  <td>GLM</td>       <th>  Df Residuals:      </th>  <td>  6299</td> \n",
       "</tr>\n",
       "<tr>\n",
       "  <th>Model Family:</th>        <td>Binomial</td>     <th>  Df Model:          </th>  <td>    20</td> \n",
       "</tr>\n",
       "<tr>\n",
       "  <th>Link Function:</th>         <td>logit</td>      <th>  Scale:             </th> <td>  1.0000</td>\n",
       "</tr>\n",
       "<tr>\n",
       "  <th>Method:</th>                <td>IRLS</td>       <th>  Log-Likelihood:    </th> <td> -2607.6</td>\n",
       "</tr>\n",
       "<tr>\n",
       "  <th>Date:</th>            <td>Sun, 11 Apr 2021</td> <th>  Deviance:          </th> <td>  5215.2</td>\n",
       "</tr>\n",
       "<tr>\n",
       "  <th>Time:</th>                <td>00:29:27</td>     <th>  Pearson chi2:      </th> <td>7.12e+03</td>\n",
       "</tr>\n",
       "<tr>\n",
       "  <th>No. Iterations:</th>         <td>22</td>        <th>                     </th>     <td> </td>   \n",
       "</tr>\n",
       "<tr>\n",
       "  <th>Covariance Type:</th>     <td>nonrobust</td>    <th>                     </th>     <td> </td>   \n",
       "</tr>\n",
       "</table>\n",
       "<table class=\"simpletable\">\n",
       "<tr>\n",
       "                        <td></td>                          <th>coef</th>     <th>std err</th>      <th>z</th>      <th>P>|z|</th>  <th>[0.025</th>    <th>0.975]</th>  \n",
       "</tr>\n",
       "<tr>\n",
       "  <th>const</th>                                        <td>   -0.5869</td> <td>    1.403</td> <td>   -0.418</td> <td> 0.676</td> <td>   -3.336</td> <td>    2.162</td>\n",
       "</tr>\n",
       "<tr>\n",
       "  <th>Do Not Email</th>                                 <td>   -1.1161</td> <td>    0.190</td> <td>   -5.867</td> <td> 0.000</td> <td>   -1.489</td> <td>   -0.743</td>\n",
       "</tr>\n",
       "<tr>\n",
       "  <th>TotalVisits</th>                                  <td>    1.2327</td> <td>    0.246</td> <td>    5.012</td> <td> 0.000</td> <td>    0.751</td> <td>    1.715</td>\n",
       "</tr>\n",
       "<tr>\n",
       "  <th>Total Time Spent on Website</th>                  <td>    4.4534</td> <td>    0.165</td> <td>   27.072</td> <td> 0.000</td> <td>    4.131</td> <td>    4.776</td>\n",
       "</tr>\n",
       "<tr>\n",
       "  <th>LeadOrigin_API</th>                               <td>   -1.8888</td> <td>    1.404</td> <td>   -1.345</td> <td> 0.179</td> <td>   -4.641</td> <td>    0.863</td>\n",
       "</tr>\n",
       "<tr>\n",
       "  <th>LeadOrigin_Landing Page Submission</th>           <td>   -2.1585</td> <td>    1.403</td> <td>   -1.539</td> <td> 0.124</td> <td>   -4.907</td> <td>    0.590</td>\n",
       "</tr>\n",
       "<tr>\n",
       "  <th>LeadOrigin_Lead Add Form</th>                     <td>    1.9636</td> <td>    1.412</td> <td>    1.390</td> <td> 0.164</td> <td>   -0.804</td> <td>    4.732</td>\n",
       "</tr>\n",
       "<tr>\n",
       "  <th>LeadSource_Facebook</th>                          <td>   -1.7888</td> <td>    1.442</td> <td>   -1.240</td> <td> 0.215</td> <td>   -4.615</td> <td>    1.038</td>\n",
       "</tr>\n",
       "<tr>\n",
       "  <th>LeadSource_Olark Chat</th>                        <td>    1.2852</td> <td>    0.134</td> <td>    9.598</td> <td> 0.000</td> <td>    1.023</td> <td>    1.548</td>\n",
       "</tr>\n",
       "<tr>\n",
       "  <th>LeadSource_Welingak Website</th>                  <td>    2.1680</td> <td>    0.744</td> <td>    2.914</td> <td> 0.004</td> <td>    0.710</td> <td>    3.626</td>\n",
       "</tr>\n",
       "<tr>\n",
       "  <th>LastActivity_Approached upfront</th>              <td>   23.4080</td> <td> 2.57e+04</td> <td>    0.001</td> <td> 0.999</td> <td>-5.04e+04</td> <td> 5.04e+04</td>\n",
       "</tr>\n",
       "<tr>\n",
       "  <th>LastActivity_Converted to Lead</th>               <td>   -0.9901</td> <td>    0.213</td> <td>   -4.645</td> <td> 0.000</td> <td>   -1.408</td> <td>   -0.572</td>\n",
       "</tr>\n",
       "<tr>\n",
       "  <th>LastActivity_Email Bounced</th>                   <td>   -1.7416</td> <td>    0.501</td> <td>   -3.476</td> <td> 0.001</td> <td>   -2.724</td> <td>   -0.760</td>\n",
       "</tr>\n",
       "<tr>\n",
       "  <th>LastActivity_Had a Phone Conversation</th>        <td>    0.5163</td> <td>    0.951</td> <td>    0.543</td> <td> 0.587</td> <td>   -1.347</td> <td>    2.379</td>\n",
       "</tr>\n",
       "<tr>\n",
       "  <th>LastActivity_Olark Chat Conversation</th>         <td>   -1.5075</td> <td>    0.165</td> <td>   -9.148</td> <td> 0.000</td> <td>   -1.830</td> <td>   -1.184</td>\n",
       "</tr>\n",
       "<tr>\n",
       "  <th>CurrentOccupation_Housewife</th>                  <td>   24.1568</td> <td> 2.34e+04</td> <td>    0.001</td> <td> 0.999</td> <td>-4.59e+04</td> <td> 4.59e+04</td>\n",
       "</tr>\n",
       "<tr>\n",
       "  <th>CurrentOccupation_Working Professional</th>       <td>    2.9481</td> <td>    0.203</td> <td>   14.545</td> <td> 0.000</td> <td>    2.551</td> <td>    3.345</td>\n",
       "</tr>\n",
       "<tr>\n",
       "  <th>LastNotableActivity_Email Bounced</th>            <td>    1.6938</td> <td>    0.681</td> <td>    2.487</td> <td> 0.013</td> <td>    0.359</td> <td>    3.029</td>\n",
       "</tr>\n",
       "<tr>\n",
       "  <th>LastNotableActivity_Had a Phone Conversation</th> <td>    2.6019</td> <td>    1.464</td> <td>    1.777</td> <td> 0.076</td> <td>   -0.268</td> <td>    5.472</td>\n",
       "</tr>\n",
       "<tr>\n",
       "  <th>LastNotableActivity_SMS Sent</th>                 <td>    1.5709</td> <td>    0.081</td> <td>   19.332</td> <td> 0.000</td> <td>    1.412</td> <td>    1.730</td>\n",
       "</tr>\n",
       "<tr>\n",
       "  <th>LastNotableActivity_Unreachable</th>              <td>    1.3464</td> <td>    0.529</td> <td>    2.545</td> <td> 0.011</td> <td>    0.310</td> <td>    2.383</td>\n",
       "</tr>\n",
       "</table>"
      ],
      "text/plain": [
       "<class 'statsmodels.iolib.summary.Summary'>\n",
       "\"\"\"\n",
       "                 Generalized Linear Model Regression Results                  \n",
       "==============================================================================\n",
       "Dep. Variable:              Converted   No. Observations:                 6320\n",
       "Model:                            GLM   Df Residuals:                     6299\n",
       "Model Family:                Binomial   Df Model:                           20\n",
       "Link Function:                  logit   Scale:                          1.0000\n",
       "Method:                          IRLS   Log-Likelihood:                -2607.6\n",
       "Date:                Sun, 11 Apr 2021   Deviance:                       5215.2\n",
       "Time:                        00:29:27   Pearson chi2:                 7.12e+03\n",
       "No. Iterations:                    22                                         \n",
       "Covariance Type:            nonrobust                                         \n",
       "================================================================================================================\n",
       "                                                   coef    std err          z      P>|z|      [0.025      0.975]\n",
       "----------------------------------------------------------------------------------------------------------------\n",
       "const                                           -0.5869      1.403     -0.418      0.676      -3.336       2.162\n",
       "Do Not Email                                    -1.1161      0.190     -5.867      0.000      -1.489      -0.743\n",
       "TotalVisits                                      1.2327      0.246      5.012      0.000       0.751       1.715\n",
       "Total Time Spent on Website                      4.4534      0.165     27.072      0.000       4.131       4.776\n",
       "LeadOrigin_API                                  -1.8888      1.404     -1.345      0.179      -4.641       0.863\n",
       "LeadOrigin_Landing Page Submission              -2.1585      1.403     -1.539      0.124      -4.907       0.590\n",
       "LeadOrigin_Lead Add Form                         1.9636      1.412      1.390      0.164      -0.804       4.732\n",
       "LeadSource_Facebook                             -1.7888      1.442     -1.240      0.215      -4.615       1.038\n",
       "LeadSource_Olark Chat                            1.2852      0.134      9.598      0.000       1.023       1.548\n",
       "LeadSource_Welingak Website                      2.1680      0.744      2.914      0.004       0.710       3.626\n",
       "LastActivity_Approached upfront                 23.4080   2.57e+04      0.001      0.999   -5.04e+04    5.04e+04\n",
       "LastActivity_Converted to Lead                  -0.9901      0.213     -4.645      0.000      -1.408      -0.572\n",
       "LastActivity_Email Bounced                      -1.7416      0.501     -3.476      0.001      -2.724      -0.760\n",
       "LastActivity_Had a Phone Conversation            0.5163      0.951      0.543      0.587      -1.347       2.379\n",
       "LastActivity_Olark Chat Conversation            -1.5075      0.165     -9.148      0.000      -1.830      -1.184\n",
       "CurrentOccupation_Housewife                     24.1568   2.34e+04      0.001      0.999   -4.59e+04    4.59e+04\n",
       "CurrentOccupation_Working Professional           2.9481      0.203     14.545      0.000       2.551       3.345\n",
       "LastNotableActivity_Email Bounced                1.6938      0.681      2.487      0.013       0.359       3.029\n",
       "LastNotableActivity_Had a Phone Conversation     2.6019      1.464      1.777      0.076      -0.268       5.472\n",
       "LastNotableActivity_SMS Sent                     1.5709      0.081     19.332      0.000       1.412       1.730\n",
       "LastNotableActivity_Unreachable                  1.3464      0.529      2.545      0.011       0.310       2.383\n",
       "================================================================================================================\n",
       "\"\"\""
      ]
     },
     "execution_count": 86,
     "metadata": {},
     "output_type": "execute_result"
    }
   ],
   "source": [
    "X_train_sm = sm.add_constant(X_train[col])\n",
    "logm2 = sm.GLM(y_train,X_train_sm, family = sm.families.Binomial())\n",
    "res = logm2.fit()\n",
    "res.summary()"
   ]
  },
  {
   "cell_type": "markdown",
   "metadata": {},
   "source": [
    "Removing column LastActivity_Approached_Upfront as it has a high pvalue and hence is insignificant"
   ]
  },
  {
   "cell_type": "code",
   "execution_count": 87,
   "metadata": {},
   "outputs": [],
   "source": [
    "col = col.drop('LastActivity_Approached upfront',1)"
   ]
  },
  {
   "cell_type": "markdown",
   "metadata": {},
   "source": [
    "#### Rebuilding Model - Model 3"
   ]
  },
  {
   "cell_type": "code",
   "execution_count": 88,
   "metadata": {},
   "outputs": [
    {
     "data": {
      "text/html": [
       "<table class=\"simpletable\">\n",
       "<caption>Generalized Linear Model Regression Results</caption>\n",
       "<tr>\n",
       "  <th>Dep. Variable:</th>       <td>Converted</td>    <th>  No. Observations:  </th>  <td>  6320</td> \n",
       "</tr>\n",
       "<tr>\n",
       "  <th>Model:</th>                  <td>GLM</td>       <th>  Df Residuals:      </th>  <td>  6300</td> \n",
       "</tr>\n",
       "<tr>\n",
       "  <th>Model Family:</th>        <td>Binomial</td>     <th>  Df Model:          </th>  <td>    19</td> \n",
       "</tr>\n",
       "<tr>\n",
       "  <th>Link Function:</th>         <td>logit</td>      <th>  Scale:             </th> <td>  1.0000</td>\n",
       "</tr>\n",
       "<tr>\n",
       "  <th>Method:</th>                <td>IRLS</td>       <th>  Log-Likelihood:    </th> <td> -2611.7</td>\n",
       "</tr>\n",
       "<tr>\n",
       "  <th>Date:</th>            <td>Sun, 11 Apr 2021</td> <th>  Deviance:          </th> <td>  5223.4</td>\n",
       "</tr>\n",
       "<tr>\n",
       "  <th>Time:</th>                <td>00:29:28</td>     <th>  Pearson chi2:      </th> <td>7.12e+03</td>\n",
       "</tr>\n",
       "<tr>\n",
       "  <th>No. Iterations:</th>         <td>21</td>        <th>                     </th>     <td> </td>   \n",
       "</tr>\n",
       "<tr>\n",
       "  <th>Covariance Type:</th>     <td>nonrobust</td>    <th>                     </th>     <td> </td>   \n",
       "</tr>\n",
       "</table>\n",
       "<table class=\"simpletable\">\n",
       "<tr>\n",
       "                        <td></td>                          <th>coef</th>     <th>std err</th>      <th>z</th>      <th>P>|z|</th>  <th>[0.025</th>    <th>0.975]</th>  \n",
       "</tr>\n",
       "<tr>\n",
       "  <th>const</th>                                        <td>   -0.5869</td> <td>    1.403</td> <td>   -0.418</td> <td> 0.676</td> <td>   -3.336</td> <td>    2.162</td>\n",
       "</tr>\n",
       "<tr>\n",
       "  <th>Do Not Email</th>                                 <td>   -1.1178</td> <td>    0.190</td> <td>   -5.876</td> <td> 0.000</td> <td>   -1.491</td> <td>   -0.745</td>\n",
       "</tr>\n",
       "<tr>\n",
       "  <th>TotalVisits</th>                                  <td>    1.2287</td> <td>    0.246</td> <td>    4.996</td> <td> 0.000</td> <td>    0.747</td> <td>    1.711</td>\n",
       "</tr>\n",
       "<tr>\n",
       "  <th>Total Time Spent on Website</th>                  <td>    4.4587</td> <td>    0.164</td> <td>   27.112</td> <td> 0.000</td> <td>    4.136</td> <td>    4.781</td>\n",
       "</tr>\n",
       "<tr>\n",
       "  <th>LeadOrigin_API</th>                               <td>   -1.8876</td> <td>    1.404</td> <td>   -1.344</td> <td> 0.179</td> <td>   -4.640</td> <td>    0.864</td>\n",
       "</tr>\n",
       "<tr>\n",
       "  <th>LeadOrigin_Landing Page Submission</th>           <td>   -2.1554</td> <td>    1.403</td> <td>   -1.537</td> <td> 0.124</td> <td>   -4.904</td> <td>    0.594</td>\n",
       "</tr>\n",
       "<tr>\n",
       "  <th>LeadOrigin_Lead Add Form</th>                     <td>    1.9668</td> <td>    1.412</td> <td>    1.393</td> <td> 0.164</td> <td>   -0.801</td> <td>    4.735</td>\n",
       "</tr>\n",
       "<tr>\n",
       "  <th>LeadSource_Facebook</th>                          <td>   -1.7888</td> <td>    1.442</td> <td>   -1.240</td> <td> 0.215</td> <td>   -4.615</td> <td>    1.038</td>\n",
       "</tr>\n",
       "<tr>\n",
       "  <th>LeadSource_Olark Chat</th>                        <td>    1.2959</td> <td>    0.134</td> <td>    9.684</td> <td> 0.000</td> <td>    1.034</td> <td>    1.558</td>\n",
       "</tr>\n",
       "<tr>\n",
       "  <th>LeadSource_Welingak Website</th>                  <td>    2.1666</td> <td>    0.744</td> <td>    2.912</td> <td> 0.004</td> <td>    0.709</td> <td>    3.625</td>\n",
       "</tr>\n",
       "<tr>\n",
       "  <th>LastActivity_Converted to Lead</th>               <td>   -0.9936</td> <td>    0.213</td> <td>   -4.661</td> <td> 0.000</td> <td>   -1.411</td> <td>   -0.576</td>\n",
       "</tr>\n",
       "<tr>\n",
       "  <th>LastActivity_Email Bounced</th>                   <td>   -1.7454</td> <td>    0.501</td> <td>   -3.483</td> <td> 0.000</td> <td>   -2.728</td> <td>   -0.763</td>\n",
       "</tr>\n",
       "<tr>\n",
       "  <th>LastActivity_Had a Phone Conversation</th>        <td>    0.5130</td> <td>    0.951</td> <td>    0.540</td> <td> 0.589</td> <td>   -1.350</td> <td>    2.376</td>\n",
       "</tr>\n",
       "<tr>\n",
       "  <th>LastActivity_Olark Chat Conversation</th>         <td>   -1.5164</td> <td>    0.165</td> <td>   -9.206</td> <td> 0.000</td> <td>   -1.839</td> <td>   -1.194</td>\n",
       "</tr>\n",
       "<tr>\n",
       "  <th>CurrentOccupation_Housewife</th>                  <td>   23.1527</td> <td> 1.42e+04</td> <td>    0.002</td> <td> 0.999</td> <td>-2.78e+04</td> <td> 2.78e+04</td>\n",
       "</tr>\n",
       "<tr>\n",
       "  <th>CurrentOccupation_Working Professional</th>       <td>    2.9458</td> <td>    0.203</td> <td>   14.532</td> <td> 0.000</td> <td>    2.549</td> <td>    3.343</td>\n",
       "</tr>\n",
       "<tr>\n",
       "  <th>LastNotableActivity_Email Bounced</th>            <td>    1.6944</td> <td>    0.681</td> <td>    2.488</td> <td> 0.013</td> <td>    0.359</td> <td>    3.029</td>\n",
       "</tr>\n",
       "<tr>\n",
       "  <th>LastNotableActivity_Had a Phone Conversation</th> <td>    2.6033</td> <td>    1.464</td> <td>    1.778</td> <td> 0.075</td> <td>   -0.267</td> <td>    5.473</td>\n",
       "</tr>\n",
       "<tr>\n",
       "  <th>LastNotableActivity_SMS Sent</th>                 <td>    1.5665</td> <td>    0.081</td> <td>   19.285</td> <td> 0.000</td> <td>    1.407</td> <td>    1.726</td>\n",
       "</tr>\n",
       "<tr>\n",
       "  <th>LastNotableActivity_Unreachable</th>              <td>    1.3425</td> <td>    0.529</td> <td>    2.538</td> <td> 0.011</td> <td>    0.306</td> <td>    2.379</td>\n",
       "</tr>\n",
       "</table>"
      ],
      "text/plain": [
       "<class 'statsmodels.iolib.summary.Summary'>\n",
       "\"\"\"\n",
       "                 Generalized Linear Model Regression Results                  \n",
       "==============================================================================\n",
       "Dep. Variable:              Converted   No. Observations:                 6320\n",
       "Model:                            GLM   Df Residuals:                     6300\n",
       "Model Family:                Binomial   Df Model:                           19\n",
       "Link Function:                  logit   Scale:                          1.0000\n",
       "Method:                          IRLS   Log-Likelihood:                -2611.7\n",
       "Date:                Sun, 11 Apr 2021   Deviance:                       5223.4\n",
       "Time:                        00:29:28   Pearson chi2:                 7.12e+03\n",
       "No. Iterations:                    21                                         \n",
       "Covariance Type:            nonrobust                                         \n",
       "================================================================================================================\n",
       "                                                   coef    std err          z      P>|z|      [0.025      0.975]\n",
       "----------------------------------------------------------------------------------------------------------------\n",
       "const                                           -0.5869      1.403     -0.418      0.676      -3.336       2.162\n",
       "Do Not Email                                    -1.1178      0.190     -5.876      0.000      -1.491      -0.745\n",
       "TotalVisits                                      1.2287      0.246      4.996      0.000       0.747       1.711\n",
       "Total Time Spent on Website                      4.4587      0.164     27.112      0.000       4.136       4.781\n",
       "LeadOrigin_API                                  -1.8876      1.404     -1.344      0.179      -4.640       0.864\n",
       "LeadOrigin_Landing Page Submission              -2.1554      1.403     -1.537      0.124      -4.904       0.594\n",
       "LeadOrigin_Lead Add Form                         1.9668      1.412      1.393      0.164      -0.801       4.735\n",
       "LeadSource_Facebook                             -1.7888      1.442     -1.240      0.215      -4.615       1.038\n",
       "LeadSource_Olark Chat                            1.2959      0.134      9.684      0.000       1.034       1.558\n",
       "LeadSource_Welingak Website                      2.1666      0.744      2.912      0.004       0.709       3.625\n",
       "LastActivity_Converted to Lead                  -0.9936      0.213     -4.661      0.000      -1.411      -0.576\n",
       "LastActivity_Email Bounced                      -1.7454      0.501     -3.483      0.000      -2.728      -0.763\n",
       "LastActivity_Had a Phone Conversation            0.5130      0.951      0.540      0.589      -1.350       2.376\n",
       "LastActivity_Olark Chat Conversation            -1.5164      0.165     -9.206      0.000      -1.839      -1.194\n",
       "CurrentOccupation_Housewife                     23.1527   1.42e+04      0.002      0.999   -2.78e+04    2.78e+04\n",
       "CurrentOccupation_Working Professional           2.9458      0.203     14.532      0.000       2.549       3.343\n",
       "LastNotableActivity_Email Bounced                1.6944      0.681      2.488      0.013       0.359       3.029\n",
       "LastNotableActivity_Had a Phone Conversation     2.6033      1.464      1.778      0.075      -0.267       5.473\n",
       "LastNotableActivity_SMS Sent                     1.5665      0.081     19.285      0.000       1.407       1.726\n",
       "LastNotableActivity_Unreachable                  1.3425      0.529      2.538      0.011       0.306       2.379\n",
       "================================================================================================================\n",
       "\"\"\""
      ]
     },
     "execution_count": 88,
     "metadata": {},
     "output_type": "execute_result"
    }
   ],
   "source": [
    "X_train_sm = sm.add_constant(X_train[col])\n",
    "logm3 = sm.GLM(y_train,X_train_sm, family = sm.families.Binomial())\n",
    "res = logm3.fit()\n",
    "res.summary()"
   ]
  },
  {
   "cell_type": "markdown",
   "metadata": {},
   "source": [
    "Removing column CurrentOccupation_Housewife as it has a high pvalue and hence is insignificant"
   ]
  },
  {
   "cell_type": "code",
   "execution_count": 89,
   "metadata": {},
   "outputs": [],
   "source": [
    "col = col.drop('CurrentOccupation_Housewife',1)"
   ]
  },
  {
   "cell_type": "markdown",
   "metadata": {},
   "source": [
    "#### Rebuilding Model - Model 4"
   ]
  },
  {
   "cell_type": "code",
   "execution_count": 90,
   "metadata": {},
   "outputs": [
    {
     "data": {
      "text/html": [
       "<table class=\"simpletable\">\n",
       "<caption>Generalized Linear Model Regression Results</caption>\n",
       "<tr>\n",
       "  <th>Dep. Variable:</th>       <td>Converted</td>    <th>  No. Observations:  </th>  <td>  6320</td> \n",
       "</tr>\n",
       "<tr>\n",
       "  <th>Model:</th>                  <td>GLM</td>       <th>  Df Residuals:      </th>  <td>  6301</td> \n",
       "</tr>\n",
       "<tr>\n",
       "  <th>Model Family:</th>        <td>Binomial</td>     <th>  Df Model:          </th>  <td>    18</td> \n",
       "</tr>\n",
       "<tr>\n",
       "  <th>Link Function:</th>         <td>logit</td>      <th>  Scale:             </th> <td>  1.0000</td>\n",
       "</tr>\n",
       "<tr>\n",
       "  <th>Method:</th>                <td>IRLS</td>       <th>  Log-Likelihood:    </th> <td> -2618.9</td>\n",
       "</tr>\n",
       "<tr>\n",
       "  <th>Date:</th>            <td>Sun, 11 Apr 2021</td> <th>  Deviance:          </th> <td>  5237.8</td>\n",
       "</tr>\n",
       "<tr>\n",
       "  <th>Time:</th>                <td>00:29:28</td>     <th>  Pearson chi2:      </th> <td>7.13e+03</td>\n",
       "</tr>\n",
       "<tr>\n",
       "  <th>No. Iterations:</th>          <td>7</td>        <th>                     </th>     <td> </td>   \n",
       "</tr>\n",
       "<tr>\n",
       "  <th>Covariance Type:</th>     <td>nonrobust</td>    <th>                     </th>     <td> </td>   \n",
       "</tr>\n",
       "</table>\n",
       "<table class=\"simpletable\">\n",
       "<tr>\n",
       "                        <td></td>                          <th>coef</th>     <th>std err</th>      <th>z</th>      <th>P>|z|</th>  <th>[0.025</th>    <th>0.975]</th>  \n",
       "</tr>\n",
       "<tr>\n",
       "  <th>const</th>                                        <td>   -0.5788</td> <td>    1.401</td> <td>   -0.413</td> <td> 0.679</td> <td>   -3.324</td> <td>    2.167</td>\n",
       "</tr>\n",
       "<tr>\n",
       "  <th>Do Not Email</th>                                 <td>   -1.1223</td> <td>    0.190</td> <td>   -5.903</td> <td> 0.000</td> <td>   -1.495</td> <td>   -0.750</td>\n",
       "</tr>\n",
       "<tr>\n",
       "  <th>TotalVisits</th>                                  <td>    1.2089</td> <td>    0.246</td> <td>    4.922</td> <td> 0.000</td> <td>    0.727</td> <td>    1.690</td>\n",
       "</tr>\n",
       "<tr>\n",
       "  <th>Total Time Spent on Website</th>                  <td>    4.4536</td> <td>    0.164</td> <td>   27.117</td> <td> 0.000</td> <td>    4.132</td> <td>    4.775</td>\n",
       "</tr>\n",
       "<tr>\n",
       "  <th>LeadOrigin_API</th>                               <td>   -1.8844</td> <td>    1.402</td> <td>   -1.344</td> <td> 0.179</td> <td>   -4.633</td> <td>    0.864</td>\n",
       "</tr>\n",
       "<tr>\n",
       "  <th>LeadOrigin_Landing Page Submission</th>           <td>   -2.1463</td> <td>    1.401</td> <td>   -1.532</td> <td> 0.125</td> <td>   -4.891</td> <td>    0.599</td>\n",
       "</tr>\n",
       "<tr>\n",
       "  <th>LeadOrigin_Lead Add Form</th>                     <td>    1.9758</td> <td>    1.410</td> <td>    1.401</td> <td> 0.161</td> <td>   -0.788</td> <td>    4.740</td>\n",
       "</tr>\n",
       "<tr>\n",
       "  <th>LeadSource_Facebook</th>                          <td>   -1.7931</td> <td>    1.440</td> <td>   -1.245</td> <td> 0.213</td> <td>   -4.616</td> <td>    1.030</td>\n",
       "</tr>\n",
       "<tr>\n",
       "  <th>LeadSource_Olark Chat</th>                        <td>    1.2878</td> <td>    0.134</td> <td>    9.636</td> <td> 0.000</td> <td>    1.026</td> <td>    1.550</td>\n",
       "</tr>\n",
       "<tr>\n",
       "  <th>LeadSource_Welingak Website</th>                  <td>    2.1523</td> <td>    0.744</td> <td>    2.893</td> <td> 0.004</td> <td>    0.694</td> <td>    3.610</td>\n",
       "</tr>\n",
       "<tr>\n",
       "  <th>LastActivity_Converted to Lead</th>               <td>   -1.0035</td> <td>    0.213</td> <td>   -4.710</td> <td> 0.000</td> <td>   -1.421</td> <td>   -0.586</td>\n",
       "</tr>\n",
       "<tr>\n",
       "  <th>LastActivity_Email Bounced</th>                   <td>   -1.7516</td> <td>    0.501</td> <td>   -3.496</td> <td> 0.000</td> <td>   -2.734</td> <td>   -0.769</td>\n",
       "</tr>\n",
       "<tr>\n",
       "  <th>LastActivity_Had a Phone Conversation</th>        <td>    0.5032</td> <td>    0.950</td> <td>    0.529</td> <td> 0.597</td> <td>   -1.360</td> <td>    2.366</td>\n",
       "</tr>\n",
       "<tr>\n",
       "  <th>LastActivity_Olark Chat Conversation</th>         <td>   -1.5196</td> <td>    0.165</td> <td>   -9.229</td> <td> 0.000</td> <td>   -1.842</td> <td>   -1.197</td>\n",
       "</tr>\n",
       "<tr>\n",
       "  <th>CurrentOccupation_Working Professional</th>       <td>    2.9392</td> <td>    0.203</td> <td>   14.503</td> <td> 0.000</td> <td>    2.542</td> <td>    3.336</td>\n",
       "</tr>\n",
       "<tr>\n",
       "  <th>LastNotableActivity_Email Bounced</th>            <td>    1.6986</td> <td>    0.681</td> <td>    2.494</td> <td> 0.013</td> <td>    0.364</td> <td>    3.033</td>\n",
       "</tr>\n",
       "<tr>\n",
       "  <th>LastNotableActivity_Had a Phone Conversation</th> <td>    2.6056</td> <td>    1.464</td> <td>    1.780</td> <td> 0.075</td> <td>   -0.264</td> <td>    5.475</td>\n",
       "</tr>\n",
       "<tr>\n",
       "  <th>LastNotableActivity_SMS Sent</th>                 <td>    1.5584</td> <td>    0.081</td> <td>   19.206</td> <td> 0.000</td> <td>    1.399</td> <td>    1.717</td>\n",
       "</tr>\n",
       "<tr>\n",
       "  <th>LastNotableActivity_Unreachable</th>              <td>    1.3348</td> <td>    0.529</td> <td>    2.523</td> <td> 0.012</td> <td>    0.298</td> <td>    2.372</td>\n",
       "</tr>\n",
       "</table>"
      ],
      "text/plain": [
       "<class 'statsmodels.iolib.summary.Summary'>\n",
       "\"\"\"\n",
       "                 Generalized Linear Model Regression Results                  \n",
       "==============================================================================\n",
       "Dep. Variable:              Converted   No. Observations:                 6320\n",
       "Model:                            GLM   Df Residuals:                     6301\n",
       "Model Family:                Binomial   Df Model:                           18\n",
       "Link Function:                  logit   Scale:                          1.0000\n",
       "Method:                          IRLS   Log-Likelihood:                -2618.9\n",
       "Date:                Sun, 11 Apr 2021   Deviance:                       5237.8\n",
       "Time:                        00:29:28   Pearson chi2:                 7.13e+03\n",
       "No. Iterations:                     7                                         \n",
       "Covariance Type:            nonrobust                                         \n",
       "================================================================================================================\n",
       "                                                   coef    std err          z      P>|z|      [0.025      0.975]\n",
       "----------------------------------------------------------------------------------------------------------------\n",
       "const                                           -0.5788      1.401     -0.413      0.679      -3.324       2.167\n",
       "Do Not Email                                    -1.1223      0.190     -5.903      0.000      -1.495      -0.750\n",
       "TotalVisits                                      1.2089      0.246      4.922      0.000       0.727       1.690\n",
       "Total Time Spent on Website                      4.4536      0.164     27.117      0.000       4.132       4.775\n",
       "LeadOrigin_API                                  -1.8844      1.402     -1.344      0.179      -4.633       0.864\n",
       "LeadOrigin_Landing Page Submission              -2.1463      1.401     -1.532      0.125      -4.891       0.599\n",
       "LeadOrigin_Lead Add Form                         1.9758      1.410      1.401      0.161      -0.788       4.740\n",
       "LeadSource_Facebook                             -1.7931      1.440     -1.245      0.213      -4.616       1.030\n",
       "LeadSource_Olark Chat                            1.2878      0.134      9.636      0.000       1.026       1.550\n",
       "LeadSource_Welingak Website                      2.1523      0.744      2.893      0.004       0.694       3.610\n",
       "LastActivity_Converted to Lead                  -1.0035      0.213     -4.710      0.000      -1.421      -0.586\n",
       "LastActivity_Email Bounced                      -1.7516      0.501     -3.496      0.000      -2.734      -0.769\n",
       "LastActivity_Had a Phone Conversation            0.5032      0.950      0.529      0.597      -1.360       2.366\n",
       "LastActivity_Olark Chat Conversation            -1.5196      0.165     -9.229      0.000      -1.842      -1.197\n",
       "CurrentOccupation_Working Professional           2.9392      0.203     14.503      0.000       2.542       3.336\n",
       "LastNotableActivity_Email Bounced                1.6986      0.681      2.494      0.013       0.364       3.033\n",
       "LastNotableActivity_Had a Phone Conversation     2.6056      1.464      1.780      0.075      -0.264       5.475\n",
       "LastNotableActivity_SMS Sent                     1.5584      0.081     19.206      0.000       1.399       1.717\n",
       "LastNotableActivity_Unreachable                  1.3348      0.529      2.523      0.012       0.298       2.372\n",
       "================================================================================================================\n",
       "\"\"\""
      ]
     },
     "execution_count": 90,
     "metadata": {},
     "output_type": "execute_result"
    }
   ],
   "source": [
    "X_train_sm = sm.add_constant(X_train[col])\n",
    "logm4 = sm.GLM(y_train,X_train_sm, family = sm.families.Binomial())\n",
    "res = logm4.fit()\n",
    "res.summary()"
   ]
  },
  {
   "cell_type": "markdown",
   "metadata": {},
   "source": [
    "Removing column LastActivity_Had a Phone Conversation as it has high pvalue and hence is insignificant"
   ]
  },
  {
   "cell_type": "code",
   "execution_count": 91,
   "metadata": {},
   "outputs": [],
   "source": [
    "col = col.drop('LastActivity_Had a Phone Conversation',1)"
   ]
  },
  {
   "cell_type": "markdown",
   "metadata": {},
   "source": [
    "#### Rebuilding Model - Model 5"
   ]
  },
  {
   "cell_type": "code",
   "execution_count": 92,
   "metadata": {},
   "outputs": [
    {
     "data": {
      "text/html": [
       "<table class=\"simpletable\">\n",
       "<caption>Generalized Linear Model Regression Results</caption>\n",
       "<tr>\n",
       "  <th>Dep. Variable:</th>       <td>Converted</td>    <th>  No. Observations:  </th>  <td>  6320</td> \n",
       "</tr>\n",
       "<tr>\n",
       "  <th>Model:</th>                  <td>GLM</td>       <th>  Df Residuals:      </th>  <td>  6302</td> \n",
       "</tr>\n",
       "<tr>\n",
       "  <th>Model Family:</th>        <td>Binomial</td>     <th>  Df Model:          </th>  <td>    17</td> \n",
       "</tr>\n",
       "<tr>\n",
       "  <th>Link Function:</th>         <td>logit</td>      <th>  Scale:             </th> <td>  1.0000</td>\n",
       "</tr>\n",
       "<tr>\n",
       "  <th>Method:</th>                <td>IRLS</td>       <th>  Log-Likelihood:    </th> <td> -2619.0</td>\n",
       "</tr>\n",
       "<tr>\n",
       "  <th>Date:</th>            <td>Sun, 11 Apr 2021</td> <th>  Deviance:          </th> <td>  5238.1</td>\n",
       "</tr>\n",
       "<tr>\n",
       "  <th>Time:</th>                <td>00:29:28</td>     <th>  Pearson chi2:      </th> <td>6.87e+03</td>\n",
       "</tr>\n",
       "<tr>\n",
       "  <th>No. Iterations:</th>          <td>7</td>        <th>                     </th>     <td> </td>   \n",
       "</tr>\n",
       "<tr>\n",
       "  <th>Covariance Type:</th>     <td>nonrobust</td>    <th>                     </th>     <td> </td>   \n",
       "</tr>\n",
       "</table>\n",
       "<table class=\"simpletable\">\n",
       "<tr>\n",
       "                        <td></td>                          <th>coef</th>     <th>std err</th>      <th>z</th>      <th>P>|z|</th>  <th>[0.025</th>    <th>0.975]</th>  \n",
       "</tr>\n",
       "<tr>\n",
       "  <th>const</th>                                        <td>   -0.5782</td> <td>    1.401</td> <td>   -0.413</td> <td> 0.680</td> <td>   -3.323</td> <td>    2.167</td>\n",
       "</tr>\n",
       "<tr>\n",
       "  <th>Do Not Email</th>                                 <td>   -1.1230</td> <td>    0.190</td> <td>   -5.906</td> <td> 0.000</td> <td>   -1.496</td> <td>   -0.750</td>\n",
       "</tr>\n",
       "<tr>\n",
       "  <th>TotalVisits</th>                                  <td>    1.2063</td> <td>    0.246</td> <td>    4.913</td> <td> 0.000</td> <td>    0.725</td> <td>    1.688</td>\n",
       "</tr>\n",
       "<tr>\n",
       "  <th>Total Time Spent on Website</th>                  <td>    4.4544</td> <td>    0.164</td> <td>   27.123</td> <td> 0.000</td> <td>    4.132</td> <td>    4.776</td>\n",
       "</tr>\n",
       "<tr>\n",
       "  <th>LeadOrigin_API</th>                               <td>   -1.8832</td> <td>    1.402</td> <td>   -1.343</td> <td> 0.179</td> <td>   -4.631</td> <td>    0.865</td>\n",
       "</tr>\n",
       "<tr>\n",
       "  <th>LeadOrigin_Landing Page Submission</th>           <td>   -2.1453</td> <td>    1.400</td> <td>   -1.532</td> <td> 0.126</td> <td>   -4.890</td> <td>    0.600</td>\n",
       "</tr>\n",
       "<tr>\n",
       "  <th>LeadOrigin_Lead Add Form</th>                     <td>    1.9780</td> <td>    1.410</td> <td>    1.403</td> <td> 0.161</td> <td>   -0.786</td> <td>    4.742</td>\n",
       "</tr>\n",
       "<tr>\n",
       "  <th>LeadSource_Facebook</th>                          <td>   -1.7935</td> <td>    1.440</td> <td>   -1.245</td> <td> 0.213</td> <td>   -4.616</td> <td>    1.029</td>\n",
       "</tr>\n",
       "<tr>\n",
       "  <th>LeadSource_Olark Chat</th>                        <td>    1.2865</td> <td>    0.134</td> <td>    9.628</td> <td> 0.000</td> <td>    1.025</td> <td>    1.548</td>\n",
       "</tr>\n",
       "<tr>\n",
       "  <th>LeadSource_Welingak Website</th>                  <td>    2.1499</td> <td>    0.744</td> <td>    2.890</td> <td> 0.004</td> <td>    0.692</td> <td>    3.608</td>\n",
       "</tr>\n",
       "<tr>\n",
       "  <th>LastActivity_Converted to Lead</th>               <td>   -1.0052</td> <td>    0.213</td> <td>   -4.718</td> <td> 0.000</td> <td>   -1.423</td> <td>   -0.588</td>\n",
       "</tr>\n",
       "<tr>\n",
       "  <th>LastActivity_Email Bounced</th>                   <td>   -1.7528</td> <td>    0.501</td> <td>   -3.497</td> <td> 0.000</td> <td>   -2.735</td> <td>   -0.770</td>\n",
       "</tr>\n",
       "<tr>\n",
       "  <th>LastActivity_Olark Chat Conversation</th>         <td>   -1.5203</td> <td>    0.165</td> <td>   -9.233</td> <td> 0.000</td> <td>   -1.843</td> <td>   -1.198</td>\n",
       "</tr>\n",
       "<tr>\n",
       "  <th>CurrentOccupation_Working Professional</th>       <td>    2.9406</td> <td>    0.203</td> <td>   14.513</td> <td> 0.000</td> <td>    2.543</td> <td>    3.338</td>\n",
       "</tr>\n",
       "<tr>\n",
       "  <th>LastNotableActivity_Email Bounced</th>            <td>    1.6991</td> <td>    0.681</td> <td>    2.494</td> <td> 0.013</td> <td>    0.364</td> <td>    3.034</td>\n",
       "</tr>\n",
       "<tr>\n",
       "  <th>LastNotableActivity_Had a Phone Conversation</th> <td>    3.1080</td> <td>    1.115</td> <td>    2.788</td> <td> 0.005</td> <td>    0.923</td> <td>    5.293</td>\n",
       "</tr>\n",
       "<tr>\n",
       "  <th>LastNotableActivity_SMS Sent</th>                 <td>    1.5574</td> <td>    0.081</td> <td>   19.199</td> <td> 0.000</td> <td>    1.398</td> <td>    1.716</td>\n",
       "</tr>\n",
       "<tr>\n",
       "  <th>LastNotableActivity_Unreachable</th>              <td>    1.3338</td> <td>    0.529</td> <td>    2.521</td> <td> 0.012</td> <td>    0.297</td> <td>    2.371</td>\n",
       "</tr>\n",
       "</table>"
      ],
      "text/plain": [
       "<class 'statsmodels.iolib.summary.Summary'>\n",
       "\"\"\"\n",
       "                 Generalized Linear Model Regression Results                  \n",
       "==============================================================================\n",
       "Dep. Variable:              Converted   No. Observations:                 6320\n",
       "Model:                            GLM   Df Residuals:                     6302\n",
       "Model Family:                Binomial   Df Model:                           17\n",
       "Link Function:                  logit   Scale:                          1.0000\n",
       "Method:                          IRLS   Log-Likelihood:                -2619.0\n",
       "Date:                Sun, 11 Apr 2021   Deviance:                       5238.1\n",
       "Time:                        00:29:28   Pearson chi2:                 6.87e+03\n",
       "No. Iterations:                     7                                         \n",
       "Covariance Type:            nonrobust                                         \n",
       "================================================================================================================\n",
       "                                                   coef    std err          z      P>|z|      [0.025      0.975]\n",
       "----------------------------------------------------------------------------------------------------------------\n",
       "const                                           -0.5782      1.401     -0.413      0.680      -3.323       2.167\n",
       "Do Not Email                                    -1.1230      0.190     -5.906      0.000      -1.496      -0.750\n",
       "TotalVisits                                      1.2063      0.246      4.913      0.000       0.725       1.688\n",
       "Total Time Spent on Website                      4.4544      0.164     27.123      0.000       4.132       4.776\n",
       "LeadOrigin_API                                  -1.8832      1.402     -1.343      0.179      -4.631       0.865\n",
       "LeadOrigin_Landing Page Submission              -2.1453      1.400     -1.532      0.126      -4.890       0.600\n",
       "LeadOrigin_Lead Add Form                         1.9780      1.410      1.403      0.161      -0.786       4.742\n",
       "LeadSource_Facebook                             -1.7935      1.440     -1.245      0.213      -4.616       1.029\n",
       "LeadSource_Olark Chat                            1.2865      0.134      9.628      0.000       1.025       1.548\n",
       "LeadSource_Welingak Website                      2.1499      0.744      2.890      0.004       0.692       3.608\n",
       "LastActivity_Converted to Lead                  -1.0052      0.213     -4.718      0.000      -1.423      -0.588\n",
       "LastActivity_Email Bounced                      -1.7528      0.501     -3.497      0.000      -2.735      -0.770\n",
       "LastActivity_Olark Chat Conversation            -1.5203      0.165     -9.233      0.000      -1.843      -1.198\n",
       "CurrentOccupation_Working Professional           2.9406      0.203     14.513      0.000       2.543       3.338\n",
       "LastNotableActivity_Email Bounced                1.6991      0.681      2.494      0.013       0.364       3.034\n",
       "LastNotableActivity_Had a Phone Conversation     3.1080      1.115      2.788      0.005       0.923       5.293\n",
       "LastNotableActivity_SMS Sent                     1.5574      0.081     19.199      0.000       1.398       1.716\n",
       "LastNotableActivity_Unreachable                  1.3338      0.529      2.521      0.012       0.297       2.371\n",
       "================================================================================================================\n",
       "\"\"\""
      ]
     },
     "execution_count": 92,
     "metadata": {},
     "output_type": "execute_result"
    }
   ],
   "source": [
    "X_train_sm = sm.add_constant(X_train[col])\n",
    "logm5 = sm.GLM(y_train,X_train_sm, family = sm.families.Binomial())\n",
    "res = logm5.fit()\n",
    "res.summary()"
   ]
  },
  {
   "cell_type": "markdown",
   "metadata": {},
   "source": [
    "Removing column LeadSource_Facebook as it has high pvalue and hence is insignificant "
   ]
  },
  {
   "cell_type": "code",
   "execution_count": 93,
   "metadata": {},
   "outputs": [],
   "source": [
    "col = col.drop('LeadSource_Facebook',1)"
   ]
  },
  {
   "cell_type": "markdown",
   "metadata": {},
   "source": [
    "#### Rebuilding Model - Model 6"
   ]
  },
  {
   "cell_type": "code",
   "execution_count": 94,
   "metadata": {},
   "outputs": [
    {
     "data": {
      "text/html": [
       "<table class=\"simpletable\">\n",
       "<caption>Generalized Linear Model Regression Results</caption>\n",
       "<tr>\n",
       "  <th>Dep. Variable:</th>       <td>Converted</td>    <th>  No. Observations:  </th>  <td>  6320</td> \n",
       "</tr>\n",
       "<tr>\n",
       "  <th>Model:</th>                  <td>GLM</td>       <th>  Df Residuals:      </th>  <td>  6303</td> \n",
       "</tr>\n",
       "<tr>\n",
       "  <th>Model Family:</th>        <td>Binomial</td>     <th>  Df Model:          </th>  <td>    16</td> \n",
       "</tr>\n",
       "<tr>\n",
       "  <th>Link Function:</th>         <td>logit</td>      <th>  Scale:             </th> <td>  1.0000</td>\n",
       "</tr>\n",
       "<tr>\n",
       "  <th>Method:</th>                <td>IRLS</td>       <th>  Log-Likelihood:    </th> <td> -2619.9</td>\n",
       "</tr>\n",
       "<tr>\n",
       "  <th>Date:</th>            <td>Sun, 11 Apr 2021</td> <th>  Deviance:          </th> <td>  5239.8</td>\n",
       "</tr>\n",
       "<tr>\n",
       "  <th>Time:</th>                <td>00:29:28</td>     <th>  Pearson chi2:      </th> <td>6.86e+03</td>\n",
       "</tr>\n",
       "<tr>\n",
       "  <th>No. Iterations:</th>          <td>7</td>        <th>                     </th>     <td> </td>   \n",
       "</tr>\n",
       "<tr>\n",
       "  <th>Covariance Type:</th>     <td>nonrobust</td>    <th>                     </th>     <td> </td>   \n",
       "</tr>\n",
       "</table>\n",
       "<table class=\"simpletable\">\n",
       "<tr>\n",
       "                        <td></td>                          <th>coef</th>     <th>std err</th>      <th>z</th>      <th>P>|z|</th>  <th>[0.025</th>    <th>0.975]</th>  \n",
       "</tr>\n",
       "<tr>\n",
       "  <th>const</th>                                        <td>   -2.2443</td> <td>    0.436</td> <td>   -5.153</td> <td> 0.000</td> <td>   -3.098</td> <td>   -1.391</td>\n",
       "</tr>\n",
       "<tr>\n",
       "  <th>Do Not Email</th>                                 <td>   -1.1193</td> <td>    0.190</td> <td>   -5.889</td> <td> 0.000</td> <td>   -1.492</td> <td>   -0.747</td>\n",
       "</tr>\n",
       "<tr>\n",
       "  <th>TotalVisits</th>                                  <td>    1.2069</td> <td>    0.246</td> <td>    4.914</td> <td> 0.000</td> <td>    0.726</td> <td>    1.688</td>\n",
       "</tr>\n",
       "<tr>\n",
       "  <th>Total Time Spent on Website</th>                  <td>    4.4611</td> <td>    0.164</td> <td>   27.168</td> <td> 0.000</td> <td>    4.139</td> <td>    4.783</td>\n",
       "</tr>\n",
       "<tr>\n",
       "  <th>LeadOrigin_API</th>                               <td>   -0.2195</td> <td>    0.443</td> <td>   -0.496</td> <td> 0.620</td> <td>   -1.087</td> <td>    0.648</td>\n",
       "</tr>\n",
       "<tr>\n",
       "  <th>LeadOrigin_Landing Page Submission</th>           <td>   -0.4827</td> <td>    0.439</td> <td>   -1.099</td> <td> 0.272</td> <td>   -1.344</td> <td>    0.378</td>\n",
       "</tr>\n",
       "<tr>\n",
       "  <th>LeadOrigin_Lead Add Form</th>                     <td>    3.6403</td> <td>    0.472</td> <td>    7.718</td> <td> 0.000</td> <td>    2.716</td> <td>    4.565</td>\n",
       "</tr>\n",
       "<tr>\n",
       "  <th>LeadSource_Olark Chat</th>                        <td>    1.2886</td> <td>    0.134</td> <td>    9.643</td> <td> 0.000</td> <td>    1.027</td> <td>    1.550</td>\n",
       "</tr>\n",
       "<tr>\n",
       "  <th>LeadSource_Welingak Website</th>                  <td>    2.1532</td> <td>    0.744</td> <td>    2.895</td> <td> 0.004</td> <td>    0.695</td> <td>    3.611</td>\n",
       "</tr>\n",
       "<tr>\n",
       "  <th>LastActivity_Converted to Lead</th>               <td>   -1.0046</td> <td>    0.213</td> <td>   -4.714</td> <td> 0.000</td> <td>   -1.422</td> <td>   -0.587</td>\n",
       "</tr>\n",
       "<tr>\n",
       "  <th>LastActivity_Email Bounced</th>                   <td>   -1.6737</td> <td>    0.487</td> <td>   -3.436</td> <td> 0.001</td> <td>   -2.628</td> <td>   -0.719</td>\n",
       "</tr>\n",
       "<tr>\n",
       "  <th>LastActivity_Olark Chat Conversation</th>         <td>   -1.5204</td> <td>    0.165</td> <td>   -9.233</td> <td> 0.000</td> <td>   -1.843</td> <td>   -1.198</td>\n",
       "</tr>\n",
       "<tr>\n",
       "  <th>CurrentOccupation_Working Professional</th>       <td>    2.9403</td> <td>    0.203</td> <td>   14.513</td> <td> 0.000</td> <td>    2.543</td> <td>    3.337</td>\n",
       "</tr>\n",
       "<tr>\n",
       "  <th>LastNotableActivity_Email Bounced</th>            <td>    1.6167</td> <td>    0.670</td> <td>    2.412</td> <td> 0.016</td> <td>    0.303</td> <td>    2.930</td>\n",
       "</tr>\n",
       "<tr>\n",
       "  <th>LastNotableActivity_Had a Phone Conversation</th> <td>    3.1100</td> <td>    1.115</td> <td>    2.789</td> <td> 0.005</td> <td>    0.925</td> <td>    5.295</td>\n",
       "</tr>\n",
       "<tr>\n",
       "  <th>LastNotableActivity_SMS Sent</th>                 <td>    1.5566</td> <td>    0.081</td> <td>   19.192</td> <td> 0.000</td> <td>    1.398</td> <td>    1.716</td>\n",
       "</tr>\n",
       "<tr>\n",
       "  <th>LastNotableActivity_Unreachable</th>              <td>    1.3350</td> <td>    0.529</td> <td>    2.523</td> <td> 0.012</td> <td>    0.298</td> <td>    2.372</td>\n",
       "</tr>\n",
       "</table>"
      ],
      "text/plain": [
       "<class 'statsmodels.iolib.summary.Summary'>\n",
       "\"\"\"\n",
       "                 Generalized Linear Model Regression Results                  \n",
       "==============================================================================\n",
       "Dep. Variable:              Converted   No. Observations:                 6320\n",
       "Model:                            GLM   Df Residuals:                     6303\n",
       "Model Family:                Binomial   Df Model:                           16\n",
       "Link Function:                  logit   Scale:                          1.0000\n",
       "Method:                          IRLS   Log-Likelihood:                -2619.9\n",
       "Date:                Sun, 11 Apr 2021   Deviance:                       5239.8\n",
       "Time:                        00:29:28   Pearson chi2:                 6.86e+03\n",
       "No. Iterations:                     7                                         \n",
       "Covariance Type:            nonrobust                                         \n",
       "================================================================================================================\n",
       "                                                   coef    std err          z      P>|z|      [0.025      0.975]\n",
       "----------------------------------------------------------------------------------------------------------------\n",
       "const                                           -2.2443      0.436     -5.153      0.000      -3.098      -1.391\n",
       "Do Not Email                                    -1.1193      0.190     -5.889      0.000      -1.492      -0.747\n",
       "TotalVisits                                      1.2069      0.246      4.914      0.000       0.726       1.688\n",
       "Total Time Spent on Website                      4.4611      0.164     27.168      0.000       4.139       4.783\n",
       "LeadOrigin_API                                  -0.2195      0.443     -0.496      0.620      -1.087       0.648\n",
       "LeadOrigin_Landing Page Submission              -0.4827      0.439     -1.099      0.272      -1.344       0.378\n",
       "LeadOrigin_Lead Add Form                         3.6403      0.472      7.718      0.000       2.716       4.565\n",
       "LeadSource_Olark Chat                            1.2886      0.134      9.643      0.000       1.027       1.550\n",
       "LeadSource_Welingak Website                      2.1532      0.744      2.895      0.004       0.695       3.611\n",
       "LastActivity_Converted to Lead                  -1.0046      0.213     -4.714      0.000      -1.422      -0.587\n",
       "LastActivity_Email Bounced                      -1.6737      0.487     -3.436      0.001      -2.628      -0.719\n",
       "LastActivity_Olark Chat Conversation            -1.5204      0.165     -9.233      0.000      -1.843      -1.198\n",
       "CurrentOccupation_Working Professional           2.9403      0.203     14.513      0.000       2.543       3.337\n",
       "LastNotableActivity_Email Bounced                1.6167      0.670      2.412      0.016       0.303       2.930\n",
       "LastNotableActivity_Had a Phone Conversation     3.1100      1.115      2.789      0.005       0.925       5.295\n",
       "LastNotableActivity_SMS Sent                     1.5566      0.081     19.192      0.000       1.398       1.716\n",
       "LastNotableActivity_Unreachable                  1.3350      0.529      2.523      0.012       0.298       2.372\n",
       "================================================================================================================\n",
       "\"\"\""
      ]
     },
     "execution_count": 94,
     "metadata": {},
     "output_type": "execute_result"
    }
   ],
   "source": [
    "X_train_sm = sm.add_constant(X_train[col])\n",
    "logm6 = sm.GLM(y_train,X_train_sm, family = sm.families.Binomial())\n",
    "res = logm6.fit()\n",
    "res.summary()"
   ]
  },
  {
   "cell_type": "markdown",
   "metadata": {},
   "source": [
    "Removing column LeadOrigin_API as it has high pvalue and hence insignificant"
   ]
  },
  {
   "cell_type": "code",
   "execution_count": 95,
   "metadata": {},
   "outputs": [],
   "source": [
    "col = col.drop('LeadOrigin_API',1)"
   ]
  },
  {
   "cell_type": "markdown",
   "metadata": {},
   "source": [
    "#### Rebuilding Model - Model 7"
   ]
  },
  {
   "cell_type": "code",
   "execution_count": 96,
   "metadata": {},
   "outputs": [
    {
     "data": {
      "text/html": [
       "<table class=\"simpletable\">\n",
       "<caption>Generalized Linear Model Regression Results</caption>\n",
       "<tr>\n",
       "  <th>Dep. Variable:</th>       <td>Converted</td>    <th>  No. Observations:  </th>  <td>  6320</td> \n",
       "</tr>\n",
       "<tr>\n",
       "  <th>Model:</th>                  <td>GLM</td>       <th>  Df Residuals:      </th>  <td>  6304</td> \n",
       "</tr>\n",
       "<tr>\n",
       "  <th>Model Family:</th>        <td>Binomial</td>     <th>  Df Model:          </th>  <td>    15</td> \n",
       "</tr>\n",
       "<tr>\n",
       "  <th>Link Function:</th>         <td>logit</td>      <th>  Scale:             </th> <td>  1.0000</td>\n",
       "</tr>\n",
       "<tr>\n",
       "  <th>Method:</th>                <td>IRLS</td>       <th>  Log-Likelihood:    </th> <td> -2620.0</td>\n",
       "</tr>\n",
       "<tr>\n",
       "  <th>Date:</th>            <td>Sun, 11 Apr 2021</td> <th>  Deviance:          </th> <td>  5240.0</td>\n",
       "</tr>\n",
       "<tr>\n",
       "  <th>Time:</th>                <td>00:29:28</td>     <th>  Pearson chi2:      </th> <td>6.87e+03</td>\n",
       "</tr>\n",
       "<tr>\n",
       "  <th>No. Iterations:</th>          <td>7</td>        <th>                     </th>     <td> </td>   \n",
       "</tr>\n",
       "<tr>\n",
       "  <th>Covariance Type:</th>     <td>nonrobust</td>    <th>                     </th>     <td> </td>   \n",
       "</tr>\n",
       "</table>\n",
       "<table class=\"simpletable\">\n",
       "<tr>\n",
       "                        <td></td>                          <th>coef</th>     <th>std err</th>      <th>z</th>      <th>P>|z|</th>  <th>[0.025</th>    <th>0.975]</th>  \n",
       "</tr>\n",
       "<tr>\n",
       "  <th>const</th>                                        <td>   -2.4534</td> <td>    0.114</td> <td>  -21.495</td> <td> 0.000</td> <td>   -2.677</td> <td>   -2.230</td>\n",
       "</tr>\n",
       "<tr>\n",
       "  <th>Do Not Email</th>                                 <td>   -1.1195</td> <td>    0.190</td> <td>   -5.892</td> <td> 0.000</td> <td>   -1.492</td> <td>   -0.747</td>\n",
       "</tr>\n",
       "<tr>\n",
       "  <th>TotalVisits</th>                                  <td>    1.1981</td> <td>    0.245</td> <td>    4.892</td> <td> 0.000</td> <td>    0.718</td> <td>    1.678</td>\n",
       "</tr>\n",
       "<tr>\n",
       "  <th>Total Time Spent on Website</th>                  <td>    4.4570</td> <td>    0.164</td> <td>   27.185</td> <td> 0.000</td> <td>    4.136</td> <td>    4.778</td>\n",
       "</tr>\n",
       "<tr>\n",
       "  <th>LeadOrigin_Landing Page Submission</th>           <td>   -0.2691</td> <td>    0.089</td> <td>   -3.023</td> <td> 0.003</td> <td>   -0.443</td> <td>   -0.095</td>\n",
       "</tr>\n",
       "<tr>\n",
       "  <th>LeadOrigin_Lead Add Form</th>                     <td>    3.8498</td> <td>    0.212</td> <td>   18.117</td> <td> 0.000</td> <td>    3.433</td> <td>    4.266</td>\n",
       "</tr>\n",
       "<tr>\n",
       "  <th>LeadSource_Olark Chat</th>                        <td>    1.2793</td> <td>    0.132</td> <td>    9.674</td> <td> 0.000</td> <td>    1.020</td> <td>    1.538</td>\n",
       "</tr>\n",
       "<tr>\n",
       "  <th>LeadSource_Welingak Website</th>                  <td>    2.1537</td> <td>    0.744</td> <td>    2.896</td> <td> 0.004</td> <td>    0.696</td> <td>    3.611</td>\n",
       "</tr>\n",
       "<tr>\n",
       "  <th>LastActivity_Converted to Lead</th>               <td>   -1.0086</td> <td>    0.213</td> <td>   -4.738</td> <td> 0.000</td> <td>   -1.426</td> <td>   -0.591</td>\n",
       "</tr>\n",
       "<tr>\n",
       "  <th>LastActivity_Email Bounced</th>                   <td>   -1.6635</td> <td>    0.486</td> <td>   -3.424</td> <td> 0.001</td> <td>   -2.616</td> <td>   -0.711</td>\n",
       "</tr>\n",
       "<tr>\n",
       "  <th>LastActivity_Olark Chat Conversation</th>         <td>   -1.5224</td> <td>    0.165</td> <td>   -9.249</td> <td> 0.000</td> <td>   -1.845</td> <td>   -1.200</td>\n",
       "</tr>\n",
       "<tr>\n",
       "  <th>CurrentOccupation_Working Professional</th>       <td>    2.9408</td> <td>    0.203</td> <td>   14.513</td> <td> 0.000</td> <td>    2.544</td> <td>    3.338</td>\n",
       "</tr>\n",
       "<tr>\n",
       "  <th>LastNotableActivity_Email Bounced</th>            <td>    1.6047</td> <td>    0.669</td> <td>    2.399</td> <td> 0.016</td> <td>    0.293</td> <td>    2.916</td>\n",
       "</tr>\n",
       "<tr>\n",
       "  <th>LastNotableActivity_Had a Phone Conversation</th> <td>    3.1079</td> <td>    1.115</td> <td>    2.787</td> <td> 0.005</td> <td>    0.923</td> <td>    5.293</td>\n",
       "</tr>\n",
       "<tr>\n",
       "  <th>LastNotableActivity_SMS Sent</th>                 <td>    1.5546</td> <td>    0.081</td> <td>   19.194</td> <td> 0.000</td> <td>    1.396</td> <td>    1.713</td>\n",
       "</tr>\n",
       "<tr>\n",
       "  <th>LastNotableActivity_Unreachable</th>              <td>    1.3327</td> <td>    0.529</td> <td>    2.519</td> <td> 0.012</td> <td>    0.296</td> <td>    2.370</td>\n",
       "</tr>\n",
       "</table>"
      ],
      "text/plain": [
       "<class 'statsmodels.iolib.summary.Summary'>\n",
       "\"\"\"\n",
       "                 Generalized Linear Model Regression Results                  \n",
       "==============================================================================\n",
       "Dep. Variable:              Converted   No. Observations:                 6320\n",
       "Model:                            GLM   Df Residuals:                     6304\n",
       "Model Family:                Binomial   Df Model:                           15\n",
       "Link Function:                  logit   Scale:                          1.0000\n",
       "Method:                          IRLS   Log-Likelihood:                -2620.0\n",
       "Date:                Sun, 11 Apr 2021   Deviance:                       5240.0\n",
       "Time:                        00:29:28   Pearson chi2:                 6.87e+03\n",
       "No. Iterations:                     7                                         \n",
       "Covariance Type:            nonrobust                                         \n",
       "================================================================================================================\n",
       "                                                   coef    std err          z      P>|z|      [0.025      0.975]\n",
       "----------------------------------------------------------------------------------------------------------------\n",
       "const                                           -2.4534      0.114    -21.495      0.000      -2.677      -2.230\n",
       "Do Not Email                                    -1.1195      0.190     -5.892      0.000      -1.492      -0.747\n",
       "TotalVisits                                      1.1981      0.245      4.892      0.000       0.718       1.678\n",
       "Total Time Spent on Website                      4.4570      0.164     27.185      0.000       4.136       4.778\n",
       "LeadOrigin_Landing Page Submission              -0.2691      0.089     -3.023      0.003      -0.443      -0.095\n",
       "LeadOrigin_Lead Add Form                         3.8498      0.212     18.117      0.000       3.433       4.266\n",
       "LeadSource_Olark Chat                            1.2793      0.132      9.674      0.000       1.020       1.538\n",
       "LeadSource_Welingak Website                      2.1537      0.744      2.896      0.004       0.696       3.611\n",
       "LastActivity_Converted to Lead                  -1.0086      0.213     -4.738      0.000      -1.426      -0.591\n",
       "LastActivity_Email Bounced                      -1.6635      0.486     -3.424      0.001      -2.616      -0.711\n",
       "LastActivity_Olark Chat Conversation            -1.5224      0.165     -9.249      0.000      -1.845      -1.200\n",
       "CurrentOccupation_Working Professional           2.9408      0.203     14.513      0.000       2.544       3.338\n",
       "LastNotableActivity_Email Bounced                1.6047      0.669      2.399      0.016       0.293       2.916\n",
       "LastNotableActivity_Had a Phone Conversation     3.1079      1.115      2.787      0.005       0.923       5.293\n",
       "LastNotableActivity_SMS Sent                     1.5546      0.081     19.194      0.000       1.396       1.713\n",
       "LastNotableActivity_Unreachable                  1.3327      0.529      2.519      0.012       0.296       2.370\n",
       "================================================================================================================\n",
       "\"\"\""
      ]
     },
     "execution_count": 96,
     "metadata": {},
     "output_type": "execute_result"
    }
   ],
   "source": [
    "X_train_sm = sm.add_constant(X_train[col])\n",
    "logm7 = sm.GLM(y_train,X_train_sm, family = sm.families.Binomial())\n",
    "res = logm7.fit()\n",
    "res.summary()"
   ]
  },
  {
   "cell_type": "markdown",
   "metadata": {},
   "source": [
    "Since the Model 7 seems to be stable with significant pvalues, we shall go ahead with this model for further analysis"
   ]
  },
  {
   "cell_type": "code",
   "execution_count": 97,
   "metadata": {},
   "outputs": [
    {
     "data": {
      "text/plain": [
       "2240    0.818891\n",
       "113     0.515162\n",
       "4132    0.759600\n",
       "5573    0.079874\n",
       "1109    0.033996\n",
       "2282    0.114321\n",
       "2976    0.936465\n",
       "8431    0.417599\n",
       "2770    0.801603\n",
       "5790    0.997245\n",
       "dtype: float64"
      ]
     },
     "execution_count": 97,
     "metadata": {},
     "output_type": "execute_result"
    }
   ],
   "source": [
    "# Getting the predicted values on the train set\n",
    "\n",
    "y_train_pred = res.predict(X_train_sm)\n",
    "y_train_pred[:10]"
   ]
  },
  {
   "cell_type": "code",
   "execution_count": 98,
   "metadata": {},
   "outputs": [
    {
     "data": {
      "text/plain": [
       "array([0.81889117, 0.5151625 , 0.75959951, 0.07987402, 0.03399647,\n",
       "       0.11432078, 0.93646461, 0.41759899, 0.80160348, 0.99724544])"
      ]
     },
     "execution_count": 98,
     "metadata": {},
     "output_type": "execute_result"
    }
   ],
   "source": [
    "# Reshape\n",
    "\n",
    "y_train_pred = y_train_pred.values.reshape(-1)\n",
    "y_train_pred[:10]"
   ]
  },
  {
   "cell_type": "markdown",
   "metadata": {},
   "source": [
    "##### Creating a dataframe with the actual converted flag and the predicted probabilities"
   ]
  },
  {
   "cell_type": "code",
   "execution_count": 99,
   "metadata": {},
   "outputs": [
    {
     "data": {
      "text/html": [
       "<div>\n",
       "<style scoped>\n",
       "    .dataframe tbody tr th:only-of-type {\n",
       "        vertical-align: middle;\n",
       "    }\n",
       "\n",
       "    .dataframe tbody tr th {\n",
       "        vertical-align: top;\n",
       "    }\n",
       "\n",
       "    .dataframe thead th {\n",
       "        text-align: right;\n",
       "    }\n",
       "</style>\n",
       "<table border=\"1\" class=\"dataframe\">\n",
       "  <thead>\n",
       "    <tr style=\"text-align: right;\">\n",
       "      <th></th>\n",
       "      <th>Converted</th>\n",
       "      <th>Converted_Prob</th>\n",
       "      <th>LeadId</th>\n",
       "    </tr>\n",
       "  </thead>\n",
       "  <tbody>\n",
       "    <tr>\n",
       "      <th>0</th>\n",
       "      <td>0</td>\n",
       "      <td>0.818891</td>\n",
       "      <td>2240</td>\n",
       "    </tr>\n",
       "    <tr>\n",
       "      <th>1</th>\n",
       "      <td>0</td>\n",
       "      <td>0.515162</td>\n",
       "      <td>113</td>\n",
       "    </tr>\n",
       "    <tr>\n",
       "      <th>2</th>\n",
       "      <td>1</td>\n",
       "      <td>0.759600</td>\n",
       "      <td>4132</td>\n",
       "    </tr>\n",
       "    <tr>\n",
       "      <th>3</th>\n",
       "      <td>0</td>\n",
       "      <td>0.079874</td>\n",
       "      <td>5573</td>\n",
       "    </tr>\n",
       "    <tr>\n",
       "      <th>4</th>\n",
       "      <td>0</td>\n",
       "      <td>0.033996</td>\n",
       "      <td>1109</td>\n",
       "    </tr>\n",
       "  </tbody>\n",
       "</table>\n",
       "</div>"
      ],
      "text/plain": [
       "   Converted  Converted_Prob  LeadId\n",
       "0          0        0.818891    2240\n",
       "1          0        0.515162     113\n",
       "2          1        0.759600    4132\n",
       "3          0        0.079874    5573\n",
       "4          0        0.033996    1109"
      ]
     },
     "execution_count": 99,
     "metadata": {},
     "output_type": "execute_result"
    }
   ],
   "source": [
    "y_train_pred_final = pd.DataFrame({'Converted':y_train.values, 'Converted_Prob':y_train_pred})\n",
    "y_train_pred_final['LeadId'] = y_train.index\n",
    "y_train_pred_final.head()"
   ]
  },
  {
   "cell_type": "markdown",
   "metadata": {},
   "source": [
    "##### Creating new column 'predicted' with 1 if Converted_Prob > 0.5 else 0"
   ]
  },
  {
   "cell_type": "code",
   "execution_count": 100,
   "metadata": {},
   "outputs": [
    {
     "data": {
      "text/html": [
       "<div>\n",
       "<style scoped>\n",
       "    .dataframe tbody tr th:only-of-type {\n",
       "        vertical-align: middle;\n",
       "    }\n",
       "\n",
       "    .dataframe tbody tr th {\n",
       "        vertical-align: top;\n",
       "    }\n",
       "\n",
       "    .dataframe thead th {\n",
       "        text-align: right;\n",
       "    }\n",
       "</style>\n",
       "<table border=\"1\" class=\"dataframe\">\n",
       "  <thead>\n",
       "    <tr style=\"text-align: right;\">\n",
       "      <th></th>\n",
       "      <th>Converted</th>\n",
       "      <th>Converted_Prob</th>\n",
       "      <th>LeadId</th>\n",
       "      <th>predicted</th>\n",
       "    </tr>\n",
       "  </thead>\n",
       "  <tbody>\n",
       "    <tr>\n",
       "      <th>0</th>\n",
       "      <td>0</td>\n",
       "      <td>0.818891</td>\n",
       "      <td>2240</td>\n",
       "      <td>1</td>\n",
       "    </tr>\n",
       "    <tr>\n",
       "      <th>1</th>\n",
       "      <td>0</td>\n",
       "      <td>0.515162</td>\n",
       "      <td>113</td>\n",
       "      <td>1</td>\n",
       "    </tr>\n",
       "    <tr>\n",
       "      <th>2</th>\n",
       "      <td>1</td>\n",
       "      <td>0.759600</td>\n",
       "      <td>4132</td>\n",
       "      <td>1</td>\n",
       "    </tr>\n",
       "    <tr>\n",
       "      <th>3</th>\n",
       "      <td>0</td>\n",
       "      <td>0.079874</td>\n",
       "      <td>5573</td>\n",
       "      <td>0</td>\n",
       "    </tr>\n",
       "    <tr>\n",
       "      <th>4</th>\n",
       "      <td>0</td>\n",
       "      <td>0.033996</td>\n",
       "      <td>1109</td>\n",
       "      <td>0</td>\n",
       "    </tr>\n",
       "  </tbody>\n",
       "</table>\n",
       "</div>"
      ],
      "text/plain": [
       "   Converted  Converted_Prob  LeadId  predicted\n",
       "0          0        0.818891    2240          1\n",
       "1          0        0.515162     113          1\n",
       "2          1        0.759600    4132          1\n",
       "3          0        0.079874    5573          0\n",
       "4          0        0.033996    1109          0"
      ]
     },
     "execution_count": 100,
     "metadata": {},
     "output_type": "execute_result"
    }
   ],
   "source": [
    "y_train_pred_final['predicted'] = y_train_pred_final.Converted_Prob.map(lambda x: 1 if x > 0.5 else 0)\n",
    "y_train_pred_final.head()"
   ]
  },
  {
   "cell_type": "markdown",
   "metadata": {},
   "source": [
    "##### Lets check the confusion metrics and accuracy"
   ]
  },
  {
   "cell_type": "code",
   "execution_count": 101,
   "metadata": {},
   "outputs": [],
   "source": [
    "from sklearn import metrics"
   ]
  },
  {
   "cell_type": "code",
   "execution_count": 102,
   "metadata": {},
   "outputs": [
    {
     "name": "stdout",
     "output_type": "stream",
     "text": [
      "[[3393  465]\n",
      " [ 728 1734]]\n"
     ]
    }
   ],
   "source": [
    "# Confusion matrix \n",
    "\n",
    "confusion = metrics.confusion_matrix(y_train_pred_final.Converted, y_train_pred_final.predicted )\n",
    "print(confusion)"
   ]
  },
  {
   "cell_type": "code",
   "execution_count": 103,
   "metadata": {},
   "outputs": [],
   "source": [
    "# Predicted     not_converted    converted\n",
    "# Actual\n",
    "# not_converted        3397      461\n",
    "# converted            725       1737"
   ]
  },
  {
   "cell_type": "code",
   "execution_count": 104,
   "metadata": {},
   "outputs": [
    {
     "name": "stdout",
     "output_type": "stream",
     "text": [
      "0.8112341772151899\n"
     ]
    }
   ],
   "source": [
    "# Let's check the overall accuracy.\n",
    "\n",
    "print(metrics.accuracy_score(y_train_pred_final.Converted, y_train_pred_final.predicted))"
   ]
  },
  {
   "cell_type": "markdown",
   "metadata": {},
   "source": [
    "Accuracy rate is around 81% which is good. However we will also need to calculate the other metrics as we cannot depend only \n",
    "on the accuracy metrics"
   ]
  },
  {
   "cell_type": "markdown",
   "metadata": {},
   "source": [
    "##### Checking VIFs"
   ]
  },
  {
   "cell_type": "code",
   "execution_count": 105,
   "metadata": {},
   "outputs": [
    {
     "data": {
      "text/html": [
       "<div>\n",
       "<style scoped>\n",
       "    .dataframe tbody tr th:only-of-type {\n",
       "        vertical-align: middle;\n",
       "    }\n",
       "\n",
       "    .dataframe tbody tr th {\n",
       "        vertical-align: top;\n",
       "    }\n",
       "\n",
       "    .dataframe thead th {\n",
       "        text-align: right;\n",
       "    }\n",
       "</style>\n",
       "<table border=\"1\" class=\"dataframe\">\n",
       "  <thead>\n",
       "    <tr style=\"text-align: right;\">\n",
       "      <th></th>\n",
       "      <th>Features</th>\n",
       "      <th>VIF</th>\n",
       "    </tr>\n",
       "  </thead>\n",
       "  <tbody>\n",
       "    <tr>\n",
       "      <th>1</th>\n",
       "      <td>TotalVisits</td>\n",
       "      <td>2.63</td>\n",
       "    </tr>\n",
       "    <tr>\n",
       "      <th>3</th>\n",
       "      <td>LeadOrigin_Landing Page Submission</td>\n",
       "      <td>2.58</td>\n",
       "    </tr>\n",
       "    <tr>\n",
       "      <th>2</th>\n",
       "      <td>Total Time Spent on Website</td>\n",
       "      <td>2.06</td>\n",
       "    </tr>\n",
       "    <tr>\n",
       "      <th>8</th>\n",
       "      <td>LastActivity_Email Bounced</td>\n",
       "      <td>1.98</td>\n",
       "    </tr>\n",
       "    <tr>\n",
       "      <th>0</th>\n",
       "      <td>Do Not Email</td>\n",
       "      <td>1.82</td>\n",
       "    </tr>\n",
       "    <tr>\n",
       "      <th>4</th>\n",
       "      <td>LeadOrigin_Lead Add Form</td>\n",
       "      <td>1.43</td>\n",
       "    </tr>\n",
       "    <tr>\n",
       "      <th>5</th>\n",
       "      <td>LeadSource_Olark Chat</td>\n",
       "      <td>1.43</td>\n",
       "    </tr>\n",
       "    <tr>\n",
       "      <th>9</th>\n",
       "      <td>LastActivity_Olark Chat Conversation</td>\n",
       "      <td>1.41</td>\n",
       "    </tr>\n",
       "    <tr>\n",
       "      <th>13</th>\n",
       "      <td>LastNotableActivity_SMS Sent</td>\n",
       "      <td>1.41</td>\n",
       "    </tr>\n",
       "    <tr>\n",
       "      <th>6</th>\n",
       "      <td>LeadSource_Welingak Website</td>\n",
       "      <td>1.30</td>\n",
       "    </tr>\n",
       "    <tr>\n",
       "      <th>11</th>\n",
       "      <td>LastNotableActivity_Email Bounced</td>\n",
       "      <td>1.23</td>\n",
       "    </tr>\n",
       "    <tr>\n",
       "      <th>10</th>\n",
       "      <td>CurrentOccupation_Working Professional</td>\n",
       "      <td>1.17</td>\n",
       "    </tr>\n",
       "    <tr>\n",
       "      <th>7</th>\n",
       "      <td>LastActivity_Converted to Lead</td>\n",
       "      <td>1.05</td>\n",
       "    </tr>\n",
       "    <tr>\n",
       "      <th>14</th>\n",
       "      <td>LastNotableActivity_Unreachable</td>\n",
       "      <td>1.01</td>\n",
       "    </tr>\n",
       "    <tr>\n",
       "      <th>12</th>\n",
       "      <td>LastNotableActivity_Had a Phone Conversation</td>\n",
       "      <td>1.00</td>\n",
       "    </tr>\n",
       "  </tbody>\n",
       "</table>\n",
       "</div>"
      ],
      "text/plain": [
       "                                        Features   VIF\n",
       "1                                    TotalVisits  2.63\n",
       "3             LeadOrigin_Landing Page Submission  2.58\n",
       "2                    Total Time Spent on Website  2.06\n",
       "8                     LastActivity_Email Bounced  1.98\n",
       "0                                   Do Not Email  1.82\n",
       "4                       LeadOrigin_Lead Add Form  1.43\n",
       "5                          LeadSource_Olark Chat  1.43\n",
       "9           LastActivity_Olark Chat Conversation  1.41\n",
       "13                  LastNotableActivity_SMS Sent  1.41\n",
       "6                    LeadSource_Welingak Website  1.30\n",
       "11             LastNotableActivity_Email Bounced  1.23\n",
       "10        CurrentOccupation_Working Professional  1.17\n",
       "7                 LastActivity_Converted to Lead  1.05\n",
       "14               LastNotableActivity_Unreachable  1.01\n",
       "12  LastNotableActivity_Had a Phone Conversation  1.00"
      ]
     },
     "execution_count": 105,
     "metadata": {},
     "output_type": "execute_result"
    }
   ],
   "source": [
    "from statsmodels.stats.outliers_influence import variance_inflation_factor\n",
    "\n",
    "# Create a dataframe that will contain the names of all the feature variables and their respective VIFs\n",
    "\n",
    "vif = pd.DataFrame()\n",
    "vif['Features'] = X_train[col].columns\n",
    "vif['VIF'] = [variance_inflation_factor(X_train[col].values, i) for i in range(X_train[col].shape[1])]\n",
    "vif['VIF'] = round(vif['VIF'], 2)\n",
    "vif = vif.sort_values(by = \"VIF\", ascending = False)\n",
    "vif"
   ]
  },
  {
   "cell_type": "markdown",
   "metadata": {},
   "source": [
    "All variables have a good value of VIF. So we need not drop any more variables and we can proceed with making predictions using this model only"
   ]
  },
  {
   "cell_type": "markdown",
   "metadata": {},
   "source": [
    "##### Metrics - Sensitivity, Specificity, False Positive Rate, Postitive Predictive Value and Negative Predictive Value"
   ]
  },
  {
   "cell_type": "code",
   "execution_count": 106,
   "metadata": {},
   "outputs": [],
   "source": [
    "TP = confusion[1,1] # true positive \n",
    "TN = confusion[0,0] # true negatives\n",
    "FP = confusion[0,1] # false positives\n",
    "FN = confusion[1,0] # false negatives"
   ]
  },
  {
   "cell_type": "code",
   "execution_count": 107,
   "metadata": {},
   "outputs": [
    {
     "data": {
      "text/plain": [
       "0.7043054427294883"
      ]
     },
     "execution_count": 107,
     "metadata": {},
     "output_type": "execute_result"
    }
   ],
   "source": [
    "# Let's see the sensitivity of our logistic regression model\n",
    "\n",
    "TP / float(TP+FN)"
   ]
  },
  {
   "cell_type": "code",
   "execution_count": 108,
   "metadata": {},
   "outputs": [
    {
     "data": {
      "text/plain": [
       "0.8794712286158631"
      ]
     },
     "execution_count": 108,
     "metadata": {},
     "output_type": "execute_result"
    }
   ],
   "source": [
    "# Let us calculate specificity\n",
    "\n",
    "TN / float(TN+FP)"
   ]
  },
  {
   "cell_type": "code",
   "execution_count": 109,
   "metadata": {},
   "outputs": [
    {
     "name": "stdout",
     "output_type": "stream",
     "text": [
      "0.12052877138413685\n"
     ]
    }
   ],
   "source": [
    "# Calculate false postive rate - predicting non conversion when leads have converted\n",
    "\n",
    "print(FP/ float(TN+FP))"
   ]
  },
  {
   "cell_type": "code",
   "execution_count": 110,
   "metadata": {},
   "outputs": [
    {
     "name": "stdout",
     "output_type": "stream",
     "text": [
      "0.7885402455661664\n"
     ]
    }
   ],
   "source": [
    "# positive predictive value \n",
    "\n",
    "print (TP / float(TP+FP))"
   ]
  },
  {
   "cell_type": "code",
   "execution_count": 111,
   "metadata": {},
   "outputs": [
    {
     "name": "stdout",
     "output_type": "stream",
     "text": [
      "0.8233438485804416\n"
     ]
    }
   ],
   "source": [
    "# Negative predictive value\n",
    "\n",
    "print (TN / float(TN+ FN))"
   ]
  },
  {
   "cell_type": "markdown",
   "metadata": {},
   "source": [
    "### Step 9: Plotting the ROC Curve"
   ]
  },
  {
   "cell_type": "markdown",
   "metadata": {},
   "source": [
    "An ROC curve demonstrates several things:\n",
    "\n",
    "- It shows the tradeoff between sensitivity and specificity (any increase in sensitivity will be accompanied by a decrease in specificity).\n",
    "- The closer the curve follows the left-hand border and then the top border of the ROC space, the more accurate the test.\n",
    "- The closer the curve comes to the 45-degree diagonal of the ROC space, the less accurate the test."
   ]
  },
  {
   "cell_type": "code",
   "execution_count": 112,
   "metadata": {},
   "outputs": [],
   "source": [
    "def draw_roc( actual, probs ):\n",
    "    fpr, tpr, thresholds = metrics.roc_curve( actual, probs,\n",
    "                                              drop_intermediate = False )\n",
    "    auc_score = metrics.roc_auc_score( actual, probs )\n",
    "    plt.figure(figsize=(5, 5))\n",
    "    plt.plot( fpr, tpr, label='ROC curve (area = %0.2f)' % auc_score )\n",
    "    plt.plot([0, 1], [0, 1], 'k--')\n",
    "    plt.xlim([0.0, 1.0])\n",
    "    plt.ylim([0.0, 1.05])\n",
    "    plt.xlabel('False Positive Rate or [1 - True Negative Rate]')\n",
    "    plt.ylabel('True Positive Rate')\n",
    "    plt.title('Receiver operating characteristic example')\n",
    "    plt.legend(loc=\"lower right\")\n",
    "    plt.show()\n",
    "\n",
    "    return None"
   ]
  },
  {
   "cell_type": "code",
   "execution_count": 113,
   "metadata": {},
   "outputs": [],
   "source": [
    "fpr, tpr, thresholds = metrics.roc_curve( y_train_pred_final.Converted, y_train_pred_final.Converted_Prob, \n",
    "                                         drop_intermediate = False )"
   ]
  },
  {
   "cell_type": "code",
   "execution_count": 114,
   "metadata": {},
   "outputs": [
    {
     "data": {
      "image/png": "[encoded data removed]",
      "text/plain": [
       "<Figure size 360x360 with 1 Axes>"
      ]
     },
     "metadata": {
      "needs_background": "light"
     },
     "output_type": "display_data"
    }
   ],
   "source": [
    "draw_roc(y_train_pred_final.Converted, y_train_pred_final.Converted_Prob)"
   ]
  },
  {
   "cell_type": "markdown",
   "metadata": {},
   "source": [
    "### Step 10: Finding Optimal Cutoff Point"
   ]
  },
  {
   "cell_type": "markdown",
   "metadata": {},
   "source": [
    "Optimal cut off probability is that prob where we get balanced sensitivity and specificity"
   ]
  },
  {
   "cell_type": "code",
   "execution_count": 115,
   "metadata": {},
   "outputs": [
    {
     "data": {
      "text/html": [
       "<div>\n",
       "<style scoped>\n",
       "    .dataframe tbody tr th:only-of-type {\n",
       "        vertical-align: middle;\n",
       "    }\n",
       "\n",
       "    .dataframe tbody tr th {\n",
       "        vertical-align: top;\n",
       "    }\n",
       "\n",
       "    .dataframe thead th {\n",
       "        text-align: right;\n",
       "    }\n",
       "</style>\n",
       "<table border=\"1\" class=\"dataframe\">\n",
       "  <thead>\n",
       "    <tr style=\"text-align: right;\">\n",
       "      <th></th>\n",
       "      <th>Converted</th>\n",
       "      <th>Converted_Prob</th>\n",
       "      <th>LeadId</th>\n",
       "      <th>predicted</th>\n",
       "      <th>0.0</th>\n",
       "      <th>0.1</th>\n",
       "      <th>0.2</th>\n",
       "      <th>0.3</th>\n",
       "      <th>0.4</th>\n",
       "      <th>0.5</th>\n",
       "      <th>0.6</th>\n",
       "      <th>0.7</th>\n",
       "      <th>0.8</th>\n",
       "      <th>0.9</th>\n",
       "    </tr>\n",
       "  </thead>\n",
       "  <tbody>\n",
       "    <tr>\n",
       "      <th>0</th>\n",
       "      <td>0</td>\n",
       "      <td>0.818891</td>\n",
       "      <td>2240</td>\n",
       "      <td>1</td>\n",
       "      <td>1</td>\n",
       "      <td>1</td>\n",
       "      <td>1</td>\n",
       "      <td>1</td>\n",
       "      <td>1</td>\n",
       "      <td>1</td>\n",
       "      <td>1</td>\n",
       "      <td>1</td>\n",
       "      <td>1</td>\n",
       "      <td>0</td>\n",
       "    </tr>\n",
       "    <tr>\n",
       "      <th>1</th>\n",
       "      <td>0</td>\n",
       "      <td>0.515162</td>\n",
       "      <td>113</td>\n",
       "      <td>1</td>\n",
       "      <td>1</td>\n",
       "      <td>1</td>\n",
       "      <td>1</td>\n",
       "      <td>1</td>\n",
       "      <td>1</td>\n",
       "      <td>1</td>\n",
       "      <td>0</td>\n",
       "      <td>0</td>\n",
       "      <td>0</td>\n",
       "      <td>0</td>\n",
       "    </tr>\n",
       "    <tr>\n",
       "      <th>2</th>\n",
       "      <td>1</td>\n",
       "      <td>0.759600</td>\n",
       "      <td>4132</td>\n",
       "      <td>1</td>\n",
       "      <td>1</td>\n",
       "      <td>1</td>\n",
       "      <td>1</td>\n",
       "      <td>1</td>\n",
       "      <td>1</td>\n",
       "      <td>1</td>\n",
       "      <td>1</td>\n",
       "      <td>1</td>\n",
       "      <td>0</td>\n",
       "      <td>0</td>\n",
       "    </tr>\n",
       "    <tr>\n",
       "      <th>3</th>\n",
       "      <td>0</td>\n",
       "      <td>0.079874</td>\n",
       "      <td>5573</td>\n",
       "      <td>0</td>\n",
       "      <td>1</td>\n",
       "      <td>0</td>\n",
       "      <td>0</td>\n",
       "      <td>0</td>\n",
       "      <td>0</td>\n",
       "      <td>0</td>\n",
       "      <td>0</td>\n",
       "      <td>0</td>\n",
       "      <td>0</td>\n",
       "      <td>0</td>\n",
       "    </tr>\n",
       "    <tr>\n",
       "      <th>4</th>\n",
       "      <td>0</td>\n",
       "      <td>0.033996</td>\n",
       "      <td>1109</td>\n",
       "      <td>0</td>\n",
       "      <td>1</td>\n",
       "      <td>0</td>\n",
       "      <td>0</td>\n",
       "      <td>0</td>\n",
       "      <td>0</td>\n",
       "      <td>0</td>\n",
       "      <td>0</td>\n",
       "      <td>0</td>\n",
       "      <td>0</td>\n",
       "      <td>0</td>\n",
       "    </tr>\n",
       "  </tbody>\n",
       "</table>\n",
       "</div>"
      ],
      "text/plain": [
       "   Converted  Converted_Prob  LeadId  predicted  0.0  0.1  0.2  0.3  0.4  0.5  \\\n",
       "0          0        0.818891    2240          1    1    1    1    1    1    1   \n",
       "1          0        0.515162     113          1    1    1    1    1    1    1   \n",
       "2          1        0.759600    4132          1    1    1    1    1    1    1   \n",
       "3          0        0.079874    5573          0    1    0    0    0    0    0   \n",
       "4          0        0.033996    1109          0    1    0    0    0    0    0   \n",
       "\n",
       "   0.6  0.7  0.8  0.9  \n",
       "0    1    1    1    0  \n",
       "1    0    0    0    0  \n",
       "2    1    1    0    0  \n",
       "3    0    0    0    0  \n",
       "4    0    0    0    0  "
      ]
     },
     "execution_count": 115,
     "metadata": {},
     "output_type": "execute_result"
    }
   ],
   "source": [
    "# Let's create columns with different probability cutoffs \n",
    "numbers = [float(x)/10 for x in range(10)]\n",
    "for i in numbers:\n",
    "    y_train_pred_final[i]= y_train_pred_final.Converted_Prob.map(lambda x: 1 if x > i else 0)\n",
    "y_train_pred_final.head()"
   ]
  },
  {
   "cell_type": "code",
   "execution_count": 116,
   "metadata": {},
   "outputs": [
    {
     "name": "stdout",
     "output_type": "stream",
     "text": [
      "     prob  accuracy     sensi     speci\n",
      "0.0   0.0  0.389557  1.000000  0.000000\n",
      "0.1   0.1  0.597943  0.967506  0.362105\n",
      "0.2   0.2  0.737975  0.916328  0.624158\n",
      "0.3   0.3  0.800316  0.840374  0.774754\n",
      "0.4   0.4  0.810918  0.777417  0.832297\n",
      "0.5   0.5  0.811234  0.704305  0.879471\n",
      "0.6   0.6  0.796835  0.592201  0.927424\n",
      "0.7   0.7  0.783070  0.522340  0.949456\n",
      "0.8   0.8  0.766456  0.446791  0.970451\n",
      "0.9   0.9  0.714873  0.285134  0.989114\n"
     ]
    }
   ],
   "source": [
    "# Now let's calculate accuracy sensitivity and specificity for various probability cutoffs.\n",
    "\n",
    "cutoff_df = pd.DataFrame( columns = ['prob','accuracy','sensi','speci'])\n",
    "from sklearn.metrics import confusion_matrix\n",
    "\n",
    "# TP = confusion[1,1] # true positive \n",
    "# TN = confusion[0,0] # true negatives\n",
    "# FP = confusion[0,1] # false positives\n",
    "# FN = confusion[1,0] # false negatives\n",
    "\n",
    "num = [0.0,0.1,0.2,0.3,0.4,0.5,0.6,0.7,0.8,0.9]\n",
    "for i in num:\n",
    "    cm1 = metrics.confusion_matrix(y_train_pred_final.Converted, y_train_pred_final[i] )\n",
    "    total1=sum(sum(cm1))\n",
    "    accuracy = (cm1[0,0]+cm1[1,1])/total1\n",
    "    \n",
    "    speci = cm1[0,0]/(cm1[0,0]+cm1[0,1])\n",
    "    sensi = cm1[1,1]/(cm1[1,0]+cm1[1,1])\n",
    "    cutoff_df.loc[i] =[ i ,accuracy,sensi,speci]\n",
    "print(cutoff_df)"
   ]
  },
  {
   "cell_type": "code",
   "execution_count": 117,
   "metadata": {},
   "outputs": [
    {
     "data": {
      "image/png": "[encoded data removed]",
      "text/plain": [
       "<Figure size 432x288 with 1 Axes>"
      ]
     },
     "metadata": {
      "needs_background": "light"
     },
     "output_type": "display_data"
    }
   ],
   "source": [
    "# Let's plot accuracy sensitivity and specificity for various probabilities.\n",
    "\n",
    "cutoff_df.plot.line(x='prob', y=['accuracy','sensi','speci'])\n",
    "plt.show()"
   ]
  },
  {
   "cell_type": "markdown",
   "metadata": {},
   "source": [
    "##### From the curve above, 0.37 is the optimum point to take it as a cutoff probability."
   ]
  },
  {
   "cell_type": "code",
   "execution_count": 118,
   "metadata": {},
   "outputs": [
    {
     "data": {
      "text/html": [
       "<div>\n",
       "<style scoped>\n",
       "    .dataframe tbody tr th:only-of-type {\n",
       "        vertical-align: middle;\n",
       "    }\n",
       "\n",
       "    .dataframe tbody tr th {\n",
       "        vertical-align: top;\n",
       "    }\n",
       "\n",
       "    .dataframe thead th {\n",
       "        text-align: right;\n",
       "    }\n",
       "</style>\n",
       "<table border=\"1\" class=\"dataframe\">\n",
       "  <thead>\n",
       "    <tr style=\"text-align: right;\">\n",
       "      <th></th>\n",
       "      <th>Converted</th>\n",
       "      <th>Converted_Prob</th>\n",
       "      <th>LeadId</th>\n",
       "      <th>predicted</th>\n",
       "      <th>0.0</th>\n",
       "      <th>0.1</th>\n",
       "      <th>0.2</th>\n",
       "      <th>0.3</th>\n",
       "      <th>0.4</th>\n",
       "      <th>0.5</th>\n",
       "      <th>0.6</th>\n",
       "      <th>0.7</th>\n",
       "      <th>0.8</th>\n",
       "      <th>0.9</th>\n",
       "      <th>final_predicted</th>\n",
       "    </tr>\n",
       "  </thead>\n",
       "  <tbody>\n",
       "    <tr>\n",
       "      <th>0</th>\n",
       "      <td>0</td>\n",
       "      <td>0.818891</td>\n",
       "      <td>2240</td>\n",
       "      <td>1</td>\n",
       "      <td>1</td>\n",
       "      <td>1</td>\n",
       "      <td>1</td>\n",
       "      <td>1</td>\n",
       "      <td>1</td>\n",
       "      <td>1</td>\n",
       "      <td>1</td>\n",
       "      <td>1</td>\n",
       "      <td>1</td>\n",
       "      <td>0</td>\n",
       "      <td>1</td>\n",
       "    </tr>\n",
       "    <tr>\n",
       "      <th>1</th>\n",
       "      <td>0</td>\n",
       "      <td>0.515162</td>\n",
       "      <td>113</td>\n",
       "      <td>1</td>\n",
       "      <td>1</td>\n",
       "      <td>1</td>\n",
       "      <td>1</td>\n",
       "      <td>1</td>\n",
       "      <td>1</td>\n",
       "      <td>1</td>\n",
       "      <td>0</td>\n",
       "      <td>0</td>\n",
       "      <td>0</td>\n",
       "      <td>0</td>\n",
       "      <td>1</td>\n",
       "    </tr>\n",
       "    <tr>\n",
       "      <th>2</th>\n",
       "      <td>1</td>\n",
       "      <td>0.759600</td>\n",
       "      <td>4132</td>\n",
       "      <td>1</td>\n",
       "      <td>1</td>\n",
       "      <td>1</td>\n",
       "      <td>1</td>\n",
       "      <td>1</td>\n",
       "      <td>1</td>\n",
       "      <td>1</td>\n",
       "      <td>1</td>\n",
       "      <td>1</td>\n",
       "      <td>0</td>\n",
       "      <td>0</td>\n",
       "      <td>1</td>\n",
       "    </tr>\n",
       "    <tr>\n",
       "      <th>3</th>\n",
       "      <td>0</td>\n",
       "      <td>0.079874</td>\n",
       "      <td>5573</td>\n",
       "      <td>0</td>\n",
       "      <td>1</td>\n",
       "      <td>0</td>\n",
       "      <td>0</td>\n",
       "      <td>0</td>\n",
       "      <td>0</td>\n",
       "      <td>0</td>\n",
       "      <td>0</td>\n",
       "      <td>0</td>\n",
       "      <td>0</td>\n",
       "      <td>0</td>\n",
       "      <td>0</td>\n",
       "    </tr>\n",
       "    <tr>\n",
       "      <th>4</th>\n",
       "      <td>0</td>\n",
       "      <td>0.033996</td>\n",
       "      <td>1109</td>\n",
       "      <td>0</td>\n",
       "      <td>1</td>\n",
       "      <td>0</td>\n",
       "      <td>0</td>\n",
       "      <td>0</td>\n",
       "      <td>0</td>\n",
       "      <td>0</td>\n",
       "      <td>0</td>\n",
       "      <td>0</td>\n",
       "      <td>0</td>\n",
       "      <td>0</td>\n",
       "      <td>0</td>\n",
       "    </tr>\n",
       "  </tbody>\n",
       "</table>\n",
       "</div>"
      ],
      "text/plain": [
       "   Converted  Converted_Prob  LeadId  predicted  0.0  0.1  0.2  0.3  0.4  0.5  \\\n",
       "0          0        0.818891    2240          1    1    1    1    1    1    1   \n",
       "1          0        0.515162     113          1    1    1    1    1    1    1   \n",
       "2          1        0.759600    4132          1    1    1    1    1    1    1   \n",
       "3          0        0.079874    5573          0    1    0    0    0    0    0   \n",
       "4          0        0.033996    1109          0    1    0    0    0    0    0   \n",
       "\n",
       "   0.6  0.7  0.8  0.9  final_predicted  \n",
       "0    1    1    1    0                1  \n",
       "1    0    0    0    0                1  \n",
       "2    1    1    0    0                1  \n",
       "3    0    0    0    0                0  \n",
       "4    0    0    0    0                0  "
      ]
     },
     "execution_count": 118,
     "metadata": {},
     "output_type": "execute_result"
    }
   ],
   "source": [
    "# Let us make the final prediction using 0.37 as the cut off\n",
    "\n",
    "y_train_pred_final['final_predicted'] = y_train_pred_final.Converted_Prob.map( lambda x: 1 if x > 0.37 else 0)\n",
    "y_train_pred_final.head()"
   ]
  },
  {
   "cell_type": "code",
   "execution_count": 119,
   "metadata": {},
   "outputs": [
    {
     "data": {
      "text/html": [
       "<div>\n",
       "<style scoped>\n",
       "    .dataframe tbody tr th:only-of-type {\n",
       "        vertical-align: middle;\n",
       "    }\n",
       "\n",
       "    .dataframe tbody tr th {\n",
       "        vertical-align: top;\n",
       "    }\n",
       "\n",
       "    .dataframe thead th {\n",
       "        text-align: right;\n",
       "    }\n",
       "</style>\n",
       "<table border=\"1\" class=\"dataframe\">\n",
       "  <thead>\n",
       "    <tr style=\"text-align: right;\">\n",
       "      <th></th>\n",
       "      <th>Converted</th>\n",
       "      <th>Converted_Prob</th>\n",
       "      <th>LeadId</th>\n",
       "      <th>predicted</th>\n",
       "      <th>0.0</th>\n",
       "      <th>0.1</th>\n",
       "      <th>0.2</th>\n",
       "      <th>0.3</th>\n",
       "      <th>0.4</th>\n",
       "      <th>0.5</th>\n",
       "      <th>0.6</th>\n",
       "      <th>0.7</th>\n",
       "      <th>0.8</th>\n",
       "      <th>0.9</th>\n",
       "      <th>final_predicted</th>\n",
       "      <th>lead_score</th>\n",
       "    </tr>\n",
       "  </thead>\n",
       "  <tbody>\n",
       "    <tr>\n",
       "      <th>0</th>\n",
       "      <td>0</td>\n",
       "      <td>0.818891</td>\n",
       "      <td>2240</td>\n",
       "      <td>1</td>\n",
       "      <td>1</td>\n",
       "      <td>1</td>\n",
       "      <td>1</td>\n",
       "      <td>1</td>\n",
       "      <td>1</td>\n",
       "      <td>1</td>\n",
       "      <td>1</td>\n",
       "      <td>1</td>\n",
       "      <td>1</td>\n",
       "      <td>0</td>\n",
       "      <td>1</td>\n",
       "      <td>82</td>\n",
       "    </tr>\n",
       "    <tr>\n",
       "      <th>1</th>\n",
       "      <td>0</td>\n",
       "      <td>0.515162</td>\n",
       "      <td>113</td>\n",
       "      <td>1</td>\n",
       "      <td>1</td>\n",
       "      <td>1</td>\n",
       "      <td>1</td>\n",
       "      <td>1</td>\n",
       "      <td>1</td>\n",
       "      <td>1</td>\n",
       "      <td>0</td>\n",
       "      <td>0</td>\n",
       "      <td>0</td>\n",
       "      <td>0</td>\n",
       "      <td>1</td>\n",
       "      <td>52</td>\n",
       "    </tr>\n",
       "    <tr>\n",
       "      <th>2</th>\n",
       "      <td>1</td>\n",
       "      <td>0.759600</td>\n",
       "      <td>4132</td>\n",
       "      <td>1</td>\n",
       "      <td>1</td>\n",
       "      <td>1</td>\n",
       "      <td>1</td>\n",
       "      <td>1</td>\n",
       "      <td>1</td>\n",
       "      <td>1</td>\n",
       "      <td>1</td>\n",
       "      <td>1</td>\n",
       "      <td>0</td>\n",
       "      <td>0</td>\n",
       "      <td>1</td>\n",
       "      <td>76</td>\n",
       "    </tr>\n",
       "    <tr>\n",
       "      <th>3</th>\n",
       "      <td>0</td>\n",
       "      <td>0.079874</td>\n",
       "      <td>5573</td>\n",
       "      <td>0</td>\n",
       "      <td>1</td>\n",
       "      <td>0</td>\n",
       "      <td>0</td>\n",
       "      <td>0</td>\n",
       "      <td>0</td>\n",
       "      <td>0</td>\n",
       "      <td>0</td>\n",
       "      <td>0</td>\n",
       "      <td>0</td>\n",
       "      <td>0</td>\n",
       "      <td>0</td>\n",
       "      <td>8</td>\n",
       "    </tr>\n",
       "    <tr>\n",
       "      <th>4</th>\n",
       "      <td>0</td>\n",
       "      <td>0.033996</td>\n",
       "      <td>1109</td>\n",
       "      <td>0</td>\n",
       "      <td>1</td>\n",
       "      <td>0</td>\n",
       "      <td>0</td>\n",
       "      <td>0</td>\n",
       "      <td>0</td>\n",
       "      <td>0</td>\n",
       "      <td>0</td>\n",
       "      <td>0</td>\n",
       "      <td>0</td>\n",
       "      <td>0</td>\n",
       "      <td>0</td>\n",
       "      <td>3</td>\n",
       "    </tr>\n",
       "    <tr>\n",
       "      <th>5</th>\n",
       "      <td>0</td>\n",
       "      <td>0.114321</td>\n",
       "      <td>2282</td>\n",
       "      <td>0</td>\n",
       "      <td>1</td>\n",
       "      <td>1</td>\n",
       "      <td>0</td>\n",
       "      <td>0</td>\n",
       "      <td>0</td>\n",
       "      <td>0</td>\n",
       "      <td>0</td>\n",
       "      <td>0</td>\n",
       "      <td>0</td>\n",
       "      <td>0</td>\n",
       "      <td>0</td>\n",
       "      <td>11</td>\n",
       "    </tr>\n",
       "    <tr>\n",
       "      <th>6</th>\n",
       "      <td>1</td>\n",
       "      <td>0.936465</td>\n",
       "      <td>2976</td>\n",
       "      <td>1</td>\n",
       "      <td>1</td>\n",
       "      <td>1</td>\n",
       "      <td>1</td>\n",
       "      <td>1</td>\n",
       "      <td>1</td>\n",
       "      <td>1</td>\n",
       "      <td>1</td>\n",
       "      <td>1</td>\n",
       "      <td>1</td>\n",
       "      <td>1</td>\n",
       "      <td>1</td>\n",
       "      <td>94</td>\n",
       "    </tr>\n",
       "    <tr>\n",
       "      <th>7</th>\n",
       "      <td>0</td>\n",
       "      <td>0.417599</td>\n",
       "      <td>8431</td>\n",
       "      <td>0</td>\n",
       "      <td>1</td>\n",
       "      <td>1</td>\n",
       "      <td>1</td>\n",
       "      <td>1</td>\n",
       "      <td>1</td>\n",
       "      <td>0</td>\n",
       "      <td>0</td>\n",
       "      <td>0</td>\n",
       "      <td>0</td>\n",
       "      <td>0</td>\n",
       "      <td>1</td>\n",
       "      <td>42</td>\n",
       "    </tr>\n",
       "    <tr>\n",
       "      <th>8</th>\n",
       "      <td>1</td>\n",
       "      <td>0.801603</td>\n",
       "      <td>2770</td>\n",
       "      <td>1</td>\n",
       "      <td>1</td>\n",
       "      <td>1</td>\n",
       "      <td>1</td>\n",
       "      <td>1</td>\n",
       "      <td>1</td>\n",
       "      <td>1</td>\n",
       "      <td>1</td>\n",
       "      <td>1</td>\n",
       "      <td>1</td>\n",
       "      <td>0</td>\n",
       "      <td>1</td>\n",
       "      <td>80</td>\n",
       "    </tr>\n",
       "    <tr>\n",
       "      <th>9</th>\n",
       "      <td>1</td>\n",
       "      <td>0.997245</td>\n",
       "      <td>5790</td>\n",
       "      <td>1</td>\n",
       "      <td>1</td>\n",
       "      <td>1</td>\n",
       "      <td>1</td>\n",
       "      <td>1</td>\n",
       "      <td>1</td>\n",
       "      <td>1</td>\n",
       "      <td>1</td>\n",
       "      <td>1</td>\n",
       "      <td>1</td>\n",
       "      <td>1</td>\n",
       "      <td>1</td>\n",
       "      <td>100</td>\n",
       "    </tr>\n",
       "    <tr>\n",
       "      <th>10</th>\n",
       "      <td>1</td>\n",
       "      <td>0.964162</td>\n",
       "      <td>2943</td>\n",
       "      <td>1</td>\n",
       "      <td>1</td>\n",
       "      <td>1</td>\n",
       "      <td>1</td>\n",
       "      <td>1</td>\n",
       "      <td>1</td>\n",
       "      <td>1</td>\n",
       "      <td>1</td>\n",
       "      <td>1</td>\n",
       "      <td>1</td>\n",
       "      <td>1</td>\n",
       "      <td>1</td>\n",
       "      <td>96</td>\n",
       "    </tr>\n",
       "    <tr>\n",
       "      <th>11</th>\n",
       "      <td>0</td>\n",
       "      <td>0.171850</td>\n",
       "      <td>1196</td>\n",
       "      <td>0</td>\n",
       "      <td>1</td>\n",
       "      <td>1</td>\n",
       "      <td>0</td>\n",
       "      <td>0</td>\n",
       "      <td>0</td>\n",
       "      <td>0</td>\n",
       "      <td>0</td>\n",
       "      <td>0</td>\n",
       "      <td>0</td>\n",
       "      <td>0</td>\n",
       "      <td>0</td>\n",
       "      <td>17</td>\n",
       "    </tr>\n",
       "    <tr>\n",
       "      <th>12</th>\n",
       "      <td>1</td>\n",
       "      <td>0.236107</td>\n",
       "      <td>8874</td>\n",
       "      <td>0</td>\n",
       "      <td>1</td>\n",
       "      <td>1</td>\n",
       "      <td>1</td>\n",
       "      <td>0</td>\n",
       "      <td>0</td>\n",
       "      <td>0</td>\n",
       "      <td>0</td>\n",
       "      <td>0</td>\n",
       "      <td>0</td>\n",
       "      <td>0</td>\n",
       "      <td>0</td>\n",
       "      <td>24</td>\n",
       "    </tr>\n",
       "    <tr>\n",
       "      <th>13</th>\n",
       "      <td>0</td>\n",
       "      <td>0.241881</td>\n",
       "      <td>1491</td>\n",
       "      <td>0</td>\n",
       "      <td>1</td>\n",
       "      <td>1</td>\n",
       "      <td>1</td>\n",
       "      <td>0</td>\n",
       "      <td>0</td>\n",
       "      <td>0</td>\n",
       "      <td>0</td>\n",
       "      <td>0</td>\n",
       "      <td>0</td>\n",
       "      <td>0</td>\n",
       "      <td>0</td>\n",
       "      <td>24</td>\n",
       "    </tr>\n",
       "    <tr>\n",
       "      <th>14</th>\n",
       "      <td>0</td>\n",
       "      <td>0.063178</td>\n",
       "      <td>7676</td>\n",
       "      <td>0</td>\n",
       "      <td>1</td>\n",
       "      <td>0</td>\n",
       "      <td>0</td>\n",
       "      <td>0</td>\n",
       "      <td>0</td>\n",
       "      <td>0</td>\n",
       "      <td>0</td>\n",
       "      <td>0</td>\n",
       "      <td>0</td>\n",
       "      <td>0</td>\n",
       "      <td>0</td>\n",
       "      <td>6</td>\n",
       "    </tr>\n",
       "    <tr>\n",
       "      <th>15</th>\n",
       "      <td>1</td>\n",
       "      <td>0.434305</td>\n",
       "      <td>8750</td>\n",
       "      <td>0</td>\n",
       "      <td>1</td>\n",
       "      <td>1</td>\n",
       "      <td>1</td>\n",
       "      <td>1</td>\n",
       "      <td>1</td>\n",
       "      <td>0</td>\n",
       "      <td>0</td>\n",
       "      <td>0</td>\n",
       "      <td>0</td>\n",
       "      <td>0</td>\n",
       "      <td>1</td>\n",
       "      <td>43</td>\n",
       "    </tr>\n",
       "    <tr>\n",
       "      <th>16</th>\n",
       "      <td>1</td>\n",
       "      <td>0.801603</td>\n",
       "      <td>5049</td>\n",
       "      <td>1</td>\n",
       "      <td>1</td>\n",
       "      <td>1</td>\n",
       "      <td>1</td>\n",
       "      <td>1</td>\n",
       "      <td>1</td>\n",
       "      <td>1</td>\n",
       "      <td>1</td>\n",
       "      <td>1</td>\n",
       "      <td>1</td>\n",
       "      <td>0</td>\n",
       "      <td>1</td>\n",
       "      <td>80</td>\n",
       "    </tr>\n",
       "    <tr>\n",
       "      <th>17</th>\n",
       "      <td>0</td>\n",
       "      <td>0.593975</td>\n",
       "      <td>5691</td>\n",
       "      <td>1</td>\n",
       "      <td>1</td>\n",
       "      <td>1</td>\n",
       "      <td>1</td>\n",
       "      <td>1</td>\n",
       "      <td>1</td>\n",
       "      <td>1</td>\n",
       "      <td>0</td>\n",
       "      <td>0</td>\n",
       "      <td>0</td>\n",
       "      <td>0</td>\n",
       "      <td>1</td>\n",
       "      <td>59</td>\n",
       "    </tr>\n",
       "    <tr>\n",
       "      <th>18</th>\n",
       "      <td>1</td>\n",
       "      <td>0.372283</td>\n",
       "      <td>5773</td>\n",
       "      <td>0</td>\n",
       "      <td>1</td>\n",
       "      <td>1</td>\n",
       "      <td>1</td>\n",
       "      <td>1</td>\n",
       "      <td>0</td>\n",
       "      <td>0</td>\n",
       "      <td>0</td>\n",
       "      <td>0</td>\n",
       "      <td>0</td>\n",
       "      <td>0</td>\n",
       "      <td>1</td>\n",
       "      <td>37</td>\n",
       "    </tr>\n",
       "    <tr>\n",
       "      <th>19</th>\n",
       "      <td>0</td>\n",
       "      <td>0.063178</td>\n",
       "      <td>3906</td>\n",
       "      <td>0</td>\n",
       "      <td>1</td>\n",
       "      <td>0</td>\n",
       "      <td>0</td>\n",
       "      <td>0</td>\n",
       "      <td>0</td>\n",
       "      <td>0</td>\n",
       "      <td>0</td>\n",
       "      <td>0</td>\n",
       "      <td>0</td>\n",
       "      <td>0</td>\n",
       "      <td>0</td>\n",
       "      <td>6</td>\n",
       "    </tr>\n",
       "  </tbody>\n",
       "</table>\n",
       "</div>"
      ],
      "text/plain": [
       "    Converted  Converted_Prob  LeadId  predicted  0.0  0.1  0.2  0.3  0.4  \\\n",
       "0           0        0.818891    2240          1    1    1    1    1    1   \n",
       "1           0        0.515162     113          1    1    1    1    1    1   \n",
       "2           1        0.759600    4132          1    1    1    1    1    1   \n",
       "3           0        0.079874    5573          0    1    0    0    0    0   \n",
       "4           0        0.033996    1109          0    1    0    0    0    0   \n",
       "5           0        0.114321    2282          0    1    1    0    0    0   \n",
       "6           1        0.936465    2976          1    1    1    1    1    1   \n",
       "7           0        0.417599    8431          0    1    1    1    1    1   \n",
       "8           1        0.801603    2770          1    1    1    1    1    1   \n",
       "9           1        0.997245    5790          1    1    1    1    1    1   \n",
       "10          1        0.964162    2943          1    1    1    1    1    1   \n",
       "11          0        0.171850    1196          0    1    1    0    0    0   \n",
       "12          1        0.236107    8874          0    1    1    1    0    0   \n",
       "13          0        0.241881    1491          0    1    1    1    0    0   \n",
       "14          0        0.063178    7676          0    1    0    0    0    0   \n",
       "15          1        0.434305    8750          0    1    1    1    1    1   \n",
       "16          1        0.801603    5049          1    1    1    1    1    1   \n",
       "17          0        0.593975    5691          1    1    1    1    1    1   \n",
       "18          1        0.372283    5773          0    1    1    1    1    0   \n",
       "19          0        0.063178    3906          0    1    0    0    0    0   \n",
       "\n",
       "    0.5  0.6  0.7  0.8  0.9  final_predicted  lead_score  \n",
       "0     1    1    1    1    0                1          82  \n",
       "1     1    0    0    0    0                1          52  \n",
       "2     1    1    1    0    0                1          76  \n",
       "3     0    0    0    0    0                0           8  \n",
       "4     0    0    0    0    0                0           3  \n",
       "5     0    0    0    0    0                0          11  \n",
       "6     1    1    1    1    1                1          94  \n",
       "7     0    0    0    0    0                1          42  \n",
       "8     1    1    1    1    0                1          80  \n",
       "9     1    1    1    1    1                1         100  \n",
       "10    1    1    1    1    1                1          96  \n",
       "11    0    0    0    0    0                0          17  \n",
       "12    0    0    0    0    0                0          24  \n",
       "13    0    0    0    0    0                0          24  \n",
       "14    0    0    0    0    0                0           6  \n",
       "15    0    0    0    0    0                1          43  \n",
       "16    1    1    1    1    0                1          80  \n",
       "17    1    0    0    0    0                1          59  \n",
       "18    0    0    0    0    0                1          37  \n",
       "19    0    0    0    0    0                0           6  "
      ]
     },
     "execution_count": 119,
     "metadata": {},
     "output_type": "execute_result"
    }
   ],
   "source": [
    "# Now let us calculate the lead score\n",
    "\n",
    "y_train_pred_final['lead_score'] = y_train_pred_final.Converted_Prob.map(lambda x: round(x*100))\n",
    "y_train_pred_final.head(20)"
   ]
  },
  {
   "cell_type": "code",
   "execution_count": 120,
   "metadata": {},
   "outputs": [
    {
     "data": {
      "text/plain": [
       "1    1964\n",
       "0     498\n",
       "Name: final_predicted, dtype: int64"
      ]
     },
     "execution_count": 120,
     "metadata": {},
     "output_type": "execute_result"
    }
   ],
   "source": [
    "# checking if 80% cases are correctly predicted based on the converted column.\n",
    "\n",
    "# get the total of final predicted conversion / non conversion counts from the actual converted rates\n",
    "\n",
    "checking_df = y_train_pred_final.loc[y_train_pred_final['Converted']==1,['Converted','final_predicted']]\n",
    "checking_df['final_predicted'].value_counts()"
   ]
  },
  {
   "cell_type": "code",
   "execution_count": 121,
   "metadata": {},
   "outputs": [
    {
     "data": {
      "text/plain": [
       "0.7981316003249391"
      ]
     },
     "execution_count": 121,
     "metadata": {},
     "output_type": "execute_result"
    }
   ],
   "source": [
    "# check the precentage of final_predicted conversions\n",
    "\n",
    "1965/float(1965+497)"
   ]
  },
  {
   "cell_type": "markdown",
   "metadata": {},
   "source": [
    "##### Hence we can see that the final prediction of conversions have a target of 80% (79.8%) conversion as per the X Educations CEO's requirement . Hence this is a good model."
   ]
  },
  {
   "cell_type": "markdown",
   "metadata": {},
   "source": [
    "##### Overall Metrics - Accuracy, Confusion Metrics, Sensitivity, Specificity, False Postive Rate, Positive Predictive Value, Negative Predicitive Value  on final prediction on train set"
   ]
  },
  {
   "cell_type": "code",
   "execution_count": 122,
   "metadata": {},
   "outputs": [
    {
     "data": {
      "text/plain": [
       "0.8094936708860759"
      ]
     },
     "execution_count": 122,
     "metadata": {},
     "output_type": "execute_result"
    }
   ],
   "source": [
    "# Let's check the overall accuracy.\n",
    "\n",
    "metrics.accuracy_score(y_train_pred_final.Converted, y_train_pred_final.final_predicted)"
   ]
  },
  {
   "cell_type": "code",
   "execution_count": 123,
   "metadata": {},
   "outputs": [
    {
     "data": {
      "text/plain": [
       "array([[3152,  706],\n",
       "       [ 498, 1964]], dtype=int64)"
      ]
     },
     "execution_count": 123,
     "metadata": {},
     "output_type": "execute_result"
    }
   ],
   "source": [
    "confusion2 = metrics.confusion_matrix(y_train_pred_final.Converted, y_train_pred_final.final_predicted )\n",
    "confusion2"
   ]
  },
  {
   "cell_type": "code",
   "execution_count": 124,
   "metadata": {},
   "outputs": [],
   "source": [
    "TP = confusion2[1,1] # true positive \n",
    "TN = confusion2[0,0] # true negatives\n",
    "FP = confusion2[0,1] # false positives\n",
    "FN = confusion2[1,0] # false negatives"
   ]
  },
  {
   "cell_type": "code",
   "execution_count": 125,
   "metadata": {},
   "outputs": [
    {
     "data": {
      "text/plain": [
       "0.7977254264825345"
      ]
     },
     "execution_count": 125,
     "metadata": {},
     "output_type": "execute_result"
    }
   ],
   "source": [
    "# Let's see the sensitivity of our logistic regression model\n",
    "\n",
    "TP / float(TP+FN)"
   ]
  },
  {
   "cell_type": "code",
   "execution_count": 126,
   "metadata": {},
   "outputs": [
    {
     "data": {
      "text/plain": [
       "0.8170036288232244"
      ]
     },
     "execution_count": 126,
     "metadata": {},
     "output_type": "execute_result"
    }
   ],
   "source": [
    "# Let us calculate specificity\n",
    "\n",
    "TN / float(TN+FP)"
   ]
  },
  {
   "cell_type": "code",
   "execution_count": 127,
   "metadata": {},
   "outputs": [
    {
     "name": "stdout",
     "output_type": "stream",
     "text": [
      "0.18299637117677553\n"
     ]
    }
   ],
   "source": [
    "# Calculate false postive rate - predicting conversions when leads has not converted\n",
    "\n",
    "print(FP/ float(TN+FP))"
   ]
  },
  {
   "cell_type": "code",
   "execution_count": 128,
   "metadata": {},
   "outputs": [
    {
     "name": "stdout",
     "output_type": "stream",
     "text": [
      "0.7355805243445693\n"
     ]
    }
   ],
   "source": [
    "# Positive predictive value \n",
    "\n",
    "print (TP / float(TP+FP))"
   ]
  },
  {
   "cell_type": "code",
   "execution_count": 129,
   "metadata": {},
   "outputs": [
    {
     "name": "stdout",
     "output_type": "stream",
     "text": [
      "0.8635616438356164\n"
     ]
    }
   ],
   "source": [
    "# Negative predictive value\n",
    "\n",
    "print (TN / float(TN+ FN))"
   ]
  },
  {
   "cell_type": "markdown",
   "metadata": {},
   "source": [
    "##### Metrics - Precision and Recall"
   ]
  },
  {
   "cell_type": "code",
   "execution_count": 130,
   "metadata": {},
   "outputs": [
    {
     "data": {
      "text/plain": [
       "array([[3393,  465],\n",
       "       [ 728, 1734]], dtype=int64)"
      ]
     },
     "execution_count": 130,
     "metadata": {},
     "output_type": "execute_result"
    }
   ],
   "source": [
    "#Looking at the confusion matrix again\n",
    "\n",
    "confusion = metrics.confusion_matrix(y_train_pred_final.Converted, y_train_pred_final.predicted )\n",
    "confusion"
   ]
  },
  {
   "cell_type": "code",
   "execution_count": 131,
   "metadata": {},
   "outputs": [],
   "source": [
    "from sklearn.metrics import precision_score, recall_score"
   ]
  },
  {
   "cell_type": "code",
   "execution_count": 132,
   "metadata": {},
   "outputs": [
    {
     "data": {
      "text/plain": [
       "0.7885402455661664"
      ]
     },
     "execution_count": 132,
     "metadata": {},
     "output_type": "execute_result"
    }
   ],
   "source": [
    "# precision\n",
    "\n",
    "precision_score(y_train_pred_final.Converted, y_train_pred_final.predicted)"
   ]
  },
  {
   "cell_type": "code",
   "execution_count": 133,
   "metadata": {},
   "outputs": [
    {
     "data": {
      "text/plain": [
       "0.7043054427294883"
      ]
     },
     "execution_count": 133,
     "metadata": {},
     "output_type": "execute_result"
    }
   ],
   "source": [
    "# recall\n",
    "\n",
    "recall_score(y_train_pred_final.Converted, y_train_pred_final.predicted)"
   ]
  },
  {
   "cell_type": "markdown",
   "metadata": {},
   "source": [
    "### Precision and recall tradeoff"
   ]
  },
  {
   "cell_type": "code",
   "execution_count": 134,
   "metadata": {},
   "outputs": [],
   "source": [
    "from sklearn.metrics import precision_recall_curve"
   ]
  },
  {
   "cell_type": "code",
   "execution_count": 135,
   "metadata": {},
   "outputs": [
    {
     "data": {
      "text/plain": [
       "(0       0\n",
       " 1       0\n",
       " 2       1\n",
       " 3       0\n",
       " 4       0\n",
       "        ..\n",
       " 6315    1\n",
       " 6316    1\n",
       " 6317    0\n",
       " 6318    0\n",
       " 6319    0\n",
       " Name: Converted, Length: 6320, dtype: int64,\n",
       " 0       1\n",
       " 1       1\n",
       " 2       1\n",
       " 3       0\n",
       " 4       0\n",
       "        ..\n",
       " 6315    0\n",
       " 6316    1\n",
       " 6317    0\n",
       " 6318    0\n",
       " 6319    0\n",
       " Name: predicted, Length: 6320, dtype: int64)"
      ]
     },
     "execution_count": 135,
     "metadata": {},
     "output_type": "execute_result"
    }
   ],
   "source": [
    "y_train_pred_final.Converted, y_train_pred_final.predicted"
   ]
  },
  {
   "cell_type": "code",
   "execution_count": 136,
   "metadata": {},
   "outputs": [],
   "source": [
    "p, r, thresholds = precision_recall_curve(y_train_pred_final.Converted, y_train_pred_final.Converted_Prob)"
   ]
  },
  {
   "cell_type": "code",
   "execution_count": 137,
   "metadata": {},
   "outputs": [
    {
     "data": {
      "image/png": "[encoded data removed]",
      "text/plain": [
       "<Figure size 432x288 with 1 Axes>"
      ]
     },
     "metadata": {
      "needs_background": "light"
     },
     "output_type": "display_data"
    }
   ],
   "source": [
    "plt.plot(thresholds, p[:-1], \"g-\")\n",
    "plt.plot(thresholds, r[:-1], \"r-\")\n",
    "plt.show()"
   ]
  },
  {
   "cell_type": "markdown",
   "metadata": {},
   "source": [
    "### Step 11: Making predictions on the test set"
   ]
  },
  {
   "cell_type": "code",
   "execution_count": 138,
   "metadata": {},
   "outputs": [],
   "source": [
    "X_test[['TotalVisits','Total Time Spent on Website','Page Views Per Visit']] = scaler.transform(X_test[['TotalVisits',\n",
    "                                                                        'Total Time Spent on Website','Page Views Per Visit']])"
   ]
  },
  {
   "cell_type": "code",
   "execution_count": 139,
   "metadata": {},
   "outputs": [
    {
     "data": {
      "text/html": [
       "<div>\n",
       "<style scoped>\n",
       "    .dataframe tbody tr th:only-of-type {\n",
       "        vertical-align: middle;\n",
       "    }\n",
       "\n",
       "    .dataframe tbody tr th {\n",
       "        vertical-align: top;\n",
       "    }\n",
       "\n",
       "    .dataframe thead th {\n",
       "        text-align: right;\n",
       "    }\n",
       "</style>\n",
       "<table border=\"1\" class=\"dataframe\">\n",
       "  <thead>\n",
       "    <tr style=\"text-align: right;\">\n",
       "      <th></th>\n",
       "      <th>Do Not Email</th>\n",
       "      <th>TotalVisits</th>\n",
       "      <th>Total Time Spent on Website</th>\n",
       "      <th>LeadOrigin_Landing Page Submission</th>\n",
       "      <th>LeadOrigin_Lead Add Form</th>\n",
       "      <th>LeadSource_Olark Chat</th>\n",
       "      <th>LeadSource_Welingak Website</th>\n",
       "      <th>LastActivity_Converted to Lead</th>\n",
       "      <th>LastActivity_Email Bounced</th>\n",
       "      <th>LastActivity_Olark Chat Conversation</th>\n",
       "      <th>CurrentOccupation_Working Professional</th>\n",
       "      <th>LastNotableActivity_Email Bounced</th>\n",
       "      <th>LastNotableActivity_Had a Phone Conversation</th>\n",
       "      <th>LastNotableActivity_SMS Sent</th>\n",
       "      <th>LastNotableActivity_Unreachable</th>\n",
       "    </tr>\n",
       "  </thead>\n",
       "  <tbody>\n",
       "    <tr>\n",
       "      <th>2296</th>\n",
       "      <td>0</td>\n",
       "      <td>0.1875</td>\n",
       "      <td>0.665313</td>\n",
       "      <td>1</td>\n",
       "      <td>0</td>\n",
       "      <td>0</td>\n",
       "      <td>0</td>\n",
       "      <td>0</td>\n",
       "      <td>0</td>\n",
       "      <td>0</td>\n",
       "      <td>0</td>\n",
       "      <td>0</td>\n",
       "      <td>0</td>\n",
       "      <td>1</td>\n",
       "      <td>0</td>\n",
       "    </tr>\n",
       "    <tr>\n",
       "      <th>8697</th>\n",
       "      <td>0</td>\n",
       "      <td>0.4375</td>\n",
       "      <td>0.184032</td>\n",
       "      <td>1</td>\n",
       "      <td>0</td>\n",
       "      <td>0</td>\n",
       "      <td>0</td>\n",
       "      <td>0</td>\n",
       "      <td>0</td>\n",
       "      <td>0</td>\n",
       "      <td>0</td>\n",
       "      <td>0</td>\n",
       "      <td>0</td>\n",
       "      <td>1</td>\n",
       "      <td>0</td>\n",
       "    </tr>\n",
       "    <tr>\n",
       "      <th>7378</th>\n",
       "      <td>0</td>\n",
       "      <td>0.1250</td>\n",
       "      <td>0.163284</td>\n",
       "      <td>1</td>\n",
       "      <td>0</td>\n",
       "      <td>0</td>\n",
       "      <td>0</td>\n",
       "      <td>0</td>\n",
       "      <td>0</td>\n",
       "      <td>0</td>\n",
       "      <td>0</td>\n",
       "      <td>0</td>\n",
       "      <td>0</td>\n",
       "      <td>0</td>\n",
       "      <td>0</td>\n",
       "    </tr>\n",
       "    <tr>\n",
       "      <th>8631</th>\n",
       "      <td>0</td>\n",
       "      <td>0.3125</td>\n",
       "      <td>0.407307</td>\n",
       "      <td>0</td>\n",
       "      <td>0</td>\n",
       "      <td>0</td>\n",
       "      <td>0</td>\n",
       "      <td>0</td>\n",
       "      <td>0</td>\n",
       "      <td>0</td>\n",
       "      <td>0</td>\n",
       "      <td>0</td>\n",
       "      <td>0</td>\n",
       "      <td>0</td>\n",
       "      <td>0</td>\n",
       "    </tr>\n",
       "    <tr>\n",
       "      <th>4799</th>\n",
       "      <td>0</td>\n",
       "      <td>0.5000</td>\n",
       "      <td>0.744700</td>\n",
       "      <td>0</td>\n",
       "      <td>0</td>\n",
       "      <td>0</td>\n",
       "      <td>0</td>\n",
       "      <td>0</td>\n",
       "      <td>0</td>\n",
       "      <td>0</td>\n",
       "      <td>0</td>\n",
       "      <td>0</td>\n",
       "      <td>0</td>\n",
       "      <td>1</td>\n",
       "      <td>0</td>\n",
       "    </tr>\n",
       "  </tbody>\n",
       "</table>\n",
       "</div>"
      ],
      "text/plain": [
       "      Do Not Email  TotalVisits  Total Time Spent on Website  \\\n",
       "2296             0       0.1875                     0.665313   \n",
       "8697             0       0.4375                     0.184032   \n",
       "7378             0       0.1250                     0.163284   \n",
       "8631             0       0.3125                     0.407307   \n",
       "4799             0       0.5000                     0.744700   \n",
       "\n",
       "      LeadOrigin_Landing Page Submission  LeadOrigin_Lead Add Form  \\\n",
       "2296                                   1                         0   \n",
       "8697                                   1                         0   \n",
       "7378                                   1                         0   \n",
       "8631                                   0                         0   \n",
       "4799                                   0                         0   \n",
       "\n",
       "      LeadSource_Olark Chat  LeadSource_Welingak Website  \\\n",
       "2296                      0                            0   \n",
       "8697                      0                            0   \n",
       "7378                      0                            0   \n",
       "8631                      0                            0   \n",
       "4799                      0                            0   \n",
       "\n",
       "      LastActivity_Converted to Lead  LastActivity_Email Bounced  \\\n",
       "2296                               0                           0   \n",
       "8697                               0                           0   \n",
       "7378                               0                           0   \n",
       "8631                               0                           0   \n",
       "4799                               0                           0   \n",
       "\n",
       "      LastActivity_Olark Chat Conversation  \\\n",
       "2296                                     0   \n",
       "8697                                     0   \n",
       "7378                                     0   \n",
       "8631                                     0   \n",
       "4799                                     0   \n",
       "\n",
       "      CurrentOccupation_Working Professional  \\\n",
       "2296                                       0   \n",
       "8697                                       0   \n",
       "7378                                       0   \n",
       "8631                                       0   \n",
       "4799                                       0   \n",
       "\n",
       "      LastNotableActivity_Email Bounced  \\\n",
       "2296                                  0   \n",
       "8697                                  0   \n",
       "7378                                  0   \n",
       "8631                                  0   \n",
       "4799                                  0   \n",
       "\n",
       "      LastNotableActivity_Had a Phone Conversation  \\\n",
       "2296                                             0   \n",
       "8697                                             0   \n",
       "7378                                             0   \n",
       "8631                                             0   \n",
       "4799                                             0   \n",
       "\n",
       "      LastNotableActivity_SMS Sent  LastNotableActivity_Unreachable  \n",
       "2296                             1                                0  \n",
       "8697                             1                                0  \n",
       "7378                             0                                0  \n",
       "8631                             0                                0  \n",
       "4799                             1                                0  "
      ]
     },
     "execution_count": 139,
     "metadata": {},
     "output_type": "execute_result"
    }
   ],
   "source": [
    "X_test = X_test[col]\n",
    "X_test.head()"
   ]
  },
  {
   "cell_type": "code",
   "execution_count": 140,
   "metadata": {},
   "outputs": [],
   "source": [
    "X_test_sm = sm.add_constant(X_test)"
   ]
  },
  {
   "cell_type": "markdown",
   "metadata": {},
   "source": [
    "Making predictions on the test set"
   ]
  },
  {
   "cell_type": "code",
   "execution_count": 141,
   "metadata": {},
   "outputs": [],
   "source": [
    "y_test_pred = res.predict(X_test_sm)"
   ]
  },
  {
   "cell_type": "code",
   "execution_count": 142,
   "metadata": {},
   "outputs": [
    {
     "data": {
      "text/plain": [
       "2296    0.883092\n",
       "8697    0.544007\n",
       "7378    0.136465\n",
       "8631    0.434470\n",
       "4799    0.953440\n",
       "4503    0.593975\n",
       "7129    0.905945\n",
       "1717    0.236107\n",
       "8398    0.862534\n",
       "5116    0.236107\n",
       "dtype: float64"
      ]
     },
     "execution_count": 142,
     "metadata": {},
     "output_type": "execute_result"
    }
   ],
   "source": [
    "y_test_pred[:10]"
   ]
  },
  {
   "cell_type": "code",
   "execution_count": 143,
   "metadata": {},
   "outputs": [],
   "source": [
    "# Converting y_pred to a dataframe which is an array\n",
    "\n",
    "y_pred_1 = pd.DataFrame(y_test_pred)"
   ]
  },
  {
   "cell_type": "code",
   "execution_count": 144,
   "metadata": {},
   "outputs": [
    {
     "data": {
      "text/html": [
       "<div>\n",
       "<style scoped>\n",
       "    .dataframe tbody tr th:only-of-type {\n",
       "        vertical-align: middle;\n",
       "    }\n",
       "\n",
       "    .dataframe tbody tr th {\n",
       "        vertical-align: top;\n",
       "    }\n",
       "\n",
       "    .dataframe thead th {\n",
       "        text-align: right;\n",
       "    }\n",
       "</style>\n",
       "<table border=\"1\" class=\"dataframe\">\n",
       "  <thead>\n",
       "    <tr style=\"text-align: right;\">\n",
       "      <th></th>\n",
       "      <th>0</th>\n",
       "    </tr>\n",
       "  </thead>\n",
       "  <tbody>\n",
       "    <tr>\n",
       "      <th>2296</th>\n",
       "      <td>0.883092</td>\n",
       "    </tr>\n",
       "    <tr>\n",
       "      <th>8697</th>\n",
       "      <td>0.544007</td>\n",
       "    </tr>\n",
       "    <tr>\n",
       "      <th>7378</th>\n",
       "      <td>0.136465</td>\n",
       "    </tr>\n",
       "    <tr>\n",
       "      <th>8631</th>\n",
       "      <td>0.434470</td>\n",
       "    </tr>\n",
       "    <tr>\n",
       "      <th>4799</th>\n",
       "      <td>0.953440</td>\n",
       "    </tr>\n",
       "  </tbody>\n",
       "</table>\n",
       "</div>"
      ],
      "text/plain": [
       "             0\n",
       "2296  0.883092\n",
       "8697  0.544007\n",
       "7378  0.136465\n",
       "8631  0.434470\n",
       "4799  0.953440"
      ]
     },
     "execution_count": 144,
     "metadata": {},
     "output_type": "execute_result"
    }
   ],
   "source": [
    "# Let's see the head\n",
    "\n",
    "y_pred_1.head()"
   ]
  },
  {
   "cell_type": "code",
   "execution_count": 145,
   "metadata": {},
   "outputs": [],
   "source": [
    "# Converting y_test to dataframe\n",
    "\n",
    "y_test_df = pd.DataFrame(y_test)"
   ]
  },
  {
   "cell_type": "code",
   "execution_count": 146,
   "metadata": {},
   "outputs": [],
   "source": [
    "# Putting LeadId to index\n",
    "\n",
    "y_test_df['LeadId'] = y_test_df.index"
   ]
  },
  {
   "cell_type": "code",
   "execution_count": 147,
   "metadata": {},
   "outputs": [],
   "source": [
    "# Removing index for both dataframes to append them side by side \n",
    "\n",
    "y_pred_1.reset_index(drop=True, inplace=True)\n",
    "y_test_df.reset_index(drop=True, inplace=True)"
   ]
  },
  {
   "cell_type": "code",
   "execution_count": 148,
   "metadata": {},
   "outputs": [],
   "source": [
    "# Appending y_test_df and y_pred_1\n",
    "\n",
    "y_pred_final = pd.concat([y_test_df, y_pred_1],axis=1)"
   ]
  },
  {
   "cell_type": "code",
   "execution_count": 149,
   "metadata": {},
   "outputs": [
    {
     "data": {
      "text/html": [
       "<div>\n",
       "<style scoped>\n",
       "    .dataframe tbody tr th:only-of-type {\n",
       "        vertical-align: middle;\n",
       "    }\n",
       "\n",
       "    .dataframe tbody tr th {\n",
       "        vertical-align: top;\n",
       "    }\n",
       "\n",
       "    .dataframe thead th {\n",
       "        text-align: right;\n",
       "    }\n",
       "</style>\n",
       "<table border=\"1\" class=\"dataframe\">\n",
       "  <thead>\n",
       "    <tr style=\"text-align: right;\">\n",
       "      <th></th>\n",
       "      <th>Converted</th>\n",
       "      <th>LeadId</th>\n",
       "      <th>0</th>\n",
       "    </tr>\n",
       "  </thead>\n",
       "  <tbody>\n",
       "    <tr>\n",
       "      <th>0</th>\n",
       "      <td>1</td>\n",
       "      <td>2296</td>\n",
       "      <td>0.883092</td>\n",
       "    </tr>\n",
       "    <tr>\n",
       "      <th>1</th>\n",
       "      <td>0</td>\n",
       "      <td>8697</td>\n",
       "      <td>0.544007</td>\n",
       "    </tr>\n",
       "    <tr>\n",
       "      <th>2</th>\n",
       "      <td>0</td>\n",
       "      <td>7378</td>\n",
       "      <td>0.136465</td>\n",
       "    </tr>\n",
       "    <tr>\n",
       "      <th>3</th>\n",
       "      <td>0</td>\n",
       "      <td>8631</td>\n",
       "      <td>0.434470</td>\n",
       "    </tr>\n",
       "    <tr>\n",
       "      <th>4</th>\n",
       "      <td>1</td>\n",
       "      <td>4799</td>\n",
       "      <td>0.953440</td>\n",
       "    </tr>\n",
       "  </tbody>\n",
       "</table>\n",
       "</div>"
      ],
      "text/plain": [
       "   Converted  LeadId         0\n",
       "0          1    2296  0.883092\n",
       "1          0    8697  0.544007\n",
       "2          0    7378  0.136465\n",
       "3          0    8631  0.434470\n",
       "4          1    4799  0.953440"
      ]
     },
     "execution_count": 149,
     "metadata": {},
     "output_type": "execute_result"
    }
   ],
   "source": [
    "y_pred_final.head()"
   ]
  },
  {
   "cell_type": "code",
   "execution_count": 150,
   "metadata": {},
   "outputs": [],
   "source": [
    "# Renaming the column \n",
    "\n",
    "y_pred_final= y_pred_final.rename(columns={ 0 : 'Converted_Prob'})"
   ]
  },
  {
   "cell_type": "code",
   "execution_count": 151,
   "metadata": {},
   "outputs": [],
   "source": [
    "# Rearranging the columns\n",
    "\n",
    "y_pred_final = y_pred_final.reindex(columns=(['LeadId','Converted','Converted_Prob']))"
   ]
  },
  {
   "cell_type": "code",
   "execution_count": 152,
   "metadata": {},
   "outputs": [
    {
     "data": {
      "text/html": [
       "<div>\n",
       "<style scoped>\n",
       "    .dataframe tbody tr th:only-of-type {\n",
       "        vertical-align: middle;\n",
       "    }\n",
       "\n",
       "    .dataframe tbody tr th {\n",
       "        vertical-align: top;\n",
       "    }\n",
       "\n",
       "    .dataframe thead th {\n",
       "        text-align: right;\n",
       "    }\n",
       "</style>\n",
       "<table border=\"1\" class=\"dataframe\">\n",
       "  <thead>\n",
       "    <tr style=\"text-align: right;\">\n",
       "      <th></th>\n",
       "      <th>LeadId</th>\n",
       "      <th>Converted</th>\n",
       "      <th>Converted_Prob</th>\n",
       "    </tr>\n",
       "  </thead>\n",
       "  <tbody>\n",
       "    <tr>\n",
       "      <th>0</th>\n",
       "      <td>2296</td>\n",
       "      <td>1</td>\n",
       "      <td>0.883092</td>\n",
       "    </tr>\n",
       "    <tr>\n",
       "      <th>1</th>\n",
       "      <td>8697</td>\n",
       "      <td>0</td>\n",
       "      <td>0.544007</td>\n",
       "    </tr>\n",
       "    <tr>\n",
       "      <th>2</th>\n",
       "      <td>7378</td>\n",
       "      <td>0</td>\n",
       "      <td>0.136465</td>\n",
       "    </tr>\n",
       "    <tr>\n",
       "      <th>3</th>\n",
       "      <td>8631</td>\n",
       "      <td>0</td>\n",
       "      <td>0.434470</td>\n",
       "    </tr>\n",
       "    <tr>\n",
       "      <th>4</th>\n",
       "      <td>4799</td>\n",
       "      <td>1</td>\n",
       "      <td>0.953440</td>\n",
       "    </tr>\n",
       "  </tbody>\n",
       "</table>\n",
       "</div>"
      ],
      "text/plain": [
       "   LeadId  Converted  Converted_Prob\n",
       "0    2296          1        0.883092\n",
       "1    8697          0        0.544007\n",
       "2    7378          0        0.136465\n",
       "3    8631          0        0.434470\n",
       "4    4799          1        0.953440"
      ]
     },
     "execution_count": 152,
     "metadata": {},
     "output_type": "execute_result"
    }
   ],
   "source": [
    "y_pred_final.head()"
   ]
  },
  {
   "cell_type": "code",
   "execution_count": 153,
   "metadata": {},
   "outputs": [],
   "source": [
    "# Based on cut off threshold using accuracy, sensitivity and specificity of 0.37%\n",
    "\n",
    "y_pred_final['final_predicted'] = y_pred_final.Converted_Prob.map(lambda x: 1 if x > 0.37 else 0)"
   ]
  },
  {
   "cell_type": "code",
   "execution_count": 154,
   "metadata": {},
   "outputs": [
    {
     "data": {
      "text/html": [
       "<div>\n",
       "<style scoped>\n",
       "    .dataframe tbody tr th:only-of-type {\n",
       "        vertical-align: middle;\n",
       "    }\n",
       "\n",
       "    .dataframe tbody tr th {\n",
       "        vertical-align: top;\n",
       "    }\n",
       "\n",
       "    .dataframe thead th {\n",
       "        text-align: right;\n",
       "    }\n",
       "</style>\n",
       "<table border=\"1\" class=\"dataframe\">\n",
       "  <thead>\n",
       "    <tr style=\"text-align: right;\">\n",
       "      <th></th>\n",
       "      <th>LeadId</th>\n",
       "      <th>Converted</th>\n",
       "      <th>Converted_Prob</th>\n",
       "      <th>final_predicted</th>\n",
       "    </tr>\n",
       "  </thead>\n",
       "  <tbody>\n",
       "    <tr>\n",
       "      <th>0</th>\n",
       "      <td>2296</td>\n",
       "      <td>1</td>\n",
       "      <td>0.883092</td>\n",
       "      <td>1</td>\n",
       "    </tr>\n",
       "    <tr>\n",
       "      <th>1</th>\n",
       "      <td>8697</td>\n",
       "      <td>0</td>\n",
       "      <td>0.544007</td>\n",
       "      <td>1</td>\n",
       "    </tr>\n",
       "    <tr>\n",
       "      <th>2</th>\n",
       "      <td>7378</td>\n",
       "      <td>0</td>\n",
       "      <td>0.136465</td>\n",
       "      <td>0</td>\n",
       "    </tr>\n",
       "    <tr>\n",
       "      <th>3</th>\n",
       "      <td>8631</td>\n",
       "      <td>0</td>\n",
       "      <td>0.434470</td>\n",
       "      <td>1</td>\n",
       "    </tr>\n",
       "    <tr>\n",
       "      <th>4</th>\n",
       "      <td>4799</td>\n",
       "      <td>1</td>\n",
       "      <td>0.953440</td>\n",
       "      <td>1</td>\n",
       "    </tr>\n",
       "  </tbody>\n",
       "</table>\n",
       "</div>"
      ],
      "text/plain": [
       "   LeadId  Converted  Converted_Prob  final_predicted\n",
       "0    2296          1        0.883092                1\n",
       "1    8697          0        0.544007                1\n",
       "2    7378          0        0.136465                0\n",
       "3    8631          0        0.434470                1\n",
       "4    4799          1        0.953440                1"
      ]
     },
     "execution_count": 154,
     "metadata": {},
     "output_type": "execute_result"
    }
   ],
   "source": [
    "y_pred_final.head()"
   ]
  },
  {
   "cell_type": "code",
   "execution_count": 155,
   "metadata": {},
   "outputs": [
    {
     "data": {
      "text/html": [
       "<div>\n",
       "<style scoped>\n",
       "    .dataframe tbody tr th:only-of-type {\n",
       "        vertical-align: middle;\n",
       "    }\n",
       "\n",
       "    .dataframe tbody tr th {\n",
       "        vertical-align: top;\n",
       "    }\n",
       "\n",
       "    .dataframe thead th {\n",
       "        text-align: right;\n",
       "    }\n",
       "</style>\n",
       "<table border=\"1\" class=\"dataframe\">\n",
       "  <thead>\n",
       "    <tr style=\"text-align: right;\">\n",
       "      <th></th>\n",
       "      <th>LeadId</th>\n",
       "      <th>Converted</th>\n",
       "      <th>Converted_Prob</th>\n",
       "      <th>final_predicted</th>\n",
       "      <th>lead_score</th>\n",
       "    </tr>\n",
       "  </thead>\n",
       "  <tbody>\n",
       "    <tr>\n",
       "      <th>0</th>\n",
       "      <td>2296</td>\n",
       "      <td>1</td>\n",
       "      <td>0.883092</td>\n",
       "      <td>1</td>\n",
       "      <td>88</td>\n",
       "    </tr>\n",
       "    <tr>\n",
       "      <th>1</th>\n",
       "      <td>8697</td>\n",
       "      <td>0</td>\n",
       "      <td>0.544007</td>\n",
       "      <td>1</td>\n",
       "      <td>54</td>\n",
       "    </tr>\n",
       "    <tr>\n",
       "      <th>2</th>\n",
       "      <td>7378</td>\n",
       "      <td>0</td>\n",
       "      <td>0.136465</td>\n",
       "      <td>0</td>\n",
       "      <td>14</td>\n",
       "    </tr>\n",
       "    <tr>\n",
       "      <th>3</th>\n",
       "      <td>8631</td>\n",
       "      <td>0</td>\n",
       "      <td>0.434470</td>\n",
       "      <td>1</td>\n",
       "      <td>43</td>\n",
       "    </tr>\n",
       "    <tr>\n",
       "      <th>4</th>\n",
       "      <td>4799</td>\n",
       "      <td>1</td>\n",
       "      <td>0.953440</td>\n",
       "      <td>1</td>\n",
       "      <td>95</td>\n",
       "    </tr>\n",
       "    <tr>\n",
       "      <th>5</th>\n",
       "      <td>4503</td>\n",
       "      <td>0</td>\n",
       "      <td>0.593975</td>\n",
       "      <td>1</td>\n",
       "      <td>59</td>\n",
       "    </tr>\n",
       "    <tr>\n",
       "      <th>6</th>\n",
       "      <td>7129</td>\n",
       "      <td>0</td>\n",
       "      <td>0.905945</td>\n",
       "      <td>1</td>\n",
       "      <td>91</td>\n",
       "    </tr>\n",
       "    <tr>\n",
       "      <th>7</th>\n",
       "      <td>1717</td>\n",
       "      <td>0</td>\n",
       "      <td>0.236107</td>\n",
       "      <td>0</td>\n",
       "      <td>24</td>\n",
       "    </tr>\n",
       "    <tr>\n",
       "      <th>8</th>\n",
       "      <td>8398</td>\n",
       "      <td>0</td>\n",
       "      <td>0.862534</td>\n",
       "      <td>1</td>\n",
       "      <td>86</td>\n",
       "    </tr>\n",
       "    <tr>\n",
       "      <th>9</th>\n",
       "      <td>5116</td>\n",
       "      <td>1</td>\n",
       "      <td>0.236107</td>\n",
       "      <td>0</td>\n",
       "      <td>24</td>\n",
       "    </tr>\n",
       "    <tr>\n",
       "      <th>10</th>\n",
       "      <td>1838</td>\n",
       "      <td>0</td>\n",
       "      <td>0.116922</td>\n",
       "      <td>0</td>\n",
       "      <td>12</td>\n",
       "    </tr>\n",
       "    <tr>\n",
       "      <th>11</th>\n",
       "      <td>5057</td>\n",
       "      <td>1</td>\n",
       "      <td>0.535759</td>\n",
       "      <td>1</td>\n",
       "      <td>54</td>\n",
       "    </tr>\n",
       "    <tr>\n",
       "      <th>12</th>\n",
       "      <td>7015</td>\n",
       "      <td>0</td>\n",
       "      <td>0.021541</td>\n",
       "      <td>0</td>\n",
       "      <td>2</td>\n",
       "    </tr>\n",
       "    <tr>\n",
       "      <th>13</th>\n",
       "      <td>6352</td>\n",
       "      <td>0</td>\n",
       "      <td>0.241574</td>\n",
       "      <td>0</td>\n",
       "      <td>24</td>\n",
       "    </tr>\n",
       "    <tr>\n",
       "      <th>14</th>\n",
       "      <td>575</td>\n",
       "      <td>0</td>\n",
       "      <td>0.063178</td>\n",
       "      <td>0</td>\n",
       "      <td>6</td>\n",
       "    </tr>\n",
       "    <tr>\n",
       "      <th>15</th>\n",
       "      <td>4597</td>\n",
       "      <td>1</td>\n",
       "      <td>0.153390</td>\n",
       "      <td>0</td>\n",
       "      <td>15</td>\n",
       "    </tr>\n",
       "    <tr>\n",
       "      <th>16</th>\n",
       "      <td>8355</td>\n",
       "      <td>0</td>\n",
       "      <td>0.759263</td>\n",
       "      <td>1</td>\n",
       "      <td>76</td>\n",
       "    </tr>\n",
       "    <tr>\n",
       "      <th>17</th>\n",
       "      <td>8574</td>\n",
       "      <td>1</td>\n",
       "      <td>0.465776</td>\n",
       "      <td>1</td>\n",
       "      <td>47</td>\n",
       "    </tr>\n",
       "    <tr>\n",
       "      <th>18</th>\n",
       "      <td>4207</td>\n",
       "      <td>0</td>\n",
       "      <td>0.018760</td>\n",
       "      <td>0</td>\n",
       "      <td>2</td>\n",
       "    </tr>\n",
       "    <tr>\n",
       "      <th>19</th>\n",
       "      <td>4420</td>\n",
       "      <td>1</td>\n",
       "      <td>0.716327</td>\n",
       "      <td>1</td>\n",
       "      <td>72</td>\n",
       "    </tr>\n",
       "  </tbody>\n",
       "</table>\n",
       "</div>"
      ],
      "text/plain": [
       "    LeadId  Converted  Converted_Prob  final_predicted  lead_score\n",
       "0     2296          1        0.883092                1          88\n",
       "1     8697          0        0.544007                1          54\n",
       "2     7378          0        0.136465                0          14\n",
       "3     8631          0        0.434470                1          43\n",
       "4     4799          1        0.953440                1          95\n",
       "5     4503          0        0.593975                1          59\n",
       "6     7129          0        0.905945                1          91\n",
       "7     1717          0        0.236107                0          24\n",
       "8     8398          0        0.862534                1          86\n",
       "9     5116          1        0.236107                0          24\n",
       "10    1838          0        0.116922                0          12\n",
       "11    5057          1        0.535759                1          54\n",
       "12    7015          0        0.021541                0           2\n",
       "13    6352          0        0.241574                0          24\n",
       "14     575          0        0.063178                0           6\n",
       "15    4597          1        0.153390                0          15\n",
       "16    8355          0        0.759263                1          76\n",
       "17    8574          1        0.465776                1          47\n",
       "18    4207          0        0.018760                0           2\n",
       "19    4420          1        0.716327                1          72"
      ]
     },
     "execution_count": 155,
     "metadata": {},
     "output_type": "execute_result"
    }
   ],
   "source": [
    "# Now let us calculate the lead score\n",
    "\n",
    "y_pred_final['lead_score'] = y_pred_final.Converted_Prob.map(lambda x: round(x*100))\n",
    "y_pred_final.head(20)"
   ]
  },
  {
   "cell_type": "code",
   "execution_count": 156,
   "metadata": {},
   "outputs": [
    {
     "data": {
      "text/plain": [
       "1    808\n",
       "0    207\n",
       "Name: final_predicted, dtype: int64"
      ]
     },
     "execution_count": 156,
     "metadata": {},
     "output_type": "execute_result"
    }
   ],
   "source": [
    "# checking if 80% cases are correctly predicted based on the converted column.\n",
    "\n",
    "# get the total of final predicted conversion or non conversion counts from the actual converted rates\n",
    "\n",
    "checking_test_df = y_pred_final.loc[y_pred_final['Converted']==1,['Converted','final_predicted']]\n",
    "checking_test_df['final_predicted'].value_counts()"
   ]
  },
  {
   "cell_type": "code",
   "execution_count": 157,
   "metadata": {},
   "outputs": [
    {
     "data": {
      "text/plain": [
       "0.7852216748768472"
      ]
     },
     "execution_count": 157,
     "metadata": {},
     "output_type": "execute_result"
    }
   ],
   "source": [
    "# check the precentage of final_predicted conversions on test data\n",
    "\n",
    "797/float(797+218)"
   ]
  },
  {
   "cell_type": "markdown",
   "metadata": {},
   "source": [
    "##### Hence we can see that the final prediction of conversions have a target rate of 79% (78.5%) (Around 1 % short of the predictions made on training data set)"
   ]
  },
  {
   "cell_type": "markdown",
   "metadata": {},
   "source": [
    "##### Overall Metrics - Accuracy, Confusion Metrics, Sensitivity, Specificity  on test set"
   ]
  },
  {
   "cell_type": "code",
   "execution_count": 158,
   "metadata": {},
   "outputs": [
    {
     "data": {
      "text/plain": [
       "0.8113695090439277"
      ]
     },
     "execution_count": 158,
     "metadata": {},
     "output_type": "execute_result"
    }
   ],
   "source": [
    "# Let's check the accuracy.\n",
    "\n",
    "metrics.accuracy_score(y_pred_final.Converted, y_pred_final.final_predicted)"
   ]
  },
  {
   "cell_type": "code",
   "execution_count": 159,
   "metadata": {},
   "outputs": [
    {
     "data": {
      "text/plain": [
       "array([[1390,  304],\n",
       "       [ 207,  808]], dtype=int64)"
      ]
     },
     "execution_count": 159,
     "metadata": {},
     "output_type": "execute_result"
    }
   ],
   "source": [
    "confusion2 = metrics.confusion_matrix(y_pred_final.Converted, y_pred_final.final_predicted )\n",
    "confusion2"
   ]
  },
  {
   "cell_type": "code",
   "execution_count": 160,
   "metadata": {},
   "outputs": [],
   "source": [
    "TP = confusion2[1,1] # true positive \n",
    "TN = confusion2[0,0] # true negatives\n",
    "FP = confusion2[0,1] # false positives\n",
    "FN = confusion2[1,0] # false negatives"
   ]
  },
  {
   "cell_type": "code",
   "execution_count": 161,
   "metadata": {},
   "outputs": [
    {
     "data": {
      "text/plain": [
       "0.7960591133004926"
      ]
     },
     "execution_count": 161,
     "metadata": {},
     "output_type": "execute_result"
    }
   ],
   "source": [
    "# Let's see the sensitivity of our logistic regression model\n",
    "TP / float(TP+FN)"
   ]
  },
  {
   "cell_type": "code",
   "execution_count": 162,
   "metadata": {},
   "outputs": [
    {
     "data": {
      "text/plain": [
       "0.820543093270366"
      ]
     },
     "execution_count": 162,
     "metadata": {},
     "output_type": "execute_result"
    }
   ],
   "source": [
    "# Let us calculate specificity\n",
    "TN / float(TN+FP)"
   ]
  },
  {
   "cell_type": "markdown",
   "metadata": {},
   "source": [
    "##### Precision and Recall metrics for the test set "
   ]
  },
  {
   "cell_type": "code",
   "execution_count": 163,
   "metadata": {},
   "outputs": [
    {
     "name": "stdout",
     "output_type": "stream",
     "text": [
      "precision  0.7266187050359713\n",
      "recall  0.7960591133004926\n"
     ]
    }
   ],
   "source": [
    "# precision\n",
    "print('precision ',precision_score(y_pred_final.Converted, y_pred_final.final_predicted))\n",
    "\n",
    "# recall\n",
    "print('recall ',recall_score(y_pred_final.Converted, y_pred_final.final_predicted))"
   ]
  },
  {
   "cell_type": "code",
   "execution_count": 164,
   "metadata": {},
   "outputs": [
    {
     "data": {
      "image/png": "[encoded data removed]",
      "text/plain": [
       "<Figure size 432x288 with 1 Axes>"
      ]
     },
     "metadata": {
      "needs_background": "light"
     },
     "output_type": "display_data"
    }
   ],
   "source": [
    "\n",
    "p, r, thresholds = precision_recall_curve(y_pred_final.Converted, y_pred_final.Converted_Prob)\n",
    "\n",
    "plt.plot(thresholds, p[:-1], \"g-\")\n",
    "plt.plot(thresholds, r[:-1], \"r-\")\n",
    "plt.show()"
   ]
  },
  {
   "cell_type": "markdown",
   "metadata": {},
   "source": [
    "Conclusion :\n",
    "    \n",
    "    - While we have checked both Sensitivity-Specificity as well as Precision and Recall Metrics, we have considered the\n",
    "      optimal \n",
    "      cut off based on Sensitivity and Specificity for calculating the final prediction.\n",
    "    - Accuracy, Sensitivity and Specificity values of test set are around 81%, 79% and 82% which are approximately closer to \n",
    "      the respective values calculated using trained set.\n",
    "    - Also the lead score calculated in the trained set of data shows the conversion rate on the final predicted model is \n",
    "      around 80%\n",
    "    - Hence overall this model seems to be good.   "
   ]
  }
 ],
 "metadata": {
  "kernelspec": {
   "display_name": "Python 3",
   "language": "python",
   "name": "python3"
  },
  "language_info": {
   "codemirror_mode": {
    "name": "ipython",
    "version": 3
   },
   "file_extension": ".py",
   "mimetype": "text/x-python",
   "name": "python",
   "nbconvert_exporter": "python",
   "pygments_lexer": "ipython3",
   "version": "3.8.3"
  }
 },
 "nbformat": 4,
 "nbformat_minor": 2
}
